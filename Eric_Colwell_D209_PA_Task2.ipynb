{
 "cells": [
  {
   "cell_type": "code",
   "execution_count": 1,
   "id": "7ac23489",
   "metadata": {},
   "outputs": [],
   "source": [
    "# Import pandas for manipulating numerical tables\n",
    "import pandas as pd\n",
    "\n",
    "# Import numpy for numerical calculations\n",
    "import numpy as np\n",
    "\n",
    "# Import matplotlib for plotting data\n",
    "import matplotlib.pyplot as plt\n",
    "#%matplotlib inline\n",
    "\n",
    "# Import scipy-stats for statistical analysis and outlier detection\n",
    "from scipy import stats as st\n",
    "\n",
    "# Import missingno for visualizations\n",
    "import missingno as msno\n",
    "\n",
    "# Import for splitting model\n",
    "from sklearn.model_selection import train_test_split\n",
    "\n",
    "# Import for VIF scores\n",
    "from statsmodels.stats.outliers_influence import variance_inflation_factor\n",
    "\n",
    "# Import to show python version\n",
    "from platform import python_version\n",
    "\n",
    "# Import for model variable reduction\n",
    "from sklearn.feature_selection import SelectKBest\n",
    "\n",
    "# Import random forest regressor\n",
    "from sklearn.ensemble import RandomForestRegressor\n",
    "\n",
    "# Import GridSearchCV\n",
    "from sklearn.model_selection import GridSearchCV\n",
    "\n",
    "# Import scoring function to use in GridSearchCV\n",
    "from sklearn.metrics import make_scorer\n",
    "\n",
    "# Import for MSE\n",
    "from sklearn.metrics import mean_squared_error as mse\n",
    "\n",
    "# Import for the r2\n",
    "from sklearn.metrics import r2_score\n",
    "\n",
    "# Import for mean absolute error score\n",
    "from sklearn.metrics import mean_absolute_error\n",
    "\n",
    "# Model precision\n",
    "from sklearn.metrics import accuracy_score\n",
    "\n",
    "import warnings\n",
    "warnings.filterwarnings('ignore')"
   ]
  },
  {
   "cell_type": "code",
   "execution_count": 2,
   "id": "aae9432f",
   "metadata": {},
   "outputs": [
    {
     "name": "stdout",
     "output_type": "stream",
     "text": [
      "Python version used for this analysis is:  3.9.13\n"
     ]
    }
   ],
   "source": [
    "print('Python version used for this analysis is: ', python_version())"
   ]
  },
  {
   "cell_type": "code",
   "execution_count": 3,
   "id": "61933383",
   "metadata": {},
   "outputs": [],
   "source": [
    "# Importing the churn dataset\n",
    "df = pd.read_csv('C:/users/eric7/D209/churn_clean.csv')"
   ]
  },
  {
   "cell_type": "code",
   "execution_count": 4,
   "id": "6fedc77c",
   "metadata": {},
   "outputs": [
    {
     "data": {
      "text/html": [
       "<div>\n",
       "<style scoped>\n",
       "    .dataframe tbody tr th:only-of-type {\n",
       "        vertical-align: middle;\n",
       "    }\n",
       "\n",
       "    .dataframe tbody tr th {\n",
       "        vertical-align: top;\n",
       "    }\n",
       "\n",
       "    .dataframe thead th {\n",
       "        text-align: right;\n",
       "    }\n",
       "</style>\n",
       "<table border=\"1\" class=\"dataframe\">\n",
       "  <thead>\n",
       "    <tr style=\"text-align: right;\">\n",
       "      <th></th>\n",
       "      <th>CaseOrder</th>\n",
       "      <th>Customer_id</th>\n",
       "      <th>Interaction</th>\n",
       "      <th>UID</th>\n",
       "      <th>City</th>\n",
       "      <th>State</th>\n",
       "      <th>County</th>\n",
       "      <th>Zip</th>\n",
       "      <th>Lat</th>\n",
       "      <th>Lng</th>\n",
       "      <th>...</th>\n",
       "      <th>MonthlyCharge</th>\n",
       "      <th>Bandwidth_GB_Year</th>\n",
       "      <th>Item1</th>\n",
       "      <th>Item2</th>\n",
       "      <th>Item3</th>\n",
       "      <th>Item4</th>\n",
       "      <th>Item5</th>\n",
       "      <th>Item6</th>\n",
       "      <th>Item7</th>\n",
       "      <th>Item8</th>\n",
       "    </tr>\n",
       "  </thead>\n",
       "  <tbody>\n",
       "    <tr>\n",
       "      <th>0</th>\n",
       "      <td>1</td>\n",
       "      <td>K409198</td>\n",
       "      <td>aa90260b-4141-4a24-8e36-b04ce1f4f77b</td>\n",
       "      <td>e885b299883d4f9fb18e39c75155d990</td>\n",
       "      <td>Point Baker</td>\n",
       "      <td>AK</td>\n",
       "      <td>Prince of Wales-Hyder</td>\n",
       "      <td>99927</td>\n",
       "      <td>56.25100</td>\n",
       "      <td>-133.37571</td>\n",
       "      <td>...</td>\n",
       "      <td>172.455519</td>\n",
       "      <td>904.536110</td>\n",
       "      <td>5</td>\n",
       "      <td>5</td>\n",
       "      <td>5</td>\n",
       "      <td>3</td>\n",
       "      <td>4</td>\n",
       "      <td>4</td>\n",
       "      <td>3</td>\n",
       "      <td>4</td>\n",
       "    </tr>\n",
       "    <tr>\n",
       "      <th>1</th>\n",
       "      <td>2</td>\n",
       "      <td>S120509</td>\n",
       "      <td>fb76459f-c047-4a9d-8af9-e0f7d4ac2524</td>\n",
       "      <td>f2de8bef964785f41a2959829830fb8a</td>\n",
       "      <td>West Branch</td>\n",
       "      <td>MI</td>\n",
       "      <td>Ogemaw</td>\n",
       "      <td>48661</td>\n",
       "      <td>44.32893</td>\n",
       "      <td>-84.24080</td>\n",
       "      <td>...</td>\n",
       "      <td>242.632554</td>\n",
       "      <td>800.982766</td>\n",
       "      <td>3</td>\n",
       "      <td>4</td>\n",
       "      <td>3</td>\n",
       "      <td>3</td>\n",
       "      <td>4</td>\n",
       "      <td>3</td>\n",
       "      <td>4</td>\n",
       "      <td>4</td>\n",
       "    </tr>\n",
       "    <tr>\n",
       "      <th>2</th>\n",
       "      <td>3</td>\n",
       "      <td>K191035</td>\n",
       "      <td>344d114c-3736-4be5-98f7-c72c281e2d35</td>\n",
       "      <td>f1784cfa9f6d92ae816197eb175d3c71</td>\n",
       "      <td>Yamhill</td>\n",
       "      <td>OR</td>\n",
       "      <td>Yamhill</td>\n",
       "      <td>97148</td>\n",
       "      <td>45.35589</td>\n",
       "      <td>-123.24657</td>\n",
       "      <td>...</td>\n",
       "      <td>159.947583</td>\n",
       "      <td>2054.706961</td>\n",
       "      <td>4</td>\n",
       "      <td>4</td>\n",
       "      <td>2</td>\n",
       "      <td>4</td>\n",
       "      <td>4</td>\n",
       "      <td>3</td>\n",
       "      <td>3</td>\n",
       "      <td>3</td>\n",
       "    </tr>\n",
       "    <tr>\n",
       "      <th>3</th>\n",
       "      <td>4</td>\n",
       "      <td>D90850</td>\n",
       "      <td>abfa2b40-2d43-4994-b15a-989b8c79e311</td>\n",
       "      <td>dc8a365077241bb5cd5ccd305136b05e</td>\n",
       "      <td>Del Mar</td>\n",
       "      <td>CA</td>\n",
       "      <td>San Diego</td>\n",
       "      <td>92014</td>\n",
       "      <td>32.96687</td>\n",
       "      <td>-117.24798</td>\n",
       "      <td>...</td>\n",
       "      <td>119.956840</td>\n",
       "      <td>2164.579412</td>\n",
       "      <td>4</td>\n",
       "      <td>4</td>\n",
       "      <td>4</td>\n",
       "      <td>2</td>\n",
       "      <td>5</td>\n",
       "      <td>4</td>\n",
       "      <td>3</td>\n",
       "      <td>3</td>\n",
       "    </tr>\n",
       "    <tr>\n",
       "      <th>4</th>\n",
       "      <td>5</td>\n",
       "      <td>K662701</td>\n",
       "      <td>68a861fd-0d20-4e51-a587-8a90407ee574</td>\n",
       "      <td>aabb64a116e83fdc4befc1fbab1663f9</td>\n",
       "      <td>Needville</td>\n",
       "      <td>TX</td>\n",
       "      <td>Fort Bend</td>\n",
       "      <td>77461</td>\n",
       "      <td>29.38012</td>\n",
       "      <td>-95.80673</td>\n",
       "      <td>...</td>\n",
       "      <td>149.948316</td>\n",
       "      <td>271.493436</td>\n",
       "      <td>4</td>\n",
       "      <td>4</td>\n",
       "      <td>4</td>\n",
       "      <td>3</td>\n",
       "      <td>4</td>\n",
       "      <td>4</td>\n",
       "      <td>4</td>\n",
       "      <td>5</td>\n",
       "    </tr>\n",
       "  </tbody>\n",
       "</table>\n",
       "<p>5 rows × 50 columns</p>\n",
       "</div>"
      ],
      "text/plain": [
       "   CaseOrder Customer_id                           Interaction  \\\n",
       "0          1     K409198  aa90260b-4141-4a24-8e36-b04ce1f4f77b   \n",
       "1          2     S120509  fb76459f-c047-4a9d-8af9-e0f7d4ac2524   \n",
       "2          3     K191035  344d114c-3736-4be5-98f7-c72c281e2d35   \n",
       "3          4      D90850  abfa2b40-2d43-4994-b15a-989b8c79e311   \n",
       "4          5     K662701  68a861fd-0d20-4e51-a587-8a90407ee574   \n",
       "\n",
       "                                UID         City State                 County  \\\n",
       "0  e885b299883d4f9fb18e39c75155d990  Point Baker    AK  Prince of Wales-Hyder   \n",
       "1  f2de8bef964785f41a2959829830fb8a  West Branch    MI                 Ogemaw   \n",
       "2  f1784cfa9f6d92ae816197eb175d3c71      Yamhill    OR                Yamhill   \n",
       "3  dc8a365077241bb5cd5ccd305136b05e      Del Mar    CA              San Diego   \n",
       "4  aabb64a116e83fdc4befc1fbab1663f9    Needville    TX              Fort Bend   \n",
       "\n",
       "     Zip       Lat        Lng  ...  MonthlyCharge Bandwidth_GB_Year Item1  \\\n",
       "0  99927  56.25100 -133.37571  ...     172.455519        904.536110     5   \n",
       "1  48661  44.32893  -84.24080  ...     242.632554        800.982766     3   \n",
       "2  97148  45.35589 -123.24657  ...     159.947583       2054.706961     4   \n",
       "3  92014  32.96687 -117.24798  ...     119.956840       2164.579412     4   \n",
       "4  77461  29.38012  -95.80673  ...     149.948316        271.493436     4   \n",
       "\n",
       "  Item2  Item3  Item4  Item5 Item6 Item7 Item8  \n",
       "0     5      5      3      4     4     3     4  \n",
       "1     4      3      3      4     3     4     4  \n",
       "2     4      2      4      4     3     3     3  \n",
       "3     4      4      2      5     4     3     3  \n",
       "4     4      4      3      4     4     4     5  \n",
       "\n",
       "[5 rows x 50 columns]"
      ]
     },
     "execution_count": 4,
     "metadata": {},
     "output_type": "execute_result"
    }
   ],
   "source": [
    "# Just checking to see if the data is there\n",
    "df.head()"
   ]
  },
  {
   "cell_type": "code",
   "execution_count": 5,
   "id": "e3a224a3",
   "metadata": {},
   "outputs": [
    {
     "name": "stdout",
     "output_type": "stream",
     "text": [
      "(10000, 50)\n"
     ]
    }
   ],
   "source": [
    "# Check shape of df\n",
    "print(df.shape)\n",
    "# 10000 rows or instances and 50 columns or variables"
   ]
  },
  {
   "cell_type": "code",
   "execution_count": 6,
   "id": "8e0ab2be",
   "metadata": {},
   "outputs": [
    {
     "name": "stdout",
     "output_type": "stream",
     "text": [
      "<class 'pandas.core.frame.DataFrame'>\n",
      "RangeIndex: 10000 entries, 0 to 9999\n",
      "Data columns (total 50 columns):\n",
      " #   Column                Non-Null Count  Dtype  \n",
      "---  ------                --------------  -----  \n",
      " 0   CaseOrder             10000 non-null  int64  \n",
      " 1   Customer_id           10000 non-null  object \n",
      " 2   Interaction           10000 non-null  object \n",
      " 3   UID                   10000 non-null  object \n",
      " 4   City                  10000 non-null  object \n",
      " 5   State                 10000 non-null  object \n",
      " 6   County                10000 non-null  object \n",
      " 7   Zip                   10000 non-null  int64  \n",
      " 8   Lat                   10000 non-null  float64\n",
      " 9   Lng                   10000 non-null  float64\n",
      " 10  Population            10000 non-null  int64  \n",
      " 11  Area                  10000 non-null  object \n",
      " 12  TimeZone              10000 non-null  object \n",
      " 13  Job                   10000 non-null  object \n",
      " 14  Children              10000 non-null  int64  \n",
      " 15  Age                   10000 non-null  int64  \n",
      " 16  Income                10000 non-null  float64\n",
      " 17  Marital               10000 non-null  object \n",
      " 18  Gender                10000 non-null  object \n",
      " 19  Churn                 10000 non-null  object \n",
      " 20  Outage_sec_perweek    10000 non-null  float64\n",
      " 21  Email                 10000 non-null  int64  \n",
      " 22  Contacts              10000 non-null  int64  \n",
      " 23  Yearly_equip_failure  10000 non-null  int64  \n",
      " 24  Techie                10000 non-null  object \n",
      " 25  Contract              10000 non-null  object \n",
      " 26  Port_modem            10000 non-null  object \n",
      " 27  Tablet                10000 non-null  object \n",
      " 28  InternetService       10000 non-null  object \n",
      " 29  Phone                 10000 non-null  object \n",
      " 30  Multiple              10000 non-null  object \n",
      " 31  OnlineSecurity        10000 non-null  object \n",
      " 32  OnlineBackup          10000 non-null  object \n",
      " 33  DeviceProtection      10000 non-null  object \n",
      " 34  TechSupport           10000 non-null  object \n",
      " 35  StreamingTV           10000 non-null  object \n",
      " 36  StreamingMovies       10000 non-null  object \n",
      " 37  PaperlessBilling      10000 non-null  object \n",
      " 38  PaymentMethod         10000 non-null  object \n",
      " 39  Tenure                10000 non-null  float64\n",
      " 40  MonthlyCharge         10000 non-null  float64\n",
      " 41  Bandwidth_GB_Year     10000 non-null  float64\n",
      " 42  Item1                 10000 non-null  int64  \n",
      " 43  Item2                 10000 non-null  int64  \n",
      " 44  Item3                 10000 non-null  int64  \n",
      " 45  Item4                 10000 non-null  int64  \n",
      " 46  Item5                 10000 non-null  int64  \n",
      " 47  Item6                 10000 non-null  int64  \n",
      " 48  Item7                 10000 non-null  int64  \n",
      " 49  Item8                 10000 non-null  int64  \n",
      "dtypes: float64(7), int64(16), object(27)\n",
      "memory usage: 3.8+ MB\n",
      "None\n"
     ]
    }
   ],
   "source": [
    "# Check df info\n",
    "print(df.info())"
   ]
  },
  {
   "cell_type": "code",
   "execution_count": 7,
   "id": "9b588627",
   "metadata": {},
   "outputs": [
    {
     "data": {
      "image/png": "[encoded data removed]",
      "text/plain": [
       "<Figure size 2500x1000 with 2 Axes>"
      ]
     },
     "metadata": {},
     "output_type": "display_data"
    }
   ],
   "source": [
    "# Visualize df for missingness\n",
    "msno.matrix(df, labels = True)\n",
    "plt.show()"
   ]
  },
  {
   "cell_type": "code",
   "execution_count": 8,
   "id": "8660ebb9",
   "metadata": {},
   "outputs": [
    {
     "data": {
      "text/plain": [
       "0"
      ]
     },
     "execution_count": 8,
     "metadata": {},
     "output_type": "execute_result"
    }
   ],
   "source": [
    "# Check for duplicates\n",
    "df.duplicated().sum()"
   ]
  },
  {
   "cell_type": "code",
   "execution_count": 9,
   "id": "8da7d994",
   "metadata": {},
   "outputs": [],
   "source": [
    "# Create a copy of df to preserve original\n",
    "df1 = df.copy()"
   ]
  },
  {
   "cell_type": "code",
   "execution_count": 10,
   "id": "6f0bf171",
   "metadata": {},
   "outputs": [],
   "source": [
    "# Create df1 for initial model--\n",
    "# Dropping columns CaseOrder, Customer_id, Interaction_UID, City,\n",
    "# State, County, Zip, Lat, Lng, TimeZone, Job, and Item1 thru Item8\n",
    "df1 = df1[['Population', 'Area', 'Children', 'Age', 'Income', 'Marital', \n",
    "           'Gender', 'Churn', 'Outage_sec_perweek', 'Email', 'Contacts', \n",
    "           'Yearly_equip_failure', 'Techie', 'Contract', 'Port_modem',\n",
    "           'Tablet', 'InternetService', 'Phone', 'Multiple', \n",
    "           'OnlineSecurity', 'OnlineBackup', 'DeviceProtection', \n",
    "           'TechSupport', 'StreamingTV', 'StreamingMovies', \n",
    "           'PaperlessBilling', 'PaymentMethod', 'Tenure', \n",
    "           'MonthlyCharge', 'Bandwidth_GB_Year']]"
   ]
  },
  {
   "cell_type": "code",
   "execution_count": 11,
   "id": "5fc36980",
   "metadata": {},
   "outputs": [
    {
     "name": "stdout",
     "output_type": "stream",
     "text": [
      "<class 'pandas.core.frame.DataFrame'>\n",
      "RangeIndex: 10000 entries, 0 to 9999\n",
      "Data columns (total 30 columns):\n",
      " #   Column                Non-Null Count  Dtype  \n",
      "---  ------                --------------  -----  \n",
      " 0   Population            10000 non-null  int64  \n",
      " 1   Area                  10000 non-null  object \n",
      " 2   Children              10000 non-null  int64  \n",
      " 3   Age                   10000 non-null  int64  \n",
      " 4   Income                10000 non-null  float64\n",
      " 5   Marital               10000 non-null  object \n",
      " 6   Gender                10000 non-null  object \n",
      " 7   Churn                 10000 non-null  object \n",
      " 8   Outage_sec_perweek    10000 non-null  float64\n",
      " 9   Email                 10000 non-null  int64  \n",
      " 10  Contacts              10000 non-null  int64  \n",
      " 11  Yearly_equip_failure  10000 non-null  int64  \n",
      " 12  Techie                10000 non-null  object \n",
      " 13  Contract              10000 non-null  object \n",
      " 14  Port_modem            10000 non-null  object \n",
      " 15  Tablet                10000 non-null  object \n",
      " 16  InternetService       10000 non-null  object \n",
      " 17  Phone                 10000 non-null  object \n",
      " 18  Multiple              10000 non-null  object \n",
      " 19  OnlineSecurity        10000 non-null  object \n",
      " 20  OnlineBackup          10000 non-null  object \n",
      " 21  DeviceProtection      10000 non-null  object \n",
      " 22  TechSupport           10000 non-null  object \n",
      " 23  StreamingTV           10000 non-null  object \n",
      " 24  StreamingMovies       10000 non-null  object \n",
      " 25  PaperlessBilling      10000 non-null  object \n",
      " 26  PaymentMethod         10000 non-null  object \n",
      " 27  Tenure                10000 non-null  float64\n",
      " 28  MonthlyCharge         10000 non-null  float64\n",
      " 29  Bandwidth_GB_Year     10000 non-null  float64\n",
      "dtypes: float64(5), int64(6), object(19)\n",
      "memory usage: 2.3+ MB\n"
     ]
    }
   ],
   "source": [
    "# Check the info\n",
    "df1.info()"
   ]
  },
  {
   "cell_type": "code",
   "execution_count": 12,
   "id": "70bf42c0",
   "metadata": {},
   "outputs": [
    {
     "data": {
      "text/plain": [
       "(10000, 30)"
      ]
     },
     "execution_count": 12,
     "metadata": {},
     "output_type": "execute_result"
    }
   ],
   "source": [
    "# Checking shape for initial model\n",
    "df1.shape"
   ]
  },
  {
   "cell_type": "code",
   "execution_count": 13,
   "id": "30b468f6",
   "metadata": {},
   "outputs": [
    {
     "name": "stdout",
     "output_type": "stream",
     "text": [
      "[     0      2      4 ... 102433 103732 111850]\n"
     ]
    }
   ],
   "source": [
    "# Checking variables unique values for validity\n",
    "print(df1['Population'].sort_values().unique())"
   ]
  },
  {
   "cell_type": "code",
   "execution_count": 14,
   "id": "0511f1bb",
   "metadata": {},
   "outputs": [
    {
     "data": {
      "text/plain": [
       "count     10000.000000\n",
       "mean       9756.562400\n",
       "std       14432.698671\n",
       "min           0.000000\n",
       "25%         738.000000\n",
       "50%        2910.500000\n",
       "75%       13168.000000\n",
       "max      111850.000000\n",
       "Name: Population, dtype: float64"
      ]
     },
     "execution_count": 14,
     "metadata": {},
     "output_type": "execute_result"
    }
   ],
   "source": [
    "# Check before replacement\n",
    "df1['Population'].describe()"
   ]
  },
  {
   "cell_type": "code",
   "execution_count": 15,
   "id": "9e6f42a1",
   "metadata": {},
   "outputs": [
    {
     "name": "stdout",
     "output_type": "stream",
     "text": [
      "['Rural' 'Suburban' 'Urban']\n"
     ]
    }
   ],
   "source": [
    "# Checking variables unique values for validity\n",
    "print(df1['Area'].sort_values().unique())"
   ]
  },
  {
   "cell_type": "code",
   "execution_count": 16,
   "id": "e2029277",
   "metadata": {},
   "outputs": [
    {
     "data": {
      "text/plain": [
       "count        10000\n",
       "unique           3\n",
       "top       Suburban\n",
       "freq          3346\n",
       "Name: Area, dtype: object"
      ]
     },
     "execution_count": 16,
     "metadata": {},
     "output_type": "execute_result"
    }
   ],
   "source": [
    "# Check before replacement\n",
    "df1['Area'].describe()"
   ]
  },
  {
   "cell_type": "code",
   "execution_count": 17,
   "id": "7db3f757",
   "metadata": {},
   "outputs": [
    {
     "data": {
      "text/plain": [
       "Suburban    3346\n",
       "Urban       3327\n",
       "Rural       3327\n",
       "Name: Area, dtype: int64"
      ]
     },
     "execution_count": 17,
     "metadata": {},
     "output_type": "execute_result"
    }
   ],
   "source": [
    "# Get the counts for each\n",
    "df1['Area'].value_counts()"
   ]
  },
  {
   "cell_type": "code",
   "execution_count": 18,
   "id": "e5cc3344",
   "metadata": {},
   "outputs": [
    {
     "name": "stdout",
     "output_type": "stream",
     "text": [
      "[ 0  1  2  3  4  5  6  7  8  9 10]\n"
     ]
    }
   ],
   "source": [
    "# Checking variables unique values for validity\n",
    "print(df1['Children'].sort_values().unique())"
   ]
  },
  {
   "cell_type": "code",
   "execution_count": 19,
   "id": "45045fd4",
   "metadata": {},
   "outputs": [
    {
     "data": {
      "text/plain": [
       "count    10000.0000\n",
       "mean         2.0877\n",
       "std          2.1472\n",
       "min          0.0000\n",
       "25%          0.0000\n",
       "50%          1.0000\n",
       "75%          3.0000\n",
       "max         10.0000\n",
       "Name: Children, dtype: float64"
      ]
     },
     "execution_count": 19,
     "metadata": {},
     "output_type": "execute_result"
    }
   ],
   "source": [
    "# Get statistics of the variable\n",
    "df1['Children'].describe()"
   ]
  },
  {
   "cell_type": "code",
   "execution_count": 20,
   "id": "3f2b905e",
   "metadata": {},
   "outputs": [
    {
     "name": "stdout",
     "output_type": "stream",
     "text": [
      "[18 19 20 21 22 23 24 25 26 27 28 29 30 31 32 33 34 35 36 37 38 39 40 41\n",
      " 42 43 44 45 46 47 48 49 50 51 52 53 54 55 56 57 58 59 60 61 62 63 64 65\n",
      " 66 67 68 69 70 71 72 73 74 75 76 77 78 79 80 81 82 83 84 85 86 87 88 89]\n"
     ]
    }
   ],
   "source": [
    "# Checking variables unique values for validity\n",
    "print(df1['Age'].sort_values().unique())"
   ]
  },
  {
   "cell_type": "code",
   "execution_count": 21,
   "id": "1c9b4248",
   "metadata": {},
   "outputs": [
    {
     "data": {
      "text/plain": [
       "count    10000.000000\n",
       "mean        53.078400\n",
       "std         20.698882\n",
       "min         18.000000\n",
       "25%         35.000000\n",
       "50%         53.000000\n",
       "75%         71.000000\n",
       "max         89.000000\n",
       "Name: Age, dtype: float64"
      ]
     },
     "execution_count": 21,
     "metadata": {},
     "output_type": "execute_result"
    }
   ],
   "source": [
    "# Get statistics of the variable\n",
    "df1['Age'].describe()"
   ]
  },
  {
   "cell_type": "code",
   "execution_count": 22,
   "id": "127cc3e8",
   "metadata": {},
   "outputs": [
    {
     "name": "stdout",
     "output_type": "stream",
     "text": [
      "[   348.67    368.5     630.24 ... 231252.   256998.4  258900.7 ]\n"
     ]
    }
   ],
   "source": [
    "# Checking variables unique values for validity\n",
    "print(df1['Income'].sort_values().unique())"
   ]
  },
  {
   "cell_type": "code",
   "execution_count": 23,
   "id": "b9e71e25",
   "metadata": {},
   "outputs": [
    {
     "data": {
      "text/plain": [
       "count     10000.000000\n",
       "mean      39806.926771\n",
       "std       28199.916702\n",
       "min         348.670000\n",
       "25%       19224.717500\n",
       "50%       33170.605000\n",
       "75%       53246.170000\n",
       "max      258900.700000\n",
       "Name: Income, dtype: float64"
      ]
     },
     "execution_count": 23,
     "metadata": {},
     "output_type": "execute_result"
    }
   ],
   "source": [
    "# Get statistics of the variable\n",
    "df1['Income'].describe()"
   ]
  },
  {
   "cell_type": "code",
   "execution_count": 24,
   "id": "6fce2324",
   "metadata": {},
   "outputs": [
    {
     "name": "stdout",
     "output_type": "stream",
     "text": [
      "['Divorced' 'Married' 'Never Married' 'Separated' 'Widowed']\n"
     ]
    }
   ],
   "source": [
    "# Checking variables unique values for validity\n",
    "print(df1['Marital'].sort_values().unique())"
   ]
  },
  {
   "cell_type": "code",
   "execution_count": 25,
   "id": "d17ebb90",
   "metadata": {},
   "outputs": [
    {
     "data": {
      "text/plain": [
       "count        10000\n",
       "unique           5\n",
       "top       Divorced\n",
       "freq          2092\n",
       "Name: Marital, dtype: object"
      ]
     },
     "execution_count": 25,
     "metadata": {},
     "output_type": "execute_result"
    }
   ],
   "source": [
    "# Get statistics of the variable\n",
    "df1['Marital'].describe()"
   ]
  },
  {
   "cell_type": "code",
   "execution_count": 26,
   "id": "0b41ac8b",
   "metadata": {},
   "outputs": [
    {
     "data": {
      "text/plain": [
       "Divorced         2092\n",
       "Widowed          2027\n",
       "Separated        2014\n",
       "Never Married    1956\n",
       "Married          1911\n",
       "Name: Marital, dtype: int64"
      ]
     },
     "execution_count": 26,
     "metadata": {},
     "output_type": "execute_result"
    }
   ],
   "source": [
    "# Get the counts for each\n",
    "df1['Marital'].value_counts()"
   ]
  },
  {
   "cell_type": "code",
   "execution_count": 27,
   "id": "bfe849c4",
   "metadata": {},
   "outputs": [
    {
     "name": "stdout",
     "output_type": "stream",
     "text": [
      "['Female' 'Male' 'Nonbinary']\n"
     ]
    }
   ],
   "source": [
    "# Checking variables unique values for validity\n",
    "print(df1['Gender'].sort_values().unique())"
   ]
  },
  {
   "cell_type": "code",
   "execution_count": 28,
   "id": "f2bd5b86",
   "metadata": {},
   "outputs": [
    {
     "data": {
      "text/plain": [
       "count      10000\n",
       "unique         3\n",
       "top       Female\n",
       "freq        5025\n",
       "Name: Gender, dtype: object"
      ]
     },
     "execution_count": 28,
     "metadata": {},
     "output_type": "execute_result"
    }
   ],
   "source": [
    "# Get statistics of the variable\n",
    "df1['Gender'].describe()"
   ]
  },
  {
   "cell_type": "code",
   "execution_count": 29,
   "id": "ad635c75",
   "metadata": {},
   "outputs": [
    {
     "data": {
      "text/plain": [
       "Female       5025\n",
       "Male         4744\n",
       "Nonbinary     231\n",
       "Name: Gender, dtype: int64"
      ]
     },
     "execution_count": 29,
     "metadata": {},
     "output_type": "execute_result"
    }
   ],
   "source": [
    "# Get the counts for each\n",
    "df1['Gender'].value_counts()"
   ]
  },
  {
   "cell_type": "code",
   "execution_count": 30,
   "id": "6aaa91e3",
   "metadata": {},
   "outputs": [
    {
     "name": "stdout",
     "output_type": "stream",
     "text": [
      "['No' 'Yes']\n"
     ]
    }
   ],
   "source": [
    "# Checking variables unique values for validity\n",
    "print(df1['Churn'].sort_values().unique())"
   ]
  },
  {
   "cell_type": "code",
   "execution_count": 31,
   "id": "5437faf2",
   "metadata": {},
   "outputs": [
    {
     "data": {
      "text/plain": [
       "count     10000\n",
       "unique        2\n",
       "top          No\n",
       "freq       7350\n",
       "Name: Churn, dtype: object"
      ]
     },
     "execution_count": 31,
     "metadata": {},
     "output_type": "execute_result"
    }
   ],
   "source": [
    "# Get statistics of the variable\n",
    "df1['Churn'].describe()"
   ]
  },
  {
   "cell_type": "code",
   "execution_count": 32,
   "id": "54f41e91",
   "metadata": {},
   "outputs": [
    {
     "data": {
      "text/plain": [
       "No     7350\n",
       "Yes    2650\n",
       "Name: Churn, dtype: int64"
      ]
     },
     "execution_count": 32,
     "metadata": {},
     "output_type": "execute_result"
    }
   ],
   "source": [
    "# Get the counts for each\n",
    "df1['Churn'].value_counts()"
   ]
  },
  {
   "cell_type": "code",
   "execution_count": 33,
   "id": "4cc749f7",
   "metadata": {},
   "outputs": [
    {
     "name": "stdout",
     "output_type": "stream",
     "text": [
      "[ 0.09974694  0.12005772  0.2322795  ... 20.30462    20.62504\n",
      " 21.20723   ]\n"
     ]
    }
   ],
   "source": [
    "# Checking variables unique values for validity\n",
    "print(df1['Outage_sec_perweek'].sort_values().unique())"
   ]
  },
  {
   "cell_type": "code",
   "execution_count": 34,
   "id": "252aacf4",
   "metadata": {},
   "outputs": [
    {
     "data": {
      "text/plain": [
       "count    10000.000000\n",
       "mean        10.001848\n",
       "std          2.976019\n",
       "min          0.099747\n",
       "25%          8.018214\n",
       "50%         10.018560\n",
       "75%         11.969485\n",
       "max         21.207230\n",
       "Name: Outage_sec_perweek, dtype: float64"
      ]
     },
     "execution_count": 34,
     "metadata": {},
     "output_type": "execute_result"
    }
   ],
   "source": [
    "# Get statistics of the variable\n",
    "df1['Outage_sec_perweek'].describe()"
   ]
  },
  {
   "cell_type": "code",
   "execution_count": 35,
   "id": "f92d1442",
   "metadata": {},
   "outputs": [
    {
     "name": "stdout",
     "output_type": "stream",
     "text": [
      "[ 1  2  3  4  5  6  7  8  9 10 11 12 13 14 15 16 17 18 19 20 21 22 23]\n"
     ]
    }
   ],
   "source": [
    "# Checking variables unique values for validity\n",
    "print(df1['Email'].sort_values().unique())"
   ]
  },
  {
   "cell_type": "code",
   "execution_count": 36,
   "id": "846e9a51",
   "metadata": {},
   "outputs": [
    {
     "data": {
      "text/plain": [
       "count    10000.000000\n",
       "mean        12.016000\n",
       "std          3.025898\n",
       "min          1.000000\n",
       "25%         10.000000\n",
       "50%         12.000000\n",
       "75%         14.000000\n",
       "max         23.000000\n",
       "Name: Email, dtype: float64"
      ]
     },
     "execution_count": 36,
     "metadata": {},
     "output_type": "execute_result"
    }
   ],
   "source": [
    "# Get statistics of the variable\n",
    "df1['Email'].describe()"
   ]
  },
  {
   "cell_type": "code",
   "execution_count": 37,
   "id": "49a9d72c",
   "metadata": {},
   "outputs": [
    {
     "name": "stdout",
     "output_type": "stream",
     "text": [
      "[0 1 2 3 4 5 6 7]\n"
     ]
    }
   ],
   "source": [
    "# Checking variables unique values for validity\n",
    "print(df1['Contacts'].sort_values().unique())"
   ]
  },
  {
   "cell_type": "code",
   "execution_count": 38,
   "id": "30108553",
   "metadata": {},
   "outputs": [
    {
     "data": {
      "text/plain": [
       "count    10000.000000\n",
       "mean         0.994200\n",
       "std          0.988466\n",
       "min          0.000000\n",
       "25%          0.000000\n",
       "50%          1.000000\n",
       "75%          2.000000\n",
       "max          7.000000\n",
       "Name: Contacts, dtype: float64"
      ]
     },
     "execution_count": 38,
     "metadata": {},
     "output_type": "execute_result"
    }
   ],
   "source": [
    "# Get statistics of the variable\n",
    "df1['Contacts'].describe()"
   ]
  },
  {
   "cell_type": "code",
   "execution_count": 39,
   "id": "74638de0",
   "metadata": {},
   "outputs": [
    {
     "name": "stdout",
     "output_type": "stream",
     "text": [
      "[0 1 2 3 4 6]\n"
     ]
    }
   ],
   "source": [
    "# Checking variables unique values for validity\n",
    "print(df1['Yearly_equip_failure'].sort_values().unique())"
   ]
  },
  {
   "cell_type": "code",
   "execution_count": 40,
   "id": "b3aabdd9",
   "metadata": {},
   "outputs": [
    {
     "data": {
      "text/plain": [
       "count    10000.000000\n",
       "mean         0.398000\n",
       "std          0.635953\n",
       "min          0.000000\n",
       "25%          0.000000\n",
       "50%          0.000000\n",
       "75%          1.000000\n",
       "max          6.000000\n",
       "Name: Yearly_equip_failure, dtype: float64"
      ]
     },
     "execution_count": 40,
     "metadata": {},
     "output_type": "execute_result"
    }
   ],
   "source": [
    "# Get statistics of the variable\n",
    "df1['Yearly_equip_failure'].describe()"
   ]
  },
  {
   "cell_type": "code",
   "execution_count": 41,
   "id": "da6f191b",
   "metadata": {},
   "outputs": [
    {
     "name": "stdout",
     "output_type": "stream",
     "text": [
      "['No' 'Yes']\n"
     ]
    }
   ],
   "source": [
    "# Checking variables unique values for validity\n",
    "print(df1['Techie'].sort_values().unique())"
   ]
  },
  {
   "cell_type": "code",
   "execution_count": 42,
   "id": "a25dc498",
   "metadata": {},
   "outputs": [
    {
     "data": {
      "text/plain": [
       "count     10000\n",
       "unique        2\n",
       "top          No\n",
       "freq       8321\n",
       "Name: Techie, dtype: object"
      ]
     },
     "execution_count": 42,
     "metadata": {},
     "output_type": "execute_result"
    }
   ],
   "source": [
    "# Get statistics of the variable\n",
    "df1['Techie'].describe()"
   ]
  },
  {
   "cell_type": "code",
   "execution_count": 43,
   "id": "55e9a3d5",
   "metadata": {},
   "outputs": [
    {
     "data": {
      "text/plain": [
       "No     8321\n",
       "Yes    1679\n",
       "Name: Techie, dtype: int64"
      ]
     },
     "execution_count": 43,
     "metadata": {},
     "output_type": "execute_result"
    }
   ],
   "source": [
    "# Get the counts for each\n",
    "df1['Techie'].value_counts()"
   ]
  },
  {
   "cell_type": "code",
   "execution_count": 44,
   "id": "c31e8ff1",
   "metadata": {},
   "outputs": [
    {
     "name": "stdout",
     "output_type": "stream",
     "text": [
      "['Month-to-month' 'One year' 'Two Year']\n"
     ]
    }
   ],
   "source": [
    "# Checking variables unique values for validity\n",
    "print(df1['Contract'].sort_values().unique())"
   ]
  },
  {
   "cell_type": "code",
   "execution_count": 45,
   "id": "5c3a2c6b",
   "metadata": {},
   "outputs": [
    {
     "data": {
      "text/plain": [
       "count              10000\n",
       "unique                 3\n",
       "top       Month-to-month\n",
       "freq                5456\n",
       "Name: Contract, dtype: object"
      ]
     },
     "execution_count": 45,
     "metadata": {},
     "output_type": "execute_result"
    }
   ],
   "source": [
    "# Get statistics of the variable\n",
    "df1['Contract'].describe()"
   ]
  },
  {
   "cell_type": "code",
   "execution_count": 46,
   "id": "eab35262",
   "metadata": {},
   "outputs": [
    {
     "data": {
      "text/plain": [
       "Month-to-month    5456\n",
       "Two Year          2442\n",
       "One year          2102\n",
       "Name: Contract, dtype: int64"
      ]
     },
     "execution_count": 46,
     "metadata": {},
     "output_type": "execute_result"
    }
   ],
   "source": [
    "# Get the counts for each\n",
    "df1['Contract'].value_counts()"
   ]
  },
  {
   "cell_type": "code",
   "execution_count": 47,
   "id": "0a73cc0e",
   "metadata": {},
   "outputs": [
    {
     "name": "stdout",
     "output_type": "stream",
     "text": [
      "['No' 'Yes']\n"
     ]
    }
   ],
   "source": [
    "# Checking variables unique values for validity\n",
    "print(df1['Port_modem'].sort_values().unique())"
   ]
  },
  {
   "cell_type": "code",
   "execution_count": 48,
   "id": "4d9c49e2",
   "metadata": {},
   "outputs": [
    {
     "data": {
      "text/plain": [
       "count     10000\n",
       "unique        2\n",
       "top          No\n",
       "freq       5166\n",
       "Name: Port_modem, dtype: object"
      ]
     },
     "execution_count": 48,
     "metadata": {},
     "output_type": "execute_result"
    }
   ],
   "source": [
    "# Get statistics of the variable\n",
    "df1['Port_modem'].describe()"
   ]
  },
  {
   "cell_type": "code",
   "execution_count": 49,
   "id": "6d6129e7",
   "metadata": {},
   "outputs": [
    {
     "data": {
      "text/plain": [
       "No     5166\n",
       "Yes    4834\n",
       "Name: Port_modem, dtype: int64"
      ]
     },
     "execution_count": 49,
     "metadata": {},
     "output_type": "execute_result"
    }
   ],
   "source": [
    "# Get the counts for each\n",
    "df1['Port_modem'].value_counts()"
   ]
  },
  {
   "cell_type": "code",
   "execution_count": 50,
   "id": "44aabfb0",
   "metadata": {},
   "outputs": [
    {
     "name": "stdout",
     "output_type": "stream",
     "text": [
      "['No' 'Yes']\n"
     ]
    }
   ],
   "source": [
    "# Checking variables unique values for validity\n",
    "print(df1['Tablet'].sort_values().unique())"
   ]
  },
  {
   "cell_type": "code",
   "execution_count": 51,
   "id": "96620a82",
   "metadata": {},
   "outputs": [
    {
     "data": {
      "text/plain": [
       "count     10000\n",
       "unique        2\n",
       "top          No\n",
       "freq       7009\n",
       "Name: Tablet, dtype: object"
      ]
     },
     "execution_count": 51,
     "metadata": {},
     "output_type": "execute_result"
    }
   ],
   "source": [
    "# Get statistics of the variable\n",
    "df1['Tablet'].describe()"
   ]
  },
  {
   "cell_type": "code",
   "execution_count": 52,
   "id": "0c7a55af",
   "metadata": {},
   "outputs": [
    {
     "data": {
      "text/plain": [
       "No     7009\n",
       "Yes    2991\n",
       "Name: Tablet, dtype: int64"
      ]
     },
     "execution_count": 52,
     "metadata": {},
     "output_type": "execute_result"
    }
   ],
   "source": [
    "# Get the counts for each\n",
    "df1['Tablet'].value_counts()"
   ]
  },
  {
   "cell_type": "code",
   "execution_count": 53,
   "id": "9531a469",
   "metadata": {},
   "outputs": [
    {
     "name": "stdout",
     "output_type": "stream",
     "text": [
      "['DSL' 'Fiber Optic' 'None']\n"
     ]
    }
   ],
   "source": [
    "# Checking variables unique values for validity\n",
    "print(df1['InternetService'].sort_values().unique())"
   ]
  },
  {
   "cell_type": "code",
   "execution_count": 54,
   "id": "e2bb30dd",
   "metadata": {},
   "outputs": [
    {
     "data": {
      "text/plain": [
       "count           10000\n",
       "unique              3\n",
       "top       Fiber Optic\n",
       "freq             4408\n",
       "Name: InternetService, dtype: object"
      ]
     },
     "execution_count": 54,
     "metadata": {},
     "output_type": "execute_result"
    }
   ],
   "source": [
    "# Get statistics of the variable\n",
    "df1['InternetService'].describe()"
   ]
  },
  {
   "cell_type": "code",
   "execution_count": 55,
   "id": "eab36b70",
   "metadata": {},
   "outputs": [
    {
     "data": {
      "text/plain": [
       "Fiber Optic    4408\n",
       "DSL            3463\n",
       "None           2129\n",
       "Name: InternetService, dtype: int64"
      ]
     },
     "execution_count": 55,
     "metadata": {},
     "output_type": "execute_result"
    }
   ],
   "source": [
    "# Get the counts for each\n",
    "df1['InternetService'].value_counts()"
   ]
  },
  {
   "cell_type": "code",
   "execution_count": 56,
   "id": "0043abad",
   "metadata": {},
   "outputs": [
    {
     "name": "stdout",
     "output_type": "stream",
     "text": [
      "['No' 'Yes']\n"
     ]
    }
   ],
   "source": [
    "# Checking variables unique values for validity\n",
    "print(df1['Phone'].sort_values().unique())"
   ]
  },
  {
   "cell_type": "code",
   "execution_count": 57,
   "id": "815491a7",
   "metadata": {},
   "outputs": [
    {
     "data": {
      "text/plain": [
       "count     10000\n",
       "unique        2\n",
       "top         Yes\n",
       "freq       9067\n",
       "Name: Phone, dtype: object"
      ]
     },
     "execution_count": 57,
     "metadata": {},
     "output_type": "execute_result"
    }
   ],
   "source": [
    "# Get statistics of the variable\n",
    "df1['Phone'].describe()"
   ]
  },
  {
   "cell_type": "code",
   "execution_count": 58,
   "id": "07fbedf2",
   "metadata": {},
   "outputs": [
    {
     "data": {
      "text/plain": [
       "Yes    9067\n",
       "No      933\n",
       "Name: Phone, dtype: int64"
      ]
     },
     "execution_count": 58,
     "metadata": {},
     "output_type": "execute_result"
    }
   ],
   "source": [
    "# Get the counts for each\n",
    "df1['Phone'].value_counts()"
   ]
  },
  {
   "cell_type": "code",
   "execution_count": 59,
   "id": "c59e398c",
   "metadata": {},
   "outputs": [
    {
     "name": "stdout",
     "output_type": "stream",
     "text": [
      "['No' 'Yes']\n"
     ]
    }
   ],
   "source": [
    "# Checking variables unique values for validity\n",
    "print(df1['Multiple'].sort_values().unique())"
   ]
  },
  {
   "cell_type": "code",
   "execution_count": 60,
   "id": "0783ca16",
   "metadata": {},
   "outputs": [
    {
     "data": {
      "text/plain": [
       "count     10000\n",
       "unique        2\n",
       "top          No\n",
       "freq       5392\n",
       "Name: Multiple, dtype: object"
      ]
     },
     "execution_count": 60,
     "metadata": {},
     "output_type": "execute_result"
    }
   ],
   "source": [
    "# Get statistics of the variable\n",
    "df1['Multiple'].describe()"
   ]
  },
  {
   "cell_type": "code",
   "execution_count": 61,
   "id": "6a8d541d",
   "metadata": {},
   "outputs": [
    {
     "data": {
      "text/plain": [
       "No     5392\n",
       "Yes    4608\n",
       "Name: Multiple, dtype: int64"
      ]
     },
     "execution_count": 61,
     "metadata": {},
     "output_type": "execute_result"
    }
   ],
   "source": [
    "# Get the counts for each\n",
    "df1['Multiple'].value_counts()"
   ]
  },
  {
   "cell_type": "code",
   "execution_count": 62,
   "id": "7aa39190",
   "metadata": {},
   "outputs": [
    {
     "name": "stdout",
     "output_type": "stream",
     "text": [
      "['No' 'Yes']\n"
     ]
    }
   ],
   "source": [
    "# Checking variables unique values for validity\n",
    "print(df1['OnlineSecurity'].sort_values().unique())"
   ]
  },
  {
   "cell_type": "code",
   "execution_count": 63,
   "id": "1c57e7a6",
   "metadata": {},
   "outputs": [
    {
     "data": {
      "text/plain": [
       "count     10000\n",
       "unique        2\n",
       "top          No\n",
       "freq       6424\n",
       "Name: OnlineSecurity, dtype: object"
      ]
     },
     "execution_count": 63,
     "metadata": {},
     "output_type": "execute_result"
    }
   ],
   "source": [
    "# Get statistics of the variable\n",
    "df1['OnlineSecurity'].describe()"
   ]
  },
  {
   "cell_type": "code",
   "execution_count": 64,
   "id": "124d04df",
   "metadata": {},
   "outputs": [
    {
     "data": {
      "text/plain": [
       "No     6424\n",
       "Yes    3576\n",
       "Name: OnlineSecurity, dtype: int64"
      ]
     },
     "execution_count": 64,
     "metadata": {},
     "output_type": "execute_result"
    }
   ],
   "source": [
    "# Get the counts for each\n",
    "df1['OnlineSecurity'].value_counts()"
   ]
  },
  {
   "cell_type": "code",
   "execution_count": 65,
   "id": "b058f5aa",
   "metadata": {},
   "outputs": [
    {
     "name": "stdout",
     "output_type": "stream",
     "text": [
      "['No' 'Yes']\n"
     ]
    }
   ],
   "source": [
    "# Checking variables unique values for validity\n",
    "print(df1['DeviceProtection'].sort_values().unique())"
   ]
  },
  {
   "cell_type": "code",
   "execution_count": 66,
   "id": "8fe2d31c",
   "metadata": {},
   "outputs": [
    {
     "data": {
      "text/plain": [
       "count     10000\n",
       "unique        2\n",
       "top          No\n",
       "freq       5614\n",
       "Name: DeviceProtection, dtype: object"
      ]
     },
     "execution_count": 66,
     "metadata": {},
     "output_type": "execute_result"
    }
   ],
   "source": [
    "# Get statistics of the variable\n",
    "df1['DeviceProtection'].describe()"
   ]
  },
  {
   "cell_type": "code",
   "execution_count": 67,
   "id": "d75a3f9b",
   "metadata": {},
   "outputs": [
    {
     "data": {
      "text/plain": [
       "No     5614\n",
       "Yes    4386\n",
       "Name: DeviceProtection, dtype: int64"
      ]
     },
     "execution_count": 67,
     "metadata": {},
     "output_type": "execute_result"
    }
   ],
   "source": [
    "# Get the counts for each\n",
    "df1['DeviceProtection'].value_counts()"
   ]
  },
  {
   "cell_type": "code",
   "execution_count": 68,
   "id": "861e820e",
   "metadata": {},
   "outputs": [
    {
     "name": "stdout",
     "output_type": "stream",
     "text": [
      "['No' 'Yes']\n"
     ]
    }
   ],
   "source": [
    "# Checking variables unique values for validity\n",
    "print(df1['TechSupport'].sort_values().unique())"
   ]
  },
  {
   "cell_type": "code",
   "execution_count": 69,
   "id": "65ab6149",
   "metadata": {},
   "outputs": [
    {
     "data": {
      "text/plain": [
       "count     10000\n",
       "unique        2\n",
       "top          No\n",
       "freq       6250\n",
       "Name: TechSupport, dtype: object"
      ]
     },
     "execution_count": 69,
     "metadata": {},
     "output_type": "execute_result"
    }
   ],
   "source": [
    "# Get statistics of the variable\n",
    "df1['TechSupport'].describe()"
   ]
  },
  {
   "cell_type": "code",
   "execution_count": 70,
   "id": "e8f2256d",
   "metadata": {},
   "outputs": [
    {
     "data": {
      "text/plain": [
       "No     6250\n",
       "Yes    3750\n",
       "Name: TechSupport, dtype: int64"
      ]
     },
     "execution_count": 70,
     "metadata": {},
     "output_type": "execute_result"
    }
   ],
   "source": [
    "# Get the counts for each\n",
    "df1['TechSupport'].value_counts()"
   ]
  },
  {
   "cell_type": "code",
   "execution_count": 71,
   "id": "101cf080",
   "metadata": {},
   "outputs": [
    {
     "name": "stdout",
     "output_type": "stream",
     "text": [
      "['No' 'Yes']\n"
     ]
    }
   ],
   "source": [
    "# Checking variables unique values for validity\n",
    "print(df1['StreamingTV'].sort_values().unique())"
   ]
  },
  {
   "cell_type": "code",
   "execution_count": 72,
   "id": "5ac6919d",
   "metadata": {},
   "outputs": [
    {
     "data": {
      "text/plain": [
       "count     10000\n",
       "unique        2\n",
       "top          No\n",
       "freq       5071\n",
       "Name: StreamingTV, dtype: object"
      ]
     },
     "execution_count": 72,
     "metadata": {},
     "output_type": "execute_result"
    }
   ],
   "source": [
    "# Get statistics of the variable\n",
    "df1['StreamingTV'].describe()"
   ]
  },
  {
   "cell_type": "code",
   "execution_count": 73,
   "id": "c85aacda",
   "metadata": {},
   "outputs": [
    {
     "data": {
      "text/plain": [
       "No     5071\n",
       "Yes    4929\n",
       "Name: StreamingTV, dtype: int64"
      ]
     },
     "execution_count": 73,
     "metadata": {},
     "output_type": "execute_result"
    }
   ],
   "source": [
    "# Get the counts for each\n",
    "df1['StreamingTV'].value_counts()"
   ]
  },
  {
   "cell_type": "code",
   "execution_count": 74,
   "id": "afc84e28",
   "metadata": {},
   "outputs": [
    {
     "name": "stdout",
     "output_type": "stream",
     "text": [
      "['No' 'Yes']\n"
     ]
    }
   ],
   "source": [
    "# Checking variables unique values for validity\n",
    "print(df1['StreamingMovies'].sort_values().unique())"
   ]
  },
  {
   "cell_type": "code",
   "execution_count": 75,
   "id": "fbf06d01",
   "metadata": {},
   "outputs": [
    {
     "data": {
      "text/plain": [
       "count     10000\n",
       "unique        2\n",
       "top          No\n",
       "freq       5110\n",
       "Name: StreamingMovies, dtype: object"
      ]
     },
     "execution_count": 75,
     "metadata": {},
     "output_type": "execute_result"
    }
   ],
   "source": [
    "# Get statistics of the variable\n",
    "df1['StreamingMovies'].describe()"
   ]
  },
  {
   "cell_type": "code",
   "execution_count": 76,
   "id": "01751e71",
   "metadata": {},
   "outputs": [
    {
     "data": {
      "text/plain": [
       "No     5110\n",
       "Yes    4890\n",
       "Name: StreamingMovies, dtype: int64"
      ]
     },
     "execution_count": 76,
     "metadata": {},
     "output_type": "execute_result"
    }
   ],
   "source": [
    "# Get the counts for each\n",
    "df1['StreamingMovies'].value_counts()"
   ]
  },
  {
   "cell_type": "code",
   "execution_count": 77,
   "id": "72f5ba72",
   "metadata": {},
   "outputs": [
    {
     "name": "stdout",
     "output_type": "stream",
     "text": [
      "['No' 'Yes']\n"
     ]
    }
   ],
   "source": [
    "# Checking variables unique values for validity\n",
    "print(df1['PaperlessBilling'].sort_values().unique())"
   ]
  },
  {
   "cell_type": "code",
   "execution_count": 78,
   "id": "5dca65af",
   "metadata": {},
   "outputs": [
    {
     "data": {
      "text/plain": [
       "count     10000\n",
       "unique        2\n",
       "top         Yes\n",
       "freq       5882\n",
       "Name: PaperlessBilling, dtype: object"
      ]
     },
     "execution_count": 78,
     "metadata": {},
     "output_type": "execute_result"
    }
   ],
   "source": [
    "# Get statistics of the variable\n",
    "df1['PaperlessBilling'].describe()"
   ]
  },
  {
   "cell_type": "code",
   "execution_count": 79,
   "id": "95ba9176",
   "metadata": {},
   "outputs": [
    {
     "data": {
      "text/plain": [
       "Yes    5882\n",
       "No     4118\n",
       "Name: PaperlessBilling, dtype: int64"
      ]
     },
     "execution_count": 79,
     "metadata": {},
     "output_type": "execute_result"
    }
   ],
   "source": [
    "# Get the counts for each\n",
    "df1['PaperlessBilling'].value_counts()"
   ]
  },
  {
   "cell_type": "code",
   "execution_count": 80,
   "id": "27247552",
   "metadata": {},
   "outputs": [
    {
     "name": "stdout",
     "output_type": "stream",
     "text": [
      "['Bank Transfer(automatic)' 'Credit Card (automatic)' 'Electronic Check'\n",
      " 'Mailed Check']\n"
     ]
    }
   ],
   "source": [
    "# Checking variables unique values for validity\n",
    "print(df1['PaymentMethod'].sort_values().unique())"
   ]
  },
  {
   "cell_type": "code",
   "execution_count": 81,
   "id": "0f54500d",
   "metadata": {},
   "outputs": [
    {
     "data": {
      "text/plain": [
       "count                10000\n",
       "unique                   4\n",
       "top       Electronic Check\n",
       "freq                  3398\n",
       "Name: PaymentMethod, dtype: object"
      ]
     },
     "execution_count": 81,
     "metadata": {},
     "output_type": "execute_result"
    }
   ],
   "source": [
    "# Get statistics of the variable\n",
    "df1['PaymentMethod'].describe()"
   ]
  },
  {
   "cell_type": "code",
   "execution_count": 82,
   "id": "04571ea7",
   "metadata": {},
   "outputs": [
    {
     "data": {
      "text/plain": [
       "Electronic Check            3398\n",
       "Mailed Check                2290\n",
       "Bank Transfer(automatic)    2229\n",
       "Credit Card (automatic)     2083\n",
       "Name: PaymentMethod, dtype: int64"
      ]
     },
     "execution_count": 82,
     "metadata": {},
     "output_type": "execute_result"
    }
   ],
   "source": [
    "# Get the counts for each\n",
    "df1['PaymentMethod'].value_counts()"
   ]
  },
  {
   "cell_type": "code",
   "execution_count": 83,
   "id": "5d5ea3fc",
   "metadata": {},
   "outputs": [
    {
     "name": "stdout",
     "output_type": "stream",
     "text": [
      "[ 1.00025934  1.005104    1.0185196  ... 71.99373    71.99418\n",
      " 71.99928   ]\n"
     ]
    }
   ],
   "source": [
    "# Checking variables unique values for validity\n",
    "print(df1['Tenure'].sort_values().unique())"
   ]
  },
  {
   "cell_type": "code",
   "execution_count": 84,
   "id": "0f41dfff",
   "metadata": {},
   "outputs": [
    {
     "data": {
      "text/plain": [
       "count    10000.000000\n",
       "mean        34.526188\n",
       "std         26.443063\n",
       "min          1.000259\n",
       "25%          7.917694\n",
       "50%         35.430507\n",
       "75%         61.479795\n",
       "max         71.999280\n",
       "Name: Tenure, dtype: float64"
      ]
     },
     "execution_count": 84,
     "metadata": {},
     "output_type": "execute_result"
    }
   ],
   "source": [
    "# Get statistics of the variable\n",
    "df1['Tenure'].describe()"
   ]
  },
  {
   "cell_type": "code",
   "execution_count": 85,
   "id": "65566699",
   "metadata": {},
   "outputs": [
    {
     "name": "stdout",
     "output_type": "stream",
     "text": [
      "[ 79.97886   79.978861  82.496547  82.49655   92.45514   92.455141\n",
      "  92.48802   92.488023  92.5018    94.972827  94.97283   95.005709\n",
      "  95.00571   95.019486  95.01949  102.4746   102.474625 104.962874\n",
      " 104.9629   104.9643   104.964303 104.97808  104.9781   104.9923\n",
      " 104.992311 105.010962 105.011    107.48056  107.4806   107.481989\n",
      " 107.482    107.495766 107.4958   107.5286   107.528648 112.4551\n",
      " 112.455141 112.484375 112.4844   114.9509   114.950905 114.965789\n",
      " 114.9658   114.9728   114.972827 114.983787 114.9838   114.997564\n",
      " 114.9976   115.002061 115.0021   117.439154 117.4392   117.468591\n",
      " 117.4686   117.472    117.472036 117.483475 117.4835   117.4858\n",
      " 117.485813 117.4872   117.487242 117.5015   117.5152   117.51525\n",
      " 119.9568   119.95684  119.9897   119.989722 120.003499 120.0035\n",
      " 120.0049   120.004928 124.960655 124.9607   124.9643   124.964303\n",
      " 124.97808  124.9781   124.9935   124.993537 125.0073   125.007314\n",
      " 127.442069 127.4421   127.4586   127.458638 127.460067 127.4601\n",
      " 127.4738   127.473844 127.474951 127.475    127.4783   127.478341\n",
      " 127.481989 127.482    127.4887   127.488728 127.495766 127.4958\n",
      " 127.5067   127.506726 127.5112   127.511223 127.525    129.9483\n",
      " 129.948316 129.959755 129.9598   129.962093 129.9621   129.9763\n",
      " 129.976324 129.977753 129.9778   129.9915   129.99153  129.9926\n",
      " 129.994975 129.995    130.0064   130.006414 130.0244   130.024412\n",
      " 132.466    132.466002 132.479779 132.4798   132.5127   134.9509\n",
      " 134.950905 134.9801   134.980139 137.439154 137.4392   137.461553\n",
      " 137.4616   137.468388 137.4684   137.468591 137.4686   137.4698\n",
      " 137.469817 137.483594 137.4836   137.4872   137.487242 137.4978\n",
      " 137.497825 137.516476 137.5165   139.9349   139.934918 139.9512\n",
      " 139.951231 139.9568   139.95684  139.965    139.965008 139.9678\n",
      " 139.9792   139.979239 139.981577 139.9816   139.983    139.983006\n",
      " 139.986074 139.9861   139.9875   139.987503 139.99789  139.9979\n",
      " 140.00128  140.0013   140.0049   140.004928 140.0342   142.4526\n",
      " 142.452604 142.4689   142.468917 142.471255 142.4713   142.482694\n",
      " 142.4827   142.485486 142.4855   142.499263 142.4993   142.500692\n",
      " 142.5007   142.515576 142.5156   144.960655 144.9607   144.9889\n",
      " 144.988941 147.442069 147.4421   147.4564   147.456419 147.460067\n",
      " 147.4601   147.4713   147.471303 147.4738   147.473844 147.4783\n",
      " 147.478341 147.4893   147.489301 147.503078 147.5031   149.9378\n",
      " 149.937833 149.944668 149.9447   149.9483   149.948316 149.959755\n",
      " 149.9598   149.962093 149.9621   149.9707   149.970715 149.9741\n",
      " 149.974105 149.97755  149.9776   149.977753 149.9778   149.984492\n",
      " 149.9845   149.988989 149.989    149.9913   149.991327 149.9915\n",
      " 149.99153  149.992756 149.9928   150.006987 150.007    150.020764\n",
      " 150.0208   152.44408  152.4441   152.4555   152.455519 152.457857\n",
      " 152.4579   152.462354 152.4624   152.466    152.466002 152.47417\n",
      " 152.4742   152.479779 152.4798   152.4884   152.488401 152.4907\n",
      " 152.490739 152.4952   152.495236 152.502178 152.5022   152.509\n",
      " 152.509013 152.5104   152.510442 154.961766 154.9618   154.9755\n",
      " 154.975543 154.991856 154.9919   155.0084   157.4698   157.469817\n",
      " 157.483594 157.4836   159.9349   159.934918 159.947583 159.9476\n",
      " 159.9512   159.951231 159.964152 159.9642   159.965    159.965008\n",
      " 159.965581 159.9656   159.979358 159.9794   159.980465 159.9805\n",
      " 159.983    159.983006 159.9875   159.987503 159.9942   159.994242\n",
      " 160.00128  160.0013   160.0122   160.01224  162.446995 162.447\n",
      " 162.4526   162.452604 162.4538   162.45383  162.460772 162.4608\n",
      " 162.465269 162.4653   162.4676   162.467607 162.4689   162.468917\n",
      " 162.471255 162.4713   162.4818   162.482694 162.4827   162.483267\n",
      " 162.4833   162.493654 162.4937   162.497    162.497044 162.498151\n",
      " 162.4982   162.500489 162.5005   162.500692 162.5007   162.5119\n",
      " 162.511928 162.5299   162.529926 164.964681 164.9647   164.967\n",
      " 164.967019 164.9715   164.971516 164.978458 164.9785   164.985293\n",
      " 164.9853   164.9889   164.988941 165.0113   165.01134  165.018175\n",
      " 165.0182   167.4564   167.456419 167.4847   167.484705 169.9378\n",
      " 169.937833 169.944668 169.9447   169.967067 169.9671   169.9741\n",
      " 169.974105 169.992756 169.9928   172.4404   172.440432 172.44408\n",
      " 172.4441   172.4555   172.455519 172.4567   172.456745 172.457857\n",
      " 172.4579   172.462354 172.4624   172.4705   172.470522 172.4733\n",
      " 172.473314 172.47417  172.4742   172.484753 172.4848   172.487091\n",
      " 172.4871   172.4885   172.48852  172.5034   172.503404 172.5104\n",
      " 172.510442 174.9581   174.958118 174.961766 174.9618   174.9699\n",
      " 174.969934 174.9744   174.974431 174.9755   174.975543 174.976769\n",
      " 174.9768   174.9882   174.988208 174.991    174.991856 174.9919\n",
      " 175.004777 175.0048   175.0062   175.006206 175.02109  175.0211\n",
      " 175.133074 175.1331   177.4876   177.48762  177.4945   177.65076\n",
      " 177.6508   179.947583 179.9476   179.965581 179.9656   179.979358\n",
      " 179.9794   182.4433   182.443347 182.446995 182.447    182.4538\n",
      " 182.45383  182.460772 182.4608   182.465269 182.4653   182.4676\n",
      " 182.467607 182.4762   182.476229 182.483267 182.4833   182.49\n",
      " 182.490006 182.497    182.497044 184.949594 184.9496   184.961\n",
      " 184.961033 184.963371 184.9634   184.964681 184.9647   184.967\n",
      " 184.967019 184.9715   184.971516 184.978458 184.9785   184.979684\n",
      " 184.9797   184.985293 184.9853   184.9939   184.993915 184.9963\n",
      " 185.007692 185.0077   187.46728  187.4673   187.481057 187.4811\n",
      " 187.4847   187.484705 187.49737  187.4974   187.5139   187.513939\n",
      " 187.609354 187.6094   187.6422   187.642236 187.656    187.656013\n",
      " 190.127    190.12704  190.1599   190.159922 190.173699 190.1737\n",
      " 192.4404   192.440432 192.4567   192.456745 192.4705   192.470522\n",
      " 192.4885   192.48852  194.9525   194.952509 194.9581   194.958118\n",
      " 194.966286 194.9663   194.9699   194.969934 194.9744   194.974431\n",
      " 194.976769 194.9768   194.9882   194.988208 194.999168 194.9992\n",
      " 195.0062   195.006206 197.470195 197.4702   197.4725   197.472533\n",
      " 197.483972 197.484    197.4876   197.48762  197.494455 197.4945\n",
      " 197.516854 197.5169   197.6288   197.628838 199.9902   199.990219\n",
      " 200.1185   200.118516 200.132293 200.1323   200.1465   200.146524\n",
      " 200.165175 200.1652   202.4433   202.443347 202.6362   202.636202\n",
      " 202.649979 202.65     202.682861 202.6829   204.949594 204.9496\n",
      " 204.961    204.961033 204.963371 204.9634   204.979684 204.9797\n",
      " 207.46728  207.4673   207.4754   207.475448 207.481057 207.4811\n",
      " 207.49737  207.4974   207.609354 207.6094   207.638588 207.6386\n",
      " 209.9931   209.993134 210.1051   210.105118 210.127    210.12704\n",
      " 210.138    210.151777 210.1518   210.156274 210.1563   212.6228\n",
      " 212.622804 212.641455 212.6415   212.655686 212.6557   212.669463\n",
      " 212.6695   214.9525   214.952509 214.966286 214.9663   215.1591\n",
      " 215.159141 217.470195 217.4702   217.4725   217.472533 217.483972\n",
      " 217.484    219.9902   220.114868 220.1149   220.1185   220.118516\n",
      " 220.132293 220.1323   220.14775  220.1478   220.1615   220.161527\n",
      " 222.61428  222.6143   222.628057 222.6281   222.632554 222.6326\n",
      " 222.6362   222.636202 222.649979 222.65     222.6609   222.660939\n",
      " 222.6654   222.665436 222.6792   222.679213 225.131966 225.132\n",
      " 225.1457   225.145743 225.1786   225.178625 227.4754   227.475448\n",
      " 229.9931   229.993134 230.1051   230.105118 230.134352 230.1344\n",
      " 232.6228   232.622804 232.624    232.62403  232.6378   232.637807\n",
      " 232.641455 232.6415   232.652    232.652038 232.670689 232.6707\n",
      " 235.1372   235.137219 235.1417   235.141716 235.1555   235.1591\n",
      " 235.159141 235.188375 235.1884   237.6549   240.114868 240.1149\n",
      " 242.6106   242.610632 242.61428  242.6143   242.628057 242.6281\n",
      " 242.632554 242.6326   242.6435   242.643514 242.657291 242.6573\n",
      " 245.1283   245.128318 245.131966 245.132    245.1457   245.145743\n",
      " 245.146969 245.147    245.1612   245.174977 245.175    247.664655\n",
      " 247.6647   252.624    252.62403  252.6378   252.637807 255.119794\n",
      " 255.1198   255.133571 255.1336   255.1372   255.137219 255.1417\n",
      " 255.141716 255.155493 255.1555   255.166453 255.1665   257.63748\n",
      " 257.6375   257.651257 257.6513   257.6549   257.6841   257.684139\n",
      " 262.6106   262.610632 265.1283   265.128318 265.146969 265.147\n",
      " 267.6427   267.642733 267.664655 267.6647   270.1604   270.160419\n",
      " 275.119794 275.1198   275.133571 275.1336   277.63748  277.6375\n",
      " 277.651257 277.6513   287.6427   287.642733 290.1604   290.160419]\n"
     ]
    }
   ],
   "source": [
    "# Checking variables unique values for validity\n",
    "print(df1['MonthlyCharge'].sort_values().unique())"
   ]
  },
  {
   "cell_type": "code",
   "execution_count": 86,
   "id": "8dcd9da2",
   "metadata": {},
   "outputs": [
    {
     "data": {
      "text/plain": [
       "count    10000.000000\n",
       "mean       172.624816\n",
       "std         42.943094\n",
       "min         79.978860\n",
       "25%        139.979239\n",
       "50%        167.484700\n",
       "75%        200.734725\n",
       "max        290.160419\n",
       "Name: MonthlyCharge, dtype: float64"
      ]
     },
     "execution_count": 86,
     "metadata": {},
     "output_type": "execute_result"
    }
   ],
   "source": [
    "# Get statistics of the variable\n",
    "df1['MonthlyCharge'].describe()"
   ]
  },
  {
   "cell_type": "code",
   "execution_count": 87,
   "id": "3cc8f529",
   "metadata": {},
   "outputs": [
    {
     "name": "stdout",
     "output_type": "stream",
     "text": [
      "[ 155.5067148  169.3992798  223.4765826 ... 7096.494932  7138.308718\n",
      " 7158.98153  ]\n"
     ]
    }
   ],
   "source": [
    "# Checking variables unique values for validity\n",
    "print(df1['Bandwidth_GB_Year'].sort_values().unique())"
   ]
  },
  {
   "cell_type": "code",
   "execution_count": 88,
   "id": "fd675ba8",
   "metadata": {},
   "outputs": [
    {
     "data": {
      "text/plain": [
       "count    10000.000000\n",
       "mean      3392.341550\n",
       "std       2185.294852\n",
       "min        155.506715\n",
       "25%       1236.470827\n",
       "50%       3279.536903\n",
       "75%       5586.141370\n",
       "max       7158.981530\n",
       "Name: Bandwidth_GB_Year, dtype: float64"
      ]
     },
     "execution_count": 88,
     "metadata": {},
     "output_type": "execute_result"
    }
   ],
   "source": [
    "# Get statistics of the variable\n",
    "df1['Bandwidth_GB_Year'].describe()"
   ]
  },
  {
   "cell_type": "code",
   "execution_count": 89,
   "id": "0d458712",
   "metadata": {},
   "outputs": [
    {
     "data": {
      "text/plain": [
       "(10000, 30)"
      ]
     },
     "execution_count": 89,
     "metadata": {},
     "output_type": "execute_result"
    }
   ],
   "source": [
    "# Check shape\n",
    "df1.shape"
   ]
  },
  {
   "cell_type": "code",
   "execution_count": 90,
   "id": "75b01411",
   "metadata": {},
   "outputs": [],
   "source": [
    "# Make new df without Z-score columns\n",
    "df2 = df1[['Population', 'Area', 'Children', 'Age', 'Income', 'Marital', \n",
    "           'Gender', 'Churn', 'Outage_sec_perweek', 'Email', 'Contacts', \n",
    "           'Yearly_equip_failure', 'Techie', 'Contract', 'Port_modem',\n",
    "           'Tablet', 'InternetService', 'Phone', 'Multiple', \n",
    "           'OnlineSecurity', 'OnlineBackup', 'DeviceProtection', \n",
    "           'TechSupport', 'StreamingTV', 'StreamingMovies', \n",
    "           'PaperlessBilling', 'PaymentMethod', 'Tenure', \n",
    "           'MonthlyCharge', 'Bandwidth_GB_Year']]"
   ]
  },
  {
   "cell_type": "code",
   "execution_count": 91,
   "id": "bd246f9e",
   "metadata": {},
   "outputs": [
    {
     "data": {
      "text/plain": [
       "(10000, 30)"
      ]
     },
     "execution_count": 91,
     "metadata": {},
     "output_type": "execute_result"
    }
   ],
   "source": [
    "# Check shape\n",
    "df2.shape"
   ]
  },
  {
   "cell_type": "code",
   "execution_count": 92,
   "id": "6c99ad0a",
   "metadata": {},
   "outputs": [],
   "source": [
    "# Ordinal encoding all variables with Yes,No\n",
    "df2['Churn'].replace(['No', 'Yes'], [0,1], inplace=True)\n",
    "df2['Techie'].replace(['No', 'Yes'], [0,1], inplace=True)\n",
    "df2['Port_modem'].replace(['No', 'Yes'], [0,1], inplace=True)\n",
    "df2['Tablet'].replace(['No', 'Yes'], [0,1], inplace=True)\n",
    "df2['Phone'].replace(['No', 'Yes'], [0,1], inplace=True)\n",
    "df2['Multiple'].replace(['No', 'Yes'], [0,1], inplace=True)\n",
    "df2['OnlineSecurity'].replace(['No', 'Yes'], [0,1], inplace=True)\n",
    "df2['OnlineBackup'].replace(['No', 'Yes'], [0,1], inplace=True)\n",
    "df2['DeviceProtection'].replace(['No', 'Yes'], [0,1], inplace=True)\n",
    "df2['TechSupport'].replace(['No', 'Yes'], [0,1], inplace=True)\n",
    "df2['StreamingTV'].replace(['No', 'Yes'], [0,1], inplace=True)\n",
    "df2['StreamingMovies'].replace(['No', 'Yes'], [0,1], inplace=True)\n",
    "df2['PaperlessBilling'].replace(['No', 'Yes'], [0,1], inplace=True)"
   ]
  },
  {
   "cell_type": "code",
   "execution_count": 93,
   "id": "87a3e5c8",
   "metadata": {},
   "outputs": [],
   "source": [
    "# get_dummies encoding with K-1\n",
    "x1 = ['Area', 'Marital', 'Gender', 'Contract',\n",
    "      'InternetService', 'PaymentMethod']\n",
    "df2 = pd.get_dummies(df2, prefix=x1, prefix_sep='_', dummy_na=False,\n",
    "                    columns=x1, drop_first=True)"
   ]
  },
  {
   "cell_type": "code",
   "execution_count": 94,
   "id": "587dc0a5",
   "metadata": {},
   "outputs": [
    {
     "name": "stdout",
     "output_type": "stream",
     "text": [
      "<class 'pandas.core.frame.DataFrame'>\n",
      "RangeIndex: 10000 entries, 0 to 9999\n",
      "Data columns (total 39 columns):\n",
      " #   Column                                 Non-Null Count  Dtype  \n",
      "---  ------                                 --------------  -----  \n",
      " 0   Population                             10000 non-null  int64  \n",
      " 1   Children                               10000 non-null  int64  \n",
      " 2   Age                                    10000 non-null  int64  \n",
      " 3   Income                                 10000 non-null  float64\n",
      " 4   Churn                                  10000 non-null  int64  \n",
      " 5   Outage_sec_perweek                     10000 non-null  float64\n",
      " 6   Email                                  10000 non-null  int64  \n",
      " 7   Contacts                               10000 non-null  int64  \n",
      " 8   Yearly_equip_failure                   10000 non-null  int64  \n",
      " 9   Techie                                 10000 non-null  int64  \n",
      " 10  Port_modem                             10000 non-null  int64  \n",
      " 11  Tablet                                 10000 non-null  int64  \n",
      " 12  Phone                                  10000 non-null  int64  \n",
      " 13  Multiple                               10000 non-null  int64  \n",
      " 14  OnlineSecurity                         10000 non-null  int64  \n",
      " 15  OnlineBackup                           10000 non-null  int64  \n",
      " 16  DeviceProtection                       10000 non-null  int64  \n",
      " 17  TechSupport                            10000 non-null  int64  \n",
      " 18  StreamingTV                            10000 non-null  int64  \n",
      " 19  StreamingMovies                        10000 non-null  int64  \n",
      " 20  PaperlessBilling                       10000 non-null  int64  \n",
      " 21  Tenure                                 10000 non-null  float64\n",
      " 22  MonthlyCharge                          10000 non-null  float64\n",
      " 23  Bandwidth_GB_Year                      10000 non-null  float64\n",
      " 24  Area_Suburban                          10000 non-null  uint8  \n",
      " 25  Area_Urban                             10000 non-null  uint8  \n",
      " 26  Marital_Married                        10000 non-null  uint8  \n",
      " 27  Marital_Never Married                  10000 non-null  uint8  \n",
      " 28  Marital_Separated                      10000 non-null  uint8  \n",
      " 29  Marital_Widowed                        10000 non-null  uint8  \n",
      " 30  Gender_Male                            10000 non-null  uint8  \n",
      " 31  Gender_Nonbinary                       10000 non-null  uint8  \n",
      " 32  Contract_One year                      10000 non-null  uint8  \n",
      " 33  Contract_Two Year                      10000 non-null  uint8  \n",
      " 34  InternetService_Fiber Optic            10000 non-null  uint8  \n",
      " 35  InternetService_None                   10000 non-null  uint8  \n",
      " 36  PaymentMethod_Credit Card (automatic)  10000 non-null  uint8  \n",
      " 37  PaymentMethod_Electronic Check         10000 non-null  uint8  \n",
      " 38  PaymentMethod_Mailed Check             10000 non-null  uint8  \n",
      "dtypes: float64(5), int64(19), uint8(15)\n",
      "memory usage: 2.0 MB\n"
     ]
    }
   ],
   "source": [
    "df2.info()"
   ]
  },
  {
   "cell_type": "code",
   "execution_count": 95,
   "id": "101ca906",
   "metadata": {},
   "outputs": [
    {
     "name": "stdout",
     "output_type": "stream",
     "text": [
      "(10000, 39)\n"
     ]
    }
   ],
   "source": [
    "# Check shape of df2\n",
    "print(df2.shape)"
   ]
  },
  {
   "cell_type": "code",
   "execution_count": 96,
   "id": "f5c29c6d",
   "metadata": {},
   "outputs": [],
   "source": [
    "complete_df = df2"
   ]
  },
  {
   "cell_type": "code",
   "execution_count": 97,
   "id": "fcf07842",
   "metadata": {},
   "outputs": [],
   "source": [
    "# Extracting csv file of clean dataset\n",
    "complete_df.to_csv(r'C:\\Users\\eric7\\OneDrive\\Desktop\\WGU\\D209_Data_Mining_1\\\\Eric_Colwell_clean_dataset_task2.csv')"
   ]
  },
  {
   "cell_type": "code",
   "execution_count": 98,
   "id": "eacf51b1",
   "metadata": {},
   "outputs": [],
   "source": [
    "X=df2.drop(['Tenure'], axis=1)\n",
    "y=df2['Tenure']"
   ]
  },
  {
   "cell_type": "code",
   "execution_count": 99,
   "id": "59701887",
   "metadata": {},
   "outputs": [
    {
     "name": "stdout",
     "output_type": "stream",
     "text": [
      "(10000, 38)\n",
      "(10000,)\n"
     ]
    }
   ],
   "source": [
    "print(X.shape)\n",
    "print(y.shape)"
   ]
  },
  {
   "cell_type": "code",
   "execution_count": 100,
   "id": "f2a58d3b",
   "metadata": {},
   "outputs": [],
   "source": [
    "feature_names=X.columns\n",
    "skbest=SelectKBest(k='all')\n",
    "X_new = skbest.fit_transform(X, y)"
   ]
  },
  {
   "cell_type": "code",
   "execution_count": 101,
   "id": "9b946115",
   "metadata": {},
   "outputs": [
    {
     "data": {
      "text/plain": [
       "(10000, 38)"
      ]
     },
     "execution_count": 101,
     "metadata": {},
     "output_type": "execute_result"
    }
   ],
   "source": [
    "X_new.shape"
   ]
  },
  {
   "cell_type": "code",
   "execution_count": 102,
   "id": "07d4dde0",
   "metadata": {},
   "outputs": [],
   "source": [
    "p_values=pd.DataFrame({'Feature': X.columns,\n",
    "                      'p_value':skbest.pvalues_}).sort_values('p_value')"
   ]
  },
  {
   "cell_type": "code",
   "execution_count": 103,
   "id": "a7f000ca",
   "metadata": {},
   "outputs": [
    {
     "data": {
      "text/html": [
       "<div>\n",
       "<style scoped>\n",
       "    .dataframe tbody tr th:only-of-type {\n",
       "        vertical-align: middle;\n",
       "    }\n",
       "\n",
       "    .dataframe tbody tr th {\n",
       "        vertical-align: top;\n",
       "    }\n",
       "\n",
       "    .dataframe thead th {\n",
       "        text-align: right;\n",
       "    }\n",
       "</style>\n",
       "<table border=\"1\" class=\"dataframe\">\n",
       "  <thead>\n",
       "    <tr style=\"text-align: right;\">\n",
       "      <th></th>\n",
       "      <th>Feature</th>\n",
       "      <th>p_value</th>\n",
       "    </tr>\n",
       "  </thead>\n",
       "  <tbody>\n",
       "    <tr>\n",
       "      <th>30</th>\n",
       "      <td>Gender_Nonbinary</td>\n",
       "      <td>0.000000</td>\n",
       "    </tr>\n",
       "    <tr>\n",
       "      <th>4</th>\n",
       "      <td>Churn</td>\n",
       "      <td>0.000000</td>\n",
       "    </tr>\n",
       "    <tr>\n",
       "      <th>28</th>\n",
       "      <td>Marital_Widowed</td>\n",
       "      <td>0.000000</td>\n",
       "    </tr>\n",
       "    <tr>\n",
       "      <th>10</th>\n",
       "      <td>Port_modem</td>\n",
       "      <td>0.000000</td>\n",
       "    </tr>\n",
       "    <tr>\n",
       "      <th>22</th>\n",
       "      <td>Bandwidth_GB_Year</td>\n",
       "      <td>0.000089</td>\n",
       "    </tr>\n",
       "    <tr>\n",
       "      <th>0</th>\n",
       "      <td>Population</td>\n",
       "      <td>0.045983</td>\n",
       "    </tr>\n",
       "  </tbody>\n",
       "</table>\n",
       "</div>"
      ],
      "text/plain": [
       "              Feature   p_value\n",
       "30   Gender_Nonbinary  0.000000\n",
       "4               Churn  0.000000\n",
       "28    Marital_Widowed  0.000000\n",
       "10         Port_modem  0.000000\n",
       "22  Bandwidth_GB_Year  0.000089\n",
       "0          Population  0.045983"
      ]
     },
     "execution_count": 103,
     "metadata": {},
     "output_type": "execute_result"
    }
   ],
   "source": [
    "p_values[p_values['p_value'] < 0.05]"
   ]
  },
  {
   "cell_type": "code",
   "execution_count": 104,
   "id": "a79baba3",
   "metadata": {},
   "outputs": [
    {
     "data": {
      "text/plain": [
       "30     Gender_Nonbinary\n",
       "4                 Churn\n",
       "28      Marital_Widowed\n",
       "10           Port_modem\n",
       "22    Bandwidth_GB_Year\n",
       "0            Population\n",
       "Name: Feature, dtype: object"
      ]
     },
     "execution_count": 104,
     "metadata": {},
     "output_type": "execute_result"
    }
   ],
   "source": [
    "features_to_keep=p_values['Feature'][p_values['p_value'] <.05]\n",
    "features_to_keep"
   ]
  },
  {
   "cell_type": "code",
   "execution_count": 105,
   "id": "1427e0c8",
   "metadata": {},
   "outputs": [],
   "source": [
    "# Make new df with p_values less than 0.05\n",
    "df3 = df2[['Tenure', 'Gender_Nonbinary', 'Churn', 'Marital_Widowed', \n",
    "           'Port_modem', 'Bandwidth_GB_Year', 'Population']]"
   ]
  },
  {
   "cell_type": "code",
   "execution_count": 106,
   "id": "b609faa9",
   "metadata": {},
   "outputs": [
    {
     "data": {
      "text/plain": [
       "(10000, 7)"
      ]
     },
     "execution_count": 106,
     "metadata": {},
     "output_type": "execute_result"
    }
   ],
   "source": [
    "df3.shape"
   ]
  },
  {
   "cell_type": "code",
   "execution_count": 107,
   "id": "1a6e1486",
   "metadata": {},
   "outputs": [
    {
     "name": "stdout",
     "output_type": "stream",
     "text": [
      "                     Tenure  Gender_Nonbinary     Churn  Marital_Widowed  \\\n",
      "Tenure             1.000000         -0.010902 -0.485475        -0.000656   \n",
      "Gender_Nonbinary  -0.010902          1.000000 -0.003341         0.008571   \n",
      "Churn             -0.485475         -0.003341  1.000000         0.010622   \n",
      "Marital_Widowed   -0.000656          0.008571  0.010622         1.000000   \n",
      "Port_modem         0.008764         -0.000886  0.008157        -0.005402   \n",
      "Bandwidth_GB_Year  0.991495         -0.013834 -0.441669        -0.002128   \n",
      "Population        -0.003559         -0.006620 -0.008533        -0.005169   \n",
      "\n",
      "                   Port_modem  Bandwidth_GB_Year  Population  \n",
      "Tenure               0.008764           0.991495   -0.003559  \n",
      "Gender_Nonbinary    -0.000886          -0.013834   -0.006620  \n",
      "Churn                0.008157          -0.441669   -0.008533  \n",
      "Marital_Widowed     -0.005402          -0.002128   -0.005169  \n",
      "Port_modem           1.000000           0.008688    0.008577  \n",
      "Bandwidth_GB_Year    0.008688           1.000000   -0.003902  \n",
      "Population           0.008577          -0.003902    1.000000  \n"
     ]
    }
   ],
   "source": [
    "# Looking for high correlation between variables\n",
    "matrix = df3.corr()\n",
    "print(matrix)"
   ]
  },
  {
   "cell_type": "code",
   "execution_count": 108,
   "id": "157459db",
   "metadata": {},
   "outputs": [],
   "source": [
    "# Dropping Tenure due to high correlation with Bandwidth_GB_Year\n",
    "df3 = df3.drop(['Bandwidth_GB_Year'], axis=1)"
   ]
  },
  {
   "cell_type": "code",
   "execution_count": 109,
   "id": "7defb3dc",
   "metadata": {},
   "outputs": [
    {
     "data": {
      "text/plain": [
       "(10000, 6)"
      ]
     },
     "execution_count": 109,
     "metadata": {},
     "output_type": "execute_result"
    }
   ],
   "source": [
    "df3.shape"
   ]
  },
  {
   "cell_type": "code",
   "execution_count": 110,
   "id": "6ca762e1",
   "metadata": {},
   "outputs": [],
   "source": [
    "X=df3.drop(['Tenure'], axis=1)\n",
    "y=df3['Tenure']"
   ]
  },
  {
   "cell_type": "code",
   "execution_count": 111,
   "id": "983f0053",
   "metadata": {},
   "outputs": [
    {
     "name": "stdout",
     "output_type": "stream",
     "text": [
      "            Feature       VIF\n",
      "0  Gender_Nonbinary  1.015452\n",
      "1             Churn  1.202230\n",
      "2   Marital_Widowed  1.148547\n",
      "3        Port_modem  1.346053\n",
      "4        Population  1.236590\n"
     ]
    }
   ],
   "source": [
    "vif_data = pd.DataFrame()\n",
    "vif_data['Feature'] = X.columns\n",
    "vif_data['VIF'] = [variance_inflation_factor(X.values, i)\n",
    "                  for i in range(len(X.columns))]\n",
    "print(vif_data)"
   ]
  },
  {
   "cell_type": "code",
   "execution_count": 112,
   "id": "9466e8f7",
   "metadata": {},
   "outputs": [
    {
     "data": {
      "text/plain": [
       "(10000, 5)"
      ]
     },
     "execution_count": 112,
     "metadata": {},
     "output_type": "execute_result"
    }
   ],
   "source": [
    "X.shape"
   ]
  },
  {
   "cell_type": "code",
   "execution_count": 113,
   "id": "def06c57",
   "metadata": {},
   "outputs": [
    {
     "data": {
      "text/plain": [
       "(10000, 6)"
      ]
     },
     "execution_count": 113,
     "metadata": {},
     "output_type": "execute_result"
    }
   ],
   "source": [
    "df3.shape"
   ]
  },
  {
   "cell_type": "code",
   "execution_count": 114,
   "id": "fb7ef172",
   "metadata": {},
   "outputs": [
    {
     "name": "stdout",
     "output_type": "stream",
     "text": [
      "<class 'pandas.core.frame.DataFrame'>\n",
      "RangeIndex: 10000 entries, 0 to 9999\n",
      "Data columns (total 5 columns):\n",
      " #   Column            Non-Null Count  Dtype\n",
      "---  ------            --------------  -----\n",
      " 0   Gender_Nonbinary  10000 non-null  uint8\n",
      " 1   Churn             10000 non-null  int64\n",
      " 2   Marital_Widowed   10000 non-null  uint8\n",
      " 3   Port_modem        10000 non-null  int64\n",
      " 4   Population        10000 non-null  int64\n",
      "dtypes: int64(3), uint8(2)\n",
      "memory usage: 254.0 KB\n"
     ]
    }
   ],
   "source": [
    "X.info()"
   ]
  },
  {
   "cell_type": "code",
   "execution_count": 115,
   "id": "6185c9f3",
   "metadata": {},
   "outputs": [],
   "source": [
    "# Split the data\n",
    "X = df3.drop(['Tenure'], axis=1)\n",
    "y = df3['Tenure']\n",
    "X_train, X_test, y_train, y_test = train_test_split(X, y, test_size=0.3, \n",
    "                                                    random_state=16)"
   ]
  },
  {
   "cell_type": "code",
   "execution_count": 116,
   "id": "2bbc769a",
   "metadata": {},
   "outputs": [],
   "source": [
    "frames_train = [X_train, y_train]\n",
    "df3_train = pd.concat(frames_train, axis=1)\n",
    "\n",
    "frames_test = [X_test, y_test]\n",
    "df3_test = pd.concat(frames_test, axis=1)"
   ]
  },
  {
   "cell_type": "code",
   "execution_count": 117,
   "id": "b27cf6ad",
   "metadata": {},
   "outputs": [],
   "source": [
    "# Extracting csv file of train test data\n",
    "X_train.to_csv(r'C:\\Users\\eric7\\OneDrive\\Desktop\\WGU\\D209_Data_Mining_1\\\\Eric_Colwell_task2_X_train_dataset.csv')\n",
    "X_test.to_csv(r'C:\\Users\\eric7\\OneDrive\\Desktop\\WGU\\D209_Data_Mining_1\\\\Eric_Colwell_task2_X_test_dataset.csv')\n",
    "y_train.to_csv(r'C:\\Users\\eric7\\OneDrive\\Desktop\\WGU\\D209_Data_Mining_1\\\\Eric_Colwell_task2_y_train_dataset.csv')\n",
    "y_test.to_csv(r'C:\\Users\\eric7\\OneDrive\\Desktop\\WGU\\D209_Data_Mining_1\\\\Eric_Colwell_task2_y_test_dataset.csv')"
   ]
  },
  {
   "cell_type": "code",
   "execution_count": 118,
   "id": "7245e84d",
   "metadata": {},
   "outputs": [
    {
     "name": "stdout",
     "output_type": "stream",
     "text": [
      "7000\n",
      "3000\n",
      "count    7000.000000\n",
      "mean       34.488085\n",
      "std        26.450075\n",
      "min         1.005104\n",
      "25%         7.916017\n",
      "50%        29.637737\n",
      "75%        61.504725\n",
      "max        71.999280\n",
      "Name: Tenure, dtype: float64\n",
      "count    3000.000000\n",
      "mean       34.615096\n",
      "std        26.430887\n",
      "min         1.000259\n",
      "25%         7.975015\n",
      "50%        37.785115\n",
      "75%        61.311890\n",
      "max        71.974350\n",
      "Name: Tenure, dtype: float64\n"
     ]
    }
   ],
   "source": [
    "# Confirm split\n",
    "print(len(df3_train))\n",
    "print(len(df3_test))\n",
    "print(df3_train['Tenure'].describe())\n",
    "print(df3_test['Tenure'].describe())"
   ]
  },
  {
   "cell_type": "code",
   "execution_count": 119,
   "id": "f1448ec2",
   "metadata": {},
   "outputs": [],
   "source": [
    "rfr = RandomForestRegressor(random_state=16)"
   ]
  },
  {
   "cell_type": "code",
   "execution_count": 120,
   "id": "3dd4336d",
   "metadata": {},
   "outputs": [],
   "source": [
    "parameters = {'n_estimators': [10,50,100],\n",
    "             'max_features': [2,3,4],\n",
    "             'max_depth': [8,None]}"
   ]
  },
  {
   "cell_type": "code",
   "execution_count": 121,
   "id": "6aee95bb",
   "metadata": {},
   "outputs": [],
   "source": [
    "scorer = make_scorer(mse)"
   ]
  },
  {
   "cell_type": "code",
   "execution_count": 122,
   "id": "f1f92de1",
   "metadata": {},
   "outputs": [
    {
     "data": {
      "text/html": [
       "<style>#sk-container-id-1 {color: black;background-color: white;}#sk-container-id-1 pre{padding: 0;}#sk-container-id-1 div.sk-toggleable {background-color: white;}#sk-container-id-1 label.sk-toggleable__label {cursor: pointer;display: block;width: 100%;margin-bottom: 0;padding: 0.3em;box-sizing: border-box;text-align: center;}#sk-container-id-1 label.sk-toggleable__label-arrow:before {content: \"▸\";float: left;margin-right: 0.25em;color: #696969;}#sk-container-id-1 label.sk-toggleable__label-arrow:hover:before {color: black;}#sk-container-id-1 div.sk-estimator:hover label.sk-toggleable__label-arrow:before {color: black;}#sk-container-id-1 div.sk-toggleable__content {max-height: 0;max-width: 0;overflow: hidden;text-align: left;background-color: #f0f8ff;}#sk-container-id-1 div.sk-toggleable__content pre {margin: 0.2em;color: black;border-radius: 0.25em;background-color: #f0f8ff;}#sk-container-id-1 input.sk-toggleable__control:checked~div.sk-toggleable__content {max-height: 200px;max-width: 100%;overflow: auto;}#sk-container-id-1 input.sk-toggleable__control:checked~label.sk-toggleable__label-arrow:before {content: \"▾\";}#sk-container-id-1 div.sk-estimator input.sk-toggleable__control:checked~label.sk-toggleable__label {background-color: #d4ebff;}#sk-container-id-1 div.sk-label input.sk-toggleable__control:checked~label.sk-toggleable__label {background-color: #d4ebff;}#sk-container-id-1 input.sk-hidden--visually {border: 0;clip: rect(1px 1px 1px 1px);clip: rect(1px, 1px, 1px, 1px);height: 1px;margin: -1px;overflow: hidden;padding: 0;position: absolute;width: 1px;}#sk-container-id-1 div.sk-estimator {font-family: monospace;background-color: #f0f8ff;border: 1px dotted black;border-radius: 0.25em;box-sizing: border-box;margin-bottom: 0.5em;}#sk-container-id-1 div.sk-estimator:hover {background-color: #d4ebff;}#sk-container-id-1 div.sk-parallel-item::after {content: \"\";width: 100%;border-bottom: 1px solid gray;flex-grow: 1;}#sk-container-id-1 div.sk-label:hover label.sk-toggleable__label {background-color: #d4ebff;}#sk-container-id-1 div.sk-serial::before {content: \"\";position: absolute;border-left: 1px solid gray;box-sizing: border-box;top: 0;bottom: 0;left: 50%;z-index: 0;}#sk-container-id-1 div.sk-serial {display: flex;flex-direction: column;align-items: center;background-color: white;padding-right: 0.2em;padding-left: 0.2em;position: relative;}#sk-container-id-1 div.sk-item {position: relative;z-index: 1;}#sk-container-id-1 div.sk-parallel {display: flex;align-items: stretch;justify-content: center;background-color: white;position: relative;}#sk-container-id-1 div.sk-item::before, #sk-container-id-1 div.sk-parallel-item::before {content: \"\";position: absolute;border-left: 1px solid gray;box-sizing: border-box;top: 0;bottom: 0;left: 50%;z-index: -1;}#sk-container-id-1 div.sk-parallel-item {display: flex;flex-direction: column;z-index: 1;position: relative;background-color: white;}#sk-container-id-1 div.sk-parallel-item:first-child::after {align-self: flex-end;width: 50%;}#sk-container-id-1 div.sk-parallel-item:last-child::after {align-self: flex-start;width: 50%;}#sk-container-id-1 div.sk-parallel-item:only-child::after {width: 0;}#sk-container-id-1 div.sk-dashed-wrapped {border: 1px dashed gray;margin: 0 0.4em 0.5em 0.4em;box-sizing: border-box;padding-bottom: 0.4em;background-color: white;}#sk-container-id-1 div.sk-label label {font-family: monospace;font-weight: bold;display: inline-block;line-height: 1.2em;}#sk-container-id-1 div.sk-label-container {text-align: center;}#sk-container-id-1 div.sk-container {/* jupyter's `normalize.less` sets `[hidden] { display: none; }` but bootstrap.min.css set `[hidden] { display: none !important; }` so we also need the `!important` here to be able to override the default hidden behavior on the sphinx rendered scikit-learn.org. See: https://github.com/scikit-learn/scikit-learn/issues/21755 */display: inline-block !important;position: relative;}#sk-container-id-1 div.sk-text-repr-fallback {display: none;}</style><div id=\"sk-container-id-1\" class=\"sk-top-container\"><div class=\"sk-text-repr-fallback\"><pre>GridSearchCV(cv=5, estimator=RandomForestRegressor(random_state=16),\n",
       "             param_grid={&#x27;max_depth&#x27;: [8, None], &#x27;max_features&#x27;: [2, 3, 4],\n",
       "                         &#x27;n_estimators&#x27;: [10, 50, 100]})</pre><b>In a Jupyter environment, please rerun this cell to show the HTML representation or trust the notebook. <br />On GitHub, the HTML representation is unable to render, please try loading this page with nbviewer.org.</b></div><div class=\"sk-container\" hidden><div class=\"sk-item sk-dashed-wrapped\"><div class=\"sk-label-container\"><div class=\"sk-label sk-toggleable\"><input class=\"sk-toggleable__control sk-hidden--visually\" id=\"sk-estimator-id-1\" type=\"checkbox\" ><label for=\"sk-estimator-id-1\" class=\"sk-toggleable__label sk-toggleable__label-arrow\">GridSearchCV</label><div class=\"sk-toggleable__content\"><pre>GridSearchCV(cv=5, estimator=RandomForestRegressor(random_state=16),\n",
       "             param_grid={&#x27;max_depth&#x27;: [8, None], &#x27;max_features&#x27;: [2, 3, 4],\n",
       "                         &#x27;n_estimators&#x27;: [10, 50, 100]})</pre></div></div></div><div class=\"sk-parallel\"><div class=\"sk-parallel-item\"><div class=\"sk-item\"><div class=\"sk-label-container\"><div class=\"sk-label sk-toggleable\"><input class=\"sk-toggleable__control sk-hidden--visually\" id=\"sk-estimator-id-2\" type=\"checkbox\" ><label for=\"sk-estimator-id-2\" class=\"sk-toggleable__label sk-toggleable__label-arrow\">estimator: RandomForestRegressor</label><div class=\"sk-toggleable__content\"><pre>RandomForestRegressor(random_state=16)</pre></div></div></div><div class=\"sk-serial\"><div class=\"sk-item\"><div class=\"sk-estimator sk-toggleable\"><input class=\"sk-toggleable__control sk-hidden--visually\" id=\"sk-estimator-id-3\" type=\"checkbox\" ><label for=\"sk-estimator-id-3\" class=\"sk-toggleable__label sk-toggleable__label-arrow\">RandomForestRegressor</label><div class=\"sk-toggleable__content\"><pre>RandomForestRegressor(random_state=16)</pre></div></div></div></div></div></div></div></div></div></div>"
      ],
      "text/plain": [
       "GridSearchCV(cv=5, estimator=RandomForestRegressor(random_state=16),\n",
       "             param_grid={'max_depth': [8, None], 'max_features': [2, 3, 4],\n",
       "                         'n_estimators': [10, 50, 100]})"
      ]
     },
     "execution_count": 122,
     "metadata": {},
     "output_type": "execute_result"
    }
   ],
   "source": [
    "rfrcv = GridSearchCV(estimator=rfr, param_grid=parameters, cv=5)\n",
    "rfrcv.fit(X_train, y_train)"
   ]
  },
  {
   "cell_type": "code",
   "execution_count": 123,
   "id": "7a5110f0",
   "metadata": {},
   "outputs": [
    {
     "data": {
      "text/plain": [
       "{'max_depth': 8, 'max_features': 4, 'n_estimators': 100}"
      ]
     },
     "execution_count": 123,
     "metadata": {},
     "output_type": "execute_result"
    }
   ],
   "source": [
    "rfrcv.best_params_"
   ]
  },
  {
   "cell_type": "code",
   "execution_count": 124,
   "id": "088bea46",
   "metadata": {},
   "outputs": [],
   "source": [
    "parameters = {'n_estimators': [95,100,105],\n",
    "             'max_features': [3,4,5,6],\n",
    "             'max_depth': [4,3,2,None]}"
   ]
  },
  {
   "cell_type": "code",
   "execution_count": 125,
   "id": "4718434f",
   "metadata": {},
   "outputs": [
    {
     "data": {
      "text/html": [
       "<style>#sk-container-id-2 {color: black;background-color: white;}#sk-container-id-2 pre{padding: 0;}#sk-container-id-2 div.sk-toggleable {background-color: white;}#sk-container-id-2 label.sk-toggleable__label {cursor: pointer;display: block;width: 100%;margin-bottom: 0;padding: 0.3em;box-sizing: border-box;text-align: center;}#sk-container-id-2 label.sk-toggleable__label-arrow:before {content: \"▸\";float: left;margin-right: 0.25em;color: #696969;}#sk-container-id-2 label.sk-toggleable__label-arrow:hover:before {color: black;}#sk-container-id-2 div.sk-estimator:hover label.sk-toggleable__label-arrow:before {color: black;}#sk-container-id-2 div.sk-toggleable__content {max-height: 0;max-width: 0;overflow: hidden;text-align: left;background-color: #f0f8ff;}#sk-container-id-2 div.sk-toggleable__content pre {margin: 0.2em;color: black;border-radius: 0.25em;background-color: #f0f8ff;}#sk-container-id-2 input.sk-toggleable__control:checked~div.sk-toggleable__content {max-height: 200px;max-width: 100%;overflow: auto;}#sk-container-id-2 input.sk-toggleable__control:checked~label.sk-toggleable__label-arrow:before {content: \"▾\";}#sk-container-id-2 div.sk-estimator input.sk-toggleable__control:checked~label.sk-toggleable__label {background-color: #d4ebff;}#sk-container-id-2 div.sk-label input.sk-toggleable__control:checked~label.sk-toggleable__label {background-color: #d4ebff;}#sk-container-id-2 input.sk-hidden--visually {border: 0;clip: rect(1px 1px 1px 1px);clip: rect(1px, 1px, 1px, 1px);height: 1px;margin: -1px;overflow: hidden;padding: 0;position: absolute;width: 1px;}#sk-container-id-2 div.sk-estimator {font-family: monospace;background-color: #f0f8ff;border: 1px dotted black;border-radius: 0.25em;box-sizing: border-box;margin-bottom: 0.5em;}#sk-container-id-2 div.sk-estimator:hover {background-color: #d4ebff;}#sk-container-id-2 div.sk-parallel-item::after {content: \"\";width: 100%;border-bottom: 1px solid gray;flex-grow: 1;}#sk-container-id-2 div.sk-label:hover label.sk-toggleable__label {background-color: #d4ebff;}#sk-container-id-2 div.sk-serial::before {content: \"\";position: absolute;border-left: 1px solid gray;box-sizing: border-box;top: 0;bottom: 0;left: 50%;z-index: 0;}#sk-container-id-2 div.sk-serial {display: flex;flex-direction: column;align-items: center;background-color: white;padding-right: 0.2em;padding-left: 0.2em;position: relative;}#sk-container-id-2 div.sk-item {position: relative;z-index: 1;}#sk-container-id-2 div.sk-parallel {display: flex;align-items: stretch;justify-content: center;background-color: white;position: relative;}#sk-container-id-2 div.sk-item::before, #sk-container-id-2 div.sk-parallel-item::before {content: \"\";position: absolute;border-left: 1px solid gray;box-sizing: border-box;top: 0;bottom: 0;left: 50%;z-index: -1;}#sk-container-id-2 div.sk-parallel-item {display: flex;flex-direction: column;z-index: 1;position: relative;background-color: white;}#sk-container-id-2 div.sk-parallel-item:first-child::after {align-self: flex-end;width: 50%;}#sk-container-id-2 div.sk-parallel-item:last-child::after {align-self: flex-start;width: 50%;}#sk-container-id-2 div.sk-parallel-item:only-child::after {width: 0;}#sk-container-id-2 div.sk-dashed-wrapped {border: 1px dashed gray;margin: 0 0.4em 0.5em 0.4em;box-sizing: border-box;padding-bottom: 0.4em;background-color: white;}#sk-container-id-2 div.sk-label label {font-family: monospace;font-weight: bold;display: inline-block;line-height: 1.2em;}#sk-container-id-2 div.sk-label-container {text-align: center;}#sk-container-id-2 div.sk-container {/* jupyter's `normalize.less` sets `[hidden] { display: none; }` but bootstrap.min.css set `[hidden] { display: none !important; }` so we also need the `!important` here to be able to override the default hidden behavior on the sphinx rendered scikit-learn.org. See: https://github.com/scikit-learn/scikit-learn/issues/21755 */display: inline-block !important;position: relative;}#sk-container-id-2 div.sk-text-repr-fallback {display: none;}</style><div id=\"sk-container-id-2\" class=\"sk-top-container\"><div class=\"sk-text-repr-fallback\"><pre>GridSearchCV(cv=5, estimator=RandomForestRegressor(random_state=16),\n",
       "             param_grid={&#x27;max_depth&#x27;: [4, 3, 2, None],\n",
       "                         &#x27;max_features&#x27;: [3, 4, 5, 6],\n",
       "                         &#x27;n_estimators&#x27;: [95, 100, 105]})</pre><b>In a Jupyter environment, please rerun this cell to show the HTML representation or trust the notebook. <br />On GitHub, the HTML representation is unable to render, please try loading this page with nbviewer.org.</b></div><div class=\"sk-container\" hidden><div class=\"sk-item sk-dashed-wrapped\"><div class=\"sk-label-container\"><div class=\"sk-label sk-toggleable\"><input class=\"sk-toggleable__control sk-hidden--visually\" id=\"sk-estimator-id-4\" type=\"checkbox\" ><label for=\"sk-estimator-id-4\" class=\"sk-toggleable__label sk-toggleable__label-arrow\">GridSearchCV</label><div class=\"sk-toggleable__content\"><pre>GridSearchCV(cv=5, estimator=RandomForestRegressor(random_state=16),\n",
       "             param_grid={&#x27;max_depth&#x27;: [4, 3, 2, None],\n",
       "                         &#x27;max_features&#x27;: [3, 4, 5, 6],\n",
       "                         &#x27;n_estimators&#x27;: [95, 100, 105]})</pre></div></div></div><div class=\"sk-parallel\"><div class=\"sk-parallel-item\"><div class=\"sk-item\"><div class=\"sk-label-container\"><div class=\"sk-label sk-toggleable\"><input class=\"sk-toggleable__control sk-hidden--visually\" id=\"sk-estimator-id-5\" type=\"checkbox\" ><label for=\"sk-estimator-id-5\" class=\"sk-toggleable__label sk-toggleable__label-arrow\">estimator: RandomForestRegressor</label><div class=\"sk-toggleable__content\"><pre>RandomForestRegressor(random_state=16)</pre></div></div></div><div class=\"sk-serial\"><div class=\"sk-item\"><div class=\"sk-estimator sk-toggleable\"><input class=\"sk-toggleable__control sk-hidden--visually\" id=\"sk-estimator-id-6\" type=\"checkbox\" ><label for=\"sk-estimator-id-6\" class=\"sk-toggleable__label sk-toggleable__label-arrow\">RandomForestRegressor</label><div class=\"sk-toggleable__content\"><pre>RandomForestRegressor(random_state=16)</pre></div></div></div></div></div></div></div></div></div></div>"
      ],
      "text/plain": [
       "GridSearchCV(cv=5, estimator=RandomForestRegressor(random_state=16),\n",
       "             param_grid={'max_depth': [4, 3, 2, None],\n",
       "                         'max_features': [3, 4, 5, 6],\n",
       "                         'n_estimators': [95, 100, 105]})"
      ]
     },
     "execution_count": 125,
     "metadata": {},
     "output_type": "execute_result"
    }
   ],
   "source": [
    "rfrcv = GridSearchCV(estimator=rfr, param_grid=parameters, cv=5)\n",
    "rfrcv.fit(X_train, y_train)"
   ]
  },
  {
   "cell_type": "code",
   "execution_count": 126,
   "id": "13e69eb9",
   "metadata": {},
   "outputs": [
    {
     "data": {
      "text/plain": [
       "{'max_depth': 2, 'max_features': 5, 'n_estimators': 100}"
      ]
     },
     "execution_count": 126,
     "metadata": {},
     "output_type": "execute_result"
    }
   ],
   "source": [
    "rfrcv.best_params_"
   ]
  },
  {
   "cell_type": "code",
   "execution_count": 127,
   "id": "d491f084",
   "metadata": {},
   "outputs": [
    {
     "name": "stdout",
     "output_type": "stream",
     "text": [
      "Best params:  {'max_depth': 2, 'max_features': 5, 'n_estimators': 100}\n"
     ]
    }
   ],
   "source": [
    "# Check the best parameters used\n",
    "print('Best params: ',rfrcv.best_params_)"
   ]
  },
  {
   "cell_type": "code",
   "execution_count": 128,
   "id": "ded321aa",
   "metadata": {},
   "outputs": [
    {
     "name": "stdout",
     "output_type": "stream",
     "text": [
      "Training Score (MSE):  0.23989347720131593\n",
      "Training Score (RMSE):  0.48978921711417445\n",
      "Training - R-squared score for the model:  0.24313838886421502\n"
     ]
    }
   ],
   "source": [
    "# Check best score for the top perfroming model\n",
    "print('Training Score (MSE): ',rfrcv.best_score_)\n",
    "print('Training Score (RMSE): ',(rfrcv.best_score_)**(1/2))\n",
    "y_train_pred = rfrcv.predict(X_train)\n",
    "print('Training - R-squared score for the model: ',r2_score(y_train, y_train_pred))"
   ]
  },
  {
   "cell_type": "code",
   "execution_count": 129,
   "id": "35269d5a",
   "metadata": {},
   "outputs": [],
   "source": [
    "# Check prediction accuracy\n",
    "y_pred = rfrcv.predict(X_test) # Perform prediction"
   ]
  },
  {
   "cell_type": "code",
   "execution_count": 130,
   "id": "7bef8221",
   "metadata": {},
   "outputs": [
    {
     "name": "stdout",
     "output_type": "stream",
     "text": [
      "Testing - Mean squared error for the model:  543.3178065489346\n",
      "Testing - Root Mean squared error for the model:  23.309178590180622\n",
      "Testing - R-squared error for the model:  0.2220077936485153\n"
     ]
    }
   ],
   "source": [
    "print('Testing - Mean squared error for the model: ',mse(y_test,y_pred))\n",
    "print('Testing - Root Mean squared error for the model: ',mse(y_test,y_pred)**(1/2))\n",
    "print('Testing - R-squared error for the model: ',r2_score(y_test,y_pred))"
   ]
  },
  {
   "cell_type": "code",
   "execution_count": 131,
   "id": "69bf1721",
   "metadata": {},
   "outputs": [],
   "source": [
    "# Creat a pd.Series of features importances\n",
    "importances = pd.Series(data=rfrcv.best_estimator_.feature_importances_, \n",
    "                        index = X_train.columns)"
   ]
  },
  {
   "cell_type": "code",
   "execution_count": 132,
   "id": "68cdcc45",
   "metadata": {},
   "outputs": [],
   "source": [
    "# Sort importances\n",
    "importances_sorted = importances.sort_values()"
   ]
  },
  {
   "cell_type": "code",
   "execution_count": 133,
   "id": "48d1b437",
   "metadata": {},
   "outputs": [
    {
     "data": {
      "image/png": "[encoded data removed]",
      "text/plain": [
       "<Figure size 640x480 with 1 Axes>"
      ]
     },
     "metadata": {},
     "output_type": "display_data"
    }
   ],
   "source": [
    "# Draw a horizontal barplot of importances_sorted\n",
    "importances_sorted.plot(kind='barh', color='lightgreen')\n",
    "plt.title('Feature Importances')\n",
    "plt.show()"
   ]
  },
  {
   "cell_type": "code",
   "execution_count": 134,
   "id": "e6733a98",
   "metadata": {},
   "outputs": [
    {
     "name": "stdout",
     "output_type": "stream",
     "text": [
      "Mean Squared Error (MSE) on Training Data:  0.24\n",
      "Mean Squared Error (MSE) on Testing Data:  543.318\n"
     ]
    }
   ],
   "source": [
    "print('Mean Squared Error (MSE) on Training Data: ',round(rfrcv.best_score_,3))\n",
    "print('Mean Squared Error (MSE) on Testing Data: ',round(mse(y_test,y_pred),3))"
   ]
  },
  {
   "cell_type": "code",
   "execution_count": 135,
   "id": "2aaacf83",
   "metadata": {},
   "outputs": [
    {
     "name": "stdout",
     "output_type": "stream",
     "text": [
      "Root Mean Squared Error (RMSE) on Training Data:  0.49\n",
      "Root Mean Squared Error (RMSE) on Testing Data:  23.309\n"
     ]
    }
   ],
   "source": [
    "print('Root Mean Squared Error (RMSE) on Training Data: ',round((rfrcv.best_score_)**(1/2),3))\n",
    "print('Root Mean Squared Error (RMSE) on Testing Data: ',round(mse(y_test, y_pred, squared=False),3))"
   ]
  },
  {
   "cell_type": "code",
   "execution_count": 136,
   "id": "3a1a7a56",
   "metadata": {},
   "outputs": [
    {
     "name": "stdout",
     "output_type": "stream",
     "text": [
      "R-squared score on Training Data:  0.243\n",
      "R-squared score on Testing Data:  0.222\n"
     ]
    }
   ],
   "source": [
    "print('R-squared score on Training Data: ',round(r2_score(y_train, y_train_pred),3))\n",
    "print('R-squared score on Testing Data: ',round(r2_score(y_test, y_pred),3))"
   ]
  },
  {
   "cell_type": "code",
   "execution_count": 137,
   "id": "64b652fe",
   "metadata": {},
   "outputs": [],
   "source": [
    "prediction = rfrcv.predict(X_test)"
   ]
  },
  {
   "cell_type": "code",
   "execution_count": 138,
   "id": "fb353a14",
   "metadata": {},
   "outputs": [
    {
     "name": "stdout",
     "output_type": "stream",
     "text": [
      "543.3178065489346\n",
      "23.309178590180622\n"
     ]
    }
   ],
   "source": [
    "mse1 = mse(y_test, prediction)\n",
    "rmse1 = mse1**.5\n",
    "print(mse1)\n",
    "print(rmse1)"
   ]
  },
  {
   "cell_type": "code",
   "execution_count": 139,
   "id": "706c33f7",
   "metadata": {},
   "outputs": [
    {
     "name": "stdout",
     "output_type": "stream",
     "text": [
      "0.2220077936485153\n"
     ]
    }
   ],
   "source": [
    "score = rfrcv.score(X_test, y_test)\n",
    "print(score)"
   ]
  },
  {
   "cell_type": "code",
   "execution_count": null,
   "id": "25c2fc6c",
   "metadata": {},
   "outputs": [],
   "source": []
  }
 ],
 "metadata": {
  "kernelspec": {
   "display_name": "Python 3 (ipykernel)",
   "language": "python",
   "name": "python3"
  },
  "language_info": {
   "codemirror_mode": {
    "name": "ipython",
    "version": 3
   },
   "file_extension": ".py",
   "mimetype": "text/x-python",
   "name": "python",
   "nbconvert_exporter": "python",
   "pygments_lexer": "ipython3",
   "version": "3.9.13"
  }
 },
 "nbformat": 4,
 "nbformat_minor": 5
}
