{
 "cells": [
  {
   "cell_type": "code",
   "execution_count": 1,
   "id": "7ac23489",
   "metadata": {},
   "outputs": [],
   "source": [
    "# Import pandas for manipulating numerical tables\n",
    "import pandas as pd\n",
    "\n",
    "# Import numpy for numerical calculations\n",
    "import numpy as np\n",
    "\n",
    "# Import matplotlib for plotting data\n",
    "import matplotlib.pyplot as plt\n",
    "#%matplotlib inline\n",
    "\n",
    "# Import scipy-stats for statistical analysis and outlier detection\n",
    "from scipy import stats as st\n",
    "\n",
    "# Import missingno for visualizations\n",
    "import missingno as msno\n",
    "\n",
    "# Import for splitting model\n",
    "from sklearn.model_selection import train_test_split\n",
    "\n",
    "# Import for VIF scores\n",
    "from statsmodels.stats.outliers_influence import variance_inflation_factor\n",
    "\n",
    "# Import for classification report and confusion matrix\n",
    "from sklearn.metrics import classification_report, confusion_matrix\n",
    "\n",
    "# Import to show python version\n",
    "from platform import python_version\n",
    "\n",
    "# Import for model variable reduction\n",
    "from sklearn.feature_selection import SelectKBest\n",
    "\n",
    "# Import for scaling data\n",
    "from sklearn.preprocessing import StandardScaler\n",
    "\n",
    "# Import for KNN model creation\n",
    "from sklearn.neighbors import KNeighborsClassifier\n",
    "\n",
    "# Import for ROC curve\n",
    "from sklearn.metrics import roc_curve\n",
    "\n",
    "# Import for AUC score\n",
    "from sklearn.metrics import roc_auc_score\n",
    "\n",
    "import warnings\n",
    "warnings.filterwarnings('ignore')"
   ]
  },
  {
   "cell_type": "code",
   "execution_count": 2,
   "id": "aae9432f",
   "metadata": {},
   "outputs": [
    {
     "name": "stdout",
     "output_type": "stream",
     "text": [
      "Python version used for this analysis is:  3.9.13\n"
     ]
    }
   ],
   "source": [
    "print('Python version used for this analysis is: ', python_version())"
   ]
  },
  {
   "cell_type": "code",
   "execution_count": 3,
   "id": "61933383",
   "metadata": {},
   "outputs": [],
   "source": [
    "# Importing the churn dataset\n",
    "df = pd.read_csv('C:/users/eric7/D209/churn_clean.csv')"
   ]
  },
  {
   "cell_type": "code",
   "execution_count": 4,
   "id": "6fedc77c",
   "metadata": {},
   "outputs": [
    {
     "data": {
      "text/html": [
       "<div>\n",
       "<style scoped>\n",
       "    .dataframe tbody tr th:only-of-type {\n",
       "        vertical-align: middle;\n",
       "    }\n",
       "\n",
       "    .dataframe tbody tr th {\n",
       "        vertical-align: top;\n",
       "    }\n",
       "\n",
       "    .dataframe thead th {\n",
       "        text-align: right;\n",
       "    }\n",
       "</style>\n",
       "<table border=\"1\" class=\"dataframe\">\n",
       "  <thead>\n",
       "    <tr style=\"text-align: right;\">\n",
       "      <th></th>\n",
       "      <th>CaseOrder</th>\n",
       "      <th>Customer_id</th>\n",
       "      <th>Interaction</th>\n",
       "      <th>UID</th>\n",
       "      <th>City</th>\n",
       "      <th>State</th>\n",
       "      <th>County</th>\n",
       "      <th>Zip</th>\n",
       "      <th>Lat</th>\n",
       "      <th>Lng</th>\n",
       "      <th>...</th>\n",
       "      <th>MonthlyCharge</th>\n",
       "      <th>Bandwidth_GB_Year</th>\n",
       "      <th>Item1</th>\n",
       "      <th>Item2</th>\n",
       "      <th>Item3</th>\n",
       "      <th>Item4</th>\n",
       "      <th>Item5</th>\n",
       "      <th>Item6</th>\n",
       "      <th>Item7</th>\n",
       "      <th>Item8</th>\n",
       "    </tr>\n",
       "  </thead>\n",
       "  <tbody>\n",
       "    <tr>\n",
       "      <th>0</th>\n",
       "      <td>1</td>\n",
       "      <td>K409198</td>\n",
       "      <td>aa90260b-4141-4a24-8e36-b04ce1f4f77b</td>\n",
       "      <td>e885b299883d4f9fb18e39c75155d990</td>\n",
       "      <td>Point Baker</td>\n",
       "      <td>AK</td>\n",
       "      <td>Prince of Wales-Hyder</td>\n",
       "      <td>99927</td>\n",
       "      <td>56.25100</td>\n",
       "      <td>-133.37571</td>\n",
       "      <td>...</td>\n",
       "      <td>172.455519</td>\n",
       "      <td>904.536110</td>\n",
       "      <td>5</td>\n",
       "      <td>5</td>\n",
       "      <td>5</td>\n",
       "      <td>3</td>\n",
       "      <td>4</td>\n",
       "      <td>4</td>\n",
       "      <td>3</td>\n",
       "      <td>4</td>\n",
       "    </tr>\n",
       "    <tr>\n",
       "      <th>1</th>\n",
       "      <td>2</td>\n",
       "      <td>S120509</td>\n",
       "      <td>fb76459f-c047-4a9d-8af9-e0f7d4ac2524</td>\n",
       "      <td>f2de8bef964785f41a2959829830fb8a</td>\n",
       "      <td>West Branch</td>\n",
       "      <td>MI</td>\n",
       "      <td>Ogemaw</td>\n",
       "      <td>48661</td>\n",
       "      <td>44.32893</td>\n",
       "      <td>-84.24080</td>\n",
       "      <td>...</td>\n",
       "      <td>242.632554</td>\n",
       "      <td>800.982766</td>\n",
       "      <td>3</td>\n",
       "      <td>4</td>\n",
       "      <td>3</td>\n",
       "      <td>3</td>\n",
       "      <td>4</td>\n",
       "      <td>3</td>\n",
       "      <td>4</td>\n",
       "      <td>4</td>\n",
       "    </tr>\n",
       "    <tr>\n",
       "      <th>2</th>\n",
       "      <td>3</td>\n",
       "      <td>K191035</td>\n",
       "      <td>344d114c-3736-4be5-98f7-c72c281e2d35</td>\n",
       "      <td>f1784cfa9f6d92ae816197eb175d3c71</td>\n",
       "      <td>Yamhill</td>\n",
       "      <td>OR</td>\n",
       "      <td>Yamhill</td>\n",
       "      <td>97148</td>\n",
       "      <td>45.35589</td>\n",
       "      <td>-123.24657</td>\n",
       "      <td>...</td>\n",
       "      <td>159.947583</td>\n",
       "      <td>2054.706961</td>\n",
       "      <td>4</td>\n",
       "      <td>4</td>\n",
       "      <td>2</td>\n",
       "      <td>4</td>\n",
       "      <td>4</td>\n",
       "      <td>3</td>\n",
       "      <td>3</td>\n",
       "      <td>3</td>\n",
       "    </tr>\n",
       "    <tr>\n",
       "      <th>3</th>\n",
       "      <td>4</td>\n",
       "      <td>D90850</td>\n",
       "      <td>abfa2b40-2d43-4994-b15a-989b8c79e311</td>\n",
       "      <td>dc8a365077241bb5cd5ccd305136b05e</td>\n",
       "      <td>Del Mar</td>\n",
       "      <td>CA</td>\n",
       "      <td>San Diego</td>\n",
       "      <td>92014</td>\n",
       "      <td>32.96687</td>\n",
       "      <td>-117.24798</td>\n",
       "      <td>...</td>\n",
       "      <td>119.956840</td>\n",
       "      <td>2164.579412</td>\n",
       "      <td>4</td>\n",
       "      <td>4</td>\n",
       "      <td>4</td>\n",
       "      <td>2</td>\n",
       "      <td>5</td>\n",
       "      <td>4</td>\n",
       "      <td>3</td>\n",
       "      <td>3</td>\n",
       "    </tr>\n",
       "    <tr>\n",
       "      <th>4</th>\n",
       "      <td>5</td>\n",
       "      <td>K662701</td>\n",
       "      <td>68a861fd-0d20-4e51-a587-8a90407ee574</td>\n",
       "      <td>aabb64a116e83fdc4befc1fbab1663f9</td>\n",
       "      <td>Needville</td>\n",
       "      <td>TX</td>\n",
       "      <td>Fort Bend</td>\n",
       "      <td>77461</td>\n",
       "      <td>29.38012</td>\n",
       "      <td>-95.80673</td>\n",
       "      <td>...</td>\n",
       "      <td>149.948316</td>\n",
       "      <td>271.493436</td>\n",
       "      <td>4</td>\n",
       "      <td>4</td>\n",
       "      <td>4</td>\n",
       "      <td>3</td>\n",
       "      <td>4</td>\n",
       "      <td>4</td>\n",
       "      <td>4</td>\n",
       "      <td>5</td>\n",
       "    </tr>\n",
       "  </tbody>\n",
       "</table>\n",
       "<p>5 rows × 50 columns</p>\n",
       "</div>"
      ],
      "text/plain": [
       "   CaseOrder Customer_id                           Interaction  \\\n",
       "0          1     K409198  aa90260b-4141-4a24-8e36-b04ce1f4f77b   \n",
       "1          2     S120509  fb76459f-c047-4a9d-8af9-e0f7d4ac2524   \n",
       "2          3     K191035  344d114c-3736-4be5-98f7-c72c281e2d35   \n",
       "3          4      D90850  abfa2b40-2d43-4994-b15a-989b8c79e311   \n",
       "4          5     K662701  68a861fd-0d20-4e51-a587-8a90407ee574   \n",
       "\n",
       "                                UID         City State                 County  \\\n",
       "0  e885b299883d4f9fb18e39c75155d990  Point Baker    AK  Prince of Wales-Hyder   \n",
       "1  f2de8bef964785f41a2959829830fb8a  West Branch    MI                 Ogemaw   \n",
       "2  f1784cfa9f6d92ae816197eb175d3c71      Yamhill    OR                Yamhill   \n",
       "3  dc8a365077241bb5cd5ccd305136b05e      Del Mar    CA              San Diego   \n",
       "4  aabb64a116e83fdc4befc1fbab1663f9    Needville    TX              Fort Bend   \n",
       "\n",
       "     Zip       Lat        Lng  ...  MonthlyCharge Bandwidth_GB_Year Item1  \\\n",
       "0  99927  56.25100 -133.37571  ...     172.455519        904.536110     5   \n",
       "1  48661  44.32893  -84.24080  ...     242.632554        800.982766     3   \n",
       "2  97148  45.35589 -123.24657  ...     159.947583       2054.706961     4   \n",
       "3  92014  32.96687 -117.24798  ...     119.956840       2164.579412     4   \n",
       "4  77461  29.38012  -95.80673  ...     149.948316        271.493436     4   \n",
       "\n",
       "  Item2  Item3  Item4  Item5 Item6 Item7 Item8  \n",
       "0     5      5      3      4     4     3     4  \n",
       "1     4      3      3      4     3     4     4  \n",
       "2     4      2      4      4     3     3     3  \n",
       "3     4      4      2      5     4     3     3  \n",
       "4     4      4      3      4     4     4     5  \n",
       "\n",
       "[5 rows x 50 columns]"
      ]
     },
     "execution_count": 4,
     "metadata": {},
     "output_type": "execute_result"
    }
   ],
   "source": [
    "# Just checking to see if the data is there\n",
    "df.head()"
   ]
  },
  {
   "cell_type": "code",
   "execution_count": 5,
   "id": "e3a224a3",
   "metadata": {},
   "outputs": [
    {
     "name": "stdout",
     "output_type": "stream",
     "text": [
      "(10000, 50)\n"
     ]
    }
   ],
   "source": [
    "# Check shape of df\n",
    "print(df.shape)\n",
    "# 10000 rows or instances and 50 columns or variables"
   ]
  },
  {
   "cell_type": "code",
   "execution_count": 6,
   "id": "8e0ab2be",
   "metadata": {},
   "outputs": [
    {
     "name": "stdout",
     "output_type": "stream",
     "text": [
      "<class 'pandas.core.frame.DataFrame'>\n",
      "RangeIndex: 10000 entries, 0 to 9999\n",
      "Data columns (total 50 columns):\n",
      " #   Column                Non-Null Count  Dtype  \n",
      "---  ------                --------------  -----  \n",
      " 0   CaseOrder             10000 non-null  int64  \n",
      " 1   Customer_id           10000 non-null  object \n",
      " 2   Interaction           10000 non-null  object \n",
      " 3   UID                   10000 non-null  object \n",
      " 4   City                  10000 non-null  object \n",
      " 5   State                 10000 non-null  object \n",
      " 6   County                10000 non-null  object \n",
      " 7   Zip                   10000 non-null  int64  \n",
      " 8   Lat                   10000 non-null  float64\n",
      " 9   Lng                   10000 non-null  float64\n",
      " 10  Population            10000 non-null  int64  \n",
      " 11  Area                  10000 non-null  object \n",
      " 12  TimeZone              10000 non-null  object \n",
      " 13  Job                   10000 non-null  object \n",
      " 14  Children              10000 non-null  int64  \n",
      " 15  Age                   10000 non-null  int64  \n",
      " 16  Income                10000 non-null  float64\n",
      " 17  Marital               10000 non-null  object \n",
      " 18  Gender                10000 non-null  object \n",
      " 19  Churn                 10000 non-null  object \n",
      " 20  Outage_sec_perweek    10000 non-null  float64\n",
      " 21  Email                 10000 non-null  int64  \n",
      " 22  Contacts              10000 non-null  int64  \n",
      " 23  Yearly_equip_failure  10000 non-null  int64  \n",
      " 24  Techie                10000 non-null  object \n",
      " 25  Contract              10000 non-null  object \n",
      " 26  Port_modem            10000 non-null  object \n",
      " 27  Tablet                10000 non-null  object \n",
      " 28  InternetService       10000 non-null  object \n",
      " 29  Phone                 10000 non-null  object \n",
      " 30  Multiple              10000 non-null  object \n",
      " 31  OnlineSecurity        10000 non-null  object \n",
      " 32  OnlineBackup          10000 non-null  object \n",
      " 33  DeviceProtection      10000 non-null  object \n",
      " 34  TechSupport           10000 non-null  object \n",
      " 35  StreamingTV           10000 non-null  object \n",
      " 36  StreamingMovies       10000 non-null  object \n",
      " 37  PaperlessBilling      10000 non-null  object \n",
      " 38  PaymentMethod         10000 non-null  object \n",
      " 39  Tenure                10000 non-null  float64\n",
      " 40  MonthlyCharge         10000 non-null  float64\n",
      " 41  Bandwidth_GB_Year     10000 non-null  float64\n",
      " 42  Item1                 10000 non-null  int64  \n",
      " 43  Item2                 10000 non-null  int64  \n",
      " 44  Item3                 10000 non-null  int64  \n",
      " 45  Item4                 10000 non-null  int64  \n",
      " 46  Item5                 10000 non-null  int64  \n",
      " 47  Item6                 10000 non-null  int64  \n",
      " 48  Item7                 10000 non-null  int64  \n",
      " 49  Item8                 10000 non-null  int64  \n",
      "dtypes: float64(7), int64(16), object(27)\n",
      "memory usage: 3.8+ MB\n",
      "None\n"
     ]
    }
   ],
   "source": [
    "# Check df info\n",
    "print(df.info())"
   ]
  },
  {
   "cell_type": "code",
   "execution_count": 7,
   "id": "9b588627",
   "metadata": {},
   "outputs": [
    {
     "data": {
      "image/png": "[encoded data removed]",
      "text/plain": [
       "<Figure size 2500x1000 with 2 Axes>"
      ]
     },
     "metadata": {},
     "output_type": "display_data"
    }
   ],
   "source": [
    "# Visualize df for missingness\n",
    "msno.matrix(df, labels = True)\n",
    "plt.show()"
   ]
  },
  {
   "cell_type": "code",
   "execution_count": 8,
   "id": "8660ebb9",
   "metadata": {},
   "outputs": [
    {
     "data": {
      "text/plain": [
       "0"
      ]
     },
     "execution_count": 8,
     "metadata": {},
     "output_type": "execute_result"
    }
   ],
   "source": [
    "# Check for duplicates\n",
    "df.duplicated().sum()"
   ]
  },
  {
   "cell_type": "code",
   "execution_count": 9,
   "id": "8da7d994",
   "metadata": {},
   "outputs": [],
   "source": [
    "# Create a copy of df to preserve original\n",
    "df1 = df.copy()"
   ]
  },
  {
   "cell_type": "code",
   "execution_count": 10,
   "id": "6f0bf171",
   "metadata": {},
   "outputs": [],
   "source": [
    "# Create df1 for initial model--\n",
    "# Dropping columns CaseOrder, Customer_id, Interaction_UID, City,\n",
    "# State, County, Zip, Lat, Lng, TimeZone, Job, and Item1 thru Item8\n",
    "df1 = df1[['Population', 'Area', 'Children', 'Age', 'Income', 'Marital', \n",
    "           'Gender', 'Churn', 'Outage_sec_perweek', 'Email', 'Contacts', \n",
    "           'Yearly_equip_failure', 'Techie', 'Contract', 'Port_modem',\n",
    "           'Tablet', 'InternetService', 'Phone', 'Multiple', \n",
    "           'OnlineSecurity', 'OnlineBackup', 'DeviceProtection', \n",
    "           'TechSupport', 'StreamingTV', 'StreamingMovies', \n",
    "           'PaperlessBilling', 'PaymentMethod', 'Tenure', \n",
    "           'MonthlyCharge', 'Bandwidth_GB_Year']]"
   ]
  },
  {
   "cell_type": "code",
   "execution_count": 11,
   "id": "5fc36980",
   "metadata": {},
   "outputs": [
    {
     "name": "stdout",
     "output_type": "stream",
     "text": [
      "<class 'pandas.core.frame.DataFrame'>\n",
      "RangeIndex: 10000 entries, 0 to 9999\n",
      "Data columns (total 30 columns):\n",
      " #   Column                Non-Null Count  Dtype  \n",
      "---  ------                --------------  -----  \n",
      " 0   Population            10000 non-null  int64  \n",
      " 1   Area                  10000 non-null  object \n",
      " 2   Children              10000 non-null  int64  \n",
      " 3   Age                   10000 non-null  int64  \n",
      " 4   Income                10000 non-null  float64\n",
      " 5   Marital               10000 non-null  object \n",
      " 6   Gender                10000 non-null  object \n",
      " 7   Churn                 10000 non-null  object \n",
      " 8   Outage_sec_perweek    10000 non-null  float64\n",
      " 9   Email                 10000 non-null  int64  \n",
      " 10  Contacts              10000 non-null  int64  \n",
      " 11  Yearly_equip_failure  10000 non-null  int64  \n",
      " 12  Techie                10000 non-null  object \n",
      " 13  Contract              10000 non-null  object \n",
      " 14  Port_modem            10000 non-null  object \n",
      " 15  Tablet                10000 non-null  object \n",
      " 16  InternetService       10000 non-null  object \n",
      " 17  Phone                 10000 non-null  object \n",
      " 18  Multiple              10000 non-null  object \n",
      " 19  OnlineSecurity        10000 non-null  object \n",
      " 20  OnlineBackup          10000 non-null  object \n",
      " 21  DeviceProtection      10000 non-null  object \n",
      " 22  TechSupport           10000 non-null  object \n",
      " 23  StreamingTV           10000 non-null  object \n",
      " 24  StreamingMovies       10000 non-null  object \n",
      " 25  PaperlessBilling      10000 non-null  object \n",
      " 26  PaymentMethod         10000 non-null  object \n",
      " 27  Tenure                10000 non-null  float64\n",
      " 28  MonthlyCharge         10000 non-null  float64\n",
      " 29  Bandwidth_GB_Year     10000 non-null  float64\n",
      "dtypes: float64(5), int64(6), object(19)\n",
      "memory usage: 2.3+ MB\n"
     ]
    }
   ],
   "source": [
    "# Check the info\n",
    "df1.info()"
   ]
  },
  {
   "cell_type": "code",
   "execution_count": 12,
   "id": "70bf42c0",
   "metadata": {},
   "outputs": [
    {
     "data": {
      "text/plain": [
       "(10000, 30)"
      ]
     },
     "execution_count": 12,
     "metadata": {},
     "output_type": "execute_result"
    }
   ],
   "source": [
    "# Checking shape for initial model\n",
    "df1.shape"
   ]
  },
  {
   "cell_type": "code",
   "execution_count": 13,
   "id": "30b468f6",
   "metadata": {},
   "outputs": [
    {
     "name": "stdout",
     "output_type": "stream",
     "text": [
      "[     0      2      4 ... 102433 103732 111850]\n"
     ]
    }
   ],
   "source": [
    "# Checking variables unique values for validity\n",
    "print(df1['Population'].sort_values().unique())"
   ]
  },
  {
   "cell_type": "code",
   "execution_count": 14,
   "id": "0511f1bb",
   "metadata": {},
   "outputs": [
    {
     "data": {
      "text/plain": [
       "count     10000.000000\n",
       "mean       9756.562400\n",
       "std       14432.698671\n",
       "min           0.000000\n",
       "25%         738.000000\n",
       "50%        2910.500000\n",
       "75%       13168.000000\n",
       "max      111850.000000\n",
       "Name: Population, dtype: float64"
      ]
     },
     "execution_count": 14,
     "metadata": {},
     "output_type": "execute_result"
    }
   ],
   "source": [
    "# Check before replacement\n",
    "df1['Population'].describe()"
   ]
  },
  {
   "cell_type": "code",
   "execution_count": 15,
   "id": "9e6f42a1",
   "metadata": {},
   "outputs": [
    {
     "name": "stdout",
     "output_type": "stream",
     "text": [
      "['Rural' 'Suburban' 'Urban']\n"
     ]
    }
   ],
   "source": [
    "# Checking variables unique values for validity\n",
    "print(df1['Area'].sort_values().unique())"
   ]
  },
  {
   "cell_type": "code",
   "execution_count": 16,
   "id": "e2029277",
   "metadata": {},
   "outputs": [
    {
     "data": {
      "text/plain": [
       "count        10000\n",
       "unique           3\n",
       "top       Suburban\n",
       "freq          3346\n",
       "Name: Area, dtype: object"
      ]
     },
     "execution_count": 16,
     "metadata": {},
     "output_type": "execute_result"
    }
   ],
   "source": [
    "# Check before replacement\n",
    "df1['Area'].describe()"
   ]
  },
  {
   "cell_type": "code",
   "execution_count": 17,
   "id": "7db3f757",
   "metadata": {},
   "outputs": [
    {
     "data": {
      "text/plain": [
       "Suburban    3346\n",
       "Urban       3327\n",
       "Rural       3327\n",
       "Name: Area, dtype: int64"
      ]
     },
     "execution_count": 17,
     "metadata": {},
     "output_type": "execute_result"
    }
   ],
   "source": [
    "# Get the counts for each\n",
    "df1['Area'].value_counts()"
   ]
  },
  {
   "cell_type": "code",
   "execution_count": 18,
   "id": "e5cc3344",
   "metadata": {},
   "outputs": [
    {
     "name": "stdout",
     "output_type": "stream",
     "text": [
      "[ 0  1  2  3  4  5  6  7  8  9 10]\n"
     ]
    }
   ],
   "source": [
    "# Checking variables unique values for validity\n",
    "print(df1['Children'].sort_values().unique())"
   ]
  },
  {
   "cell_type": "code",
   "execution_count": 19,
   "id": "45045fd4",
   "metadata": {},
   "outputs": [
    {
     "data": {
      "text/plain": [
       "count    10000.0000\n",
       "mean         2.0877\n",
       "std          2.1472\n",
       "min          0.0000\n",
       "25%          0.0000\n",
       "50%          1.0000\n",
       "75%          3.0000\n",
       "max         10.0000\n",
       "Name: Children, dtype: float64"
      ]
     },
     "execution_count": 19,
     "metadata": {},
     "output_type": "execute_result"
    }
   ],
   "source": [
    "# Get statistics of the variable\n",
    "df1['Children'].describe()"
   ]
  },
  {
   "cell_type": "code",
   "execution_count": 20,
   "id": "3f2b905e",
   "metadata": {},
   "outputs": [
    {
     "name": "stdout",
     "output_type": "stream",
     "text": [
      "[18 19 20 21 22 23 24 25 26 27 28 29 30 31 32 33 34 35 36 37 38 39 40 41\n",
      " 42 43 44 45 46 47 48 49 50 51 52 53 54 55 56 57 58 59 60 61 62 63 64 65\n",
      " 66 67 68 69 70 71 72 73 74 75 76 77 78 79 80 81 82 83 84 85 86 87 88 89]\n"
     ]
    }
   ],
   "source": [
    "# Checking variables unique values for validity\n",
    "print(df1['Age'].sort_values().unique())"
   ]
  },
  {
   "cell_type": "code",
   "execution_count": 21,
   "id": "1c9b4248",
   "metadata": {},
   "outputs": [
    {
     "data": {
      "text/plain": [
       "count    10000.000000\n",
       "mean        53.078400\n",
       "std         20.698882\n",
       "min         18.000000\n",
       "25%         35.000000\n",
       "50%         53.000000\n",
       "75%         71.000000\n",
       "max         89.000000\n",
       "Name: Age, dtype: float64"
      ]
     },
     "execution_count": 21,
     "metadata": {},
     "output_type": "execute_result"
    }
   ],
   "source": [
    "# Get statistics of the variable\n",
    "df1['Age'].describe()"
   ]
  },
  {
   "cell_type": "code",
   "execution_count": 22,
   "id": "127cc3e8",
   "metadata": {},
   "outputs": [
    {
     "name": "stdout",
     "output_type": "stream",
     "text": [
      "[   348.67    368.5     630.24 ... 231252.   256998.4  258900.7 ]\n"
     ]
    }
   ],
   "source": [
    "# Checking variables unique values for validity\n",
    "print(df1['Income'].sort_values().unique())"
   ]
  },
  {
   "cell_type": "code",
   "execution_count": 23,
   "id": "b9e71e25",
   "metadata": {},
   "outputs": [
    {
     "data": {
      "text/plain": [
       "count     10000.000000\n",
       "mean      39806.926771\n",
       "std       28199.916702\n",
       "min         348.670000\n",
       "25%       19224.717500\n",
       "50%       33170.605000\n",
       "75%       53246.170000\n",
       "max      258900.700000\n",
       "Name: Income, dtype: float64"
      ]
     },
     "execution_count": 23,
     "metadata": {},
     "output_type": "execute_result"
    }
   ],
   "source": [
    "# Get statistics of the variable\n",
    "df1['Income'].describe()"
   ]
  },
  {
   "cell_type": "code",
   "execution_count": 24,
   "id": "6fce2324",
   "metadata": {},
   "outputs": [
    {
     "name": "stdout",
     "output_type": "stream",
     "text": [
      "['Divorced' 'Married' 'Never Married' 'Separated' 'Widowed']\n"
     ]
    }
   ],
   "source": [
    "# Checking variables unique values for validity\n",
    "print(df1['Marital'].sort_values().unique())"
   ]
  },
  {
   "cell_type": "code",
   "execution_count": 25,
   "id": "d17ebb90",
   "metadata": {},
   "outputs": [
    {
     "data": {
      "text/plain": [
       "count        10000\n",
       "unique           5\n",
       "top       Divorced\n",
       "freq          2092\n",
       "Name: Marital, dtype: object"
      ]
     },
     "execution_count": 25,
     "metadata": {},
     "output_type": "execute_result"
    }
   ],
   "source": [
    "# Get statistics of the variable\n",
    "df1['Marital'].describe()"
   ]
  },
  {
   "cell_type": "code",
   "execution_count": 26,
   "id": "0b41ac8b",
   "metadata": {},
   "outputs": [
    {
     "data": {
      "text/plain": [
       "Divorced         2092\n",
       "Widowed          2027\n",
       "Separated        2014\n",
       "Never Married    1956\n",
       "Married          1911\n",
       "Name: Marital, dtype: int64"
      ]
     },
     "execution_count": 26,
     "metadata": {},
     "output_type": "execute_result"
    }
   ],
   "source": [
    "# Get the counts for each\n",
    "df1['Marital'].value_counts()"
   ]
  },
  {
   "cell_type": "code",
   "execution_count": 27,
   "id": "bfe849c4",
   "metadata": {},
   "outputs": [
    {
     "name": "stdout",
     "output_type": "stream",
     "text": [
      "['Female' 'Male' 'Nonbinary']\n"
     ]
    }
   ],
   "source": [
    "# Checking variables unique values for validity\n",
    "print(df1['Gender'].sort_values().unique())"
   ]
  },
  {
   "cell_type": "code",
   "execution_count": 28,
   "id": "f2bd5b86",
   "metadata": {},
   "outputs": [
    {
     "data": {
      "text/plain": [
       "count      10000\n",
       "unique         3\n",
       "top       Female\n",
       "freq        5025\n",
       "Name: Gender, dtype: object"
      ]
     },
     "execution_count": 28,
     "metadata": {},
     "output_type": "execute_result"
    }
   ],
   "source": [
    "# Get statistics of the variable\n",
    "df1['Gender'].describe()"
   ]
  },
  {
   "cell_type": "code",
   "execution_count": 29,
   "id": "ad635c75",
   "metadata": {},
   "outputs": [
    {
     "data": {
      "text/plain": [
       "Female       5025\n",
       "Male         4744\n",
       "Nonbinary     231\n",
       "Name: Gender, dtype: int64"
      ]
     },
     "execution_count": 29,
     "metadata": {},
     "output_type": "execute_result"
    }
   ],
   "source": [
    "# Get the counts for each\n",
    "df1['Gender'].value_counts()"
   ]
  },
  {
   "cell_type": "code",
   "execution_count": 30,
   "id": "6aaa91e3",
   "metadata": {},
   "outputs": [
    {
     "name": "stdout",
     "output_type": "stream",
     "text": [
      "['No' 'Yes']\n"
     ]
    }
   ],
   "source": [
    "# Checking variables unique values for validity\n",
    "print(df1['Churn'].sort_values().unique())"
   ]
  },
  {
   "cell_type": "code",
   "execution_count": 31,
   "id": "5437faf2",
   "metadata": {},
   "outputs": [
    {
     "data": {
      "text/plain": [
       "count     10000\n",
       "unique        2\n",
       "top          No\n",
       "freq       7350\n",
       "Name: Churn, dtype: object"
      ]
     },
     "execution_count": 31,
     "metadata": {},
     "output_type": "execute_result"
    }
   ],
   "source": [
    "# Get statistics of the variable\n",
    "df1['Churn'].describe()"
   ]
  },
  {
   "cell_type": "code",
   "execution_count": 32,
   "id": "54f41e91",
   "metadata": {},
   "outputs": [
    {
     "data": {
      "text/plain": [
       "No     7350\n",
       "Yes    2650\n",
       "Name: Churn, dtype: int64"
      ]
     },
     "execution_count": 32,
     "metadata": {},
     "output_type": "execute_result"
    }
   ],
   "source": [
    "# Get the counts for each\n",
    "df1['Churn'].value_counts()"
   ]
  },
  {
   "cell_type": "code",
   "execution_count": 33,
   "id": "4cc749f7",
   "metadata": {},
   "outputs": [
    {
     "name": "stdout",
     "output_type": "stream",
     "text": [
      "[ 0.09974694  0.12005772  0.2322795  ... 20.30462    20.62504\n",
      " 21.20723   ]\n"
     ]
    }
   ],
   "source": [
    "# Checking variables unique values for validity\n",
    "print(df1['Outage_sec_perweek'].sort_values().unique())"
   ]
  },
  {
   "cell_type": "code",
   "execution_count": 34,
   "id": "252aacf4",
   "metadata": {},
   "outputs": [
    {
     "data": {
      "text/plain": [
       "count    10000.000000\n",
       "mean        10.001848\n",
       "std          2.976019\n",
       "min          0.099747\n",
       "25%          8.018214\n",
       "50%         10.018560\n",
       "75%         11.969485\n",
       "max         21.207230\n",
       "Name: Outage_sec_perweek, dtype: float64"
      ]
     },
     "execution_count": 34,
     "metadata": {},
     "output_type": "execute_result"
    }
   ],
   "source": [
    "# Get statistics of the variable\n",
    "df1['Outage_sec_perweek'].describe()"
   ]
  },
  {
   "cell_type": "code",
   "execution_count": 35,
   "id": "f92d1442",
   "metadata": {},
   "outputs": [
    {
     "name": "stdout",
     "output_type": "stream",
     "text": [
      "[ 1  2  3  4  5  6  7  8  9 10 11 12 13 14 15 16 17 18 19 20 21 22 23]\n"
     ]
    }
   ],
   "source": [
    "# Checking variables unique values for validity\n",
    "print(df1['Email'].sort_values().unique())"
   ]
  },
  {
   "cell_type": "code",
   "execution_count": 36,
   "id": "846e9a51",
   "metadata": {},
   "outputs": [
    {
     "data": {
      "text/plain": [
       "count    10000.000000\n",
       "mean        12.016000\n",
       "std          3.025898\n",
       "min          1.000000\n",
       "25%         10.000000\n",
       "50%         12.000000\n",
       "75%         14.000000\n",
       "max         23.000000\n",
       "Name: Email, dtype: float64"
      ]
     },
     "execution_count": 36,
     "metadata": {},
     "output_type": "execute_result"
    }
   ],
   "source": [
    "# Get statistics of the variable\n",
    "df1['Email'].describe()"
   ]
  },
  {
   "cell_type": "code",
   "execution_count": 37,
   "id": "49a9d72c",
   "metadata": {},
   "outputs": [
    {
     "name": "stdout",
     "output_type": "stream",
     "text": [
      "[0 1 2 3 4 5 6 7]\n"
     ]
    }
   ],
   "source": [
    "# Checking variables unique values for validity\n",
    "print(df1['Contacts'].sort_values().unique())"
   ]
  },
  {
   "cell_type": "code",
   "execution_count": 38,
   "id": "30108553",
   "metadata": {},
   "outputs": [
    {
     "data": {
      "text/plain": [
       "count    10000.000000\n",
       "mean         0.994200\n",
       "std          0.988466\n",
       "min          0.000000\n",
       "25%          0.000000\n",
       "50%          1.000000\n",
       "75%          2.000000\n",
       "max          7.000000\n",
       "Name: Contacts, dtype: float64"
      ]
     },
     "execution_count": 38,
     "metadata": {},
     "output_type": "execute_result"
    }
   ],
   "source": [
    "# Get statistics of the variable\n",
    "df1['Contacts'].describe()"
   ]
  },
  {
   "cell_type": "code",
   "execution_count": 39,
   "id": "74638de0",
   "metadata": {},
   "outputs": [
    {
     "name": "stdout",
     "output_type": "stream",
     "text": [
      "[0 1 2 3 4 6]\n"
     ]
    }
   ],
   "source": [
    "# Checking variables unique values for validity\n",
    "print(df1['Yearly_equip_failure'].sort_values().unique())"
   ]
  },
  {
   "cell_type": "code",
   "execution_count": 40,
   "id": "b3aabdd9",
   "metadata": {},
   "outputs": [
    {
     "data": {
      "text/plain": [
       "count    10000.000000\n",
       "mean         0.398000\n",
       "std          0.635953\n",
       "min          0.000000\n",
       "25%          0.000000\n",
       "50%          0.000000\n",
       "75%          1.000000\n",
       "max          6.000000\n",
       "Name: Yearly_equip_failure, dtype: float64"
      ]
     },
     "execution_count": 40,
     "metadata": {},
     "output_type": "execute_result"
    }
   ],
   "source": [
    "# Get statistics of the variable\n",
    "df1['Yearly_equip_failure'].describe()"
   ]
  },
  {
   "cell_type": "code",
   "execution_count": 41,
   "id": "da6f191b",
   "metadata": {},
   "outputs": [
    {
     "name": "stdout",
     "output_type": "stream",
     "text": [
      "['No' 'Yes']\n"
     ]
    }
   ],
   "source": [
    "# Checking variables unique values for validity\n",
    "print(df1['Techie'].sort_values().unique())"
   ]
  },
  {
   "cell_type": "code",
   "execution_count": 42,
   "id": "a25dc498",
   "metadata": {},
   "outputs": [
    {
     "data": {
      "text/plain": [
       "count     10000\n",
       "unique        2\n",
       "top          No\n",
       "freq       8321\n",
       "Name: Techie, dtype: object"
      ]
     },
     "execution_count": 42,
     "metadata": {},
     "output_type": "execute_result"
    }
   ],
   "source": [
    "# Get statistics of the variable\n",
    "df1['Techie'].describe()"
   ]
  },
  {
   "cell_type": "code",
   "execution_count": 43,
   "id": "55e9a3d5",
   "metadata": {},
   "outputs": [
    {
     "data": {
      "text/plain": [
       "No     8321\n",
       "Yes    1679\n",
       "Name: Techie, dtype: int64"
      ]
     },
     "execution_count": 43,
     "metadata": {},
     "output_type": "execute_result"
    }
   ],
   "source": [
    "# Get the counts for each\n",
    "df1['Techie'].value_counts()"
   ]
  },
  {
   "cell_type": "code",
   "execution_count": 44,
   "id": "c31e8ff1",
   "metadata": {},
   "outputs": [
    {
     "name": "stdout",
     "output_type": "stream",
     "text": [
      "['Month-to-month' 'One year' 'Two Year']\n"
     ]
    }
   ],
   "source": [
    "# Checking variables unique values for validity\n",
    "print(df1['Contract'].sort_values().unique())"
   ]
  },
  {
   "cell_type": "code",
   "execution_count": 45,
   "id": "5c3a2c6b",
   "metadata": {},
   "outputs": [
    {
     "data": {
      "text/plain": [
       "count              10000\n",
       "unique                 3\n",
       "top       Month-to-month\n",
       "freq                5456\n",
       "Name: Contract, dtype: object"
      ]
     },
     "execution_count": 45,
     "metadata": {},
     "output_type": "execute_result"
    }
   ],
   "source": [
    "# Get statistics of the variable\n",
    "df1['Contract'].describe()"
   ]
  },
  {
   "cell_type": "code",
   "execution_count": 46,
   "id": "eab35262",
   "metadata": {},
   "outputs": [
    {
     "data": {
      "text/plain": [
       "Month-to-month    5456\n",
       "Two Year          2442\n",
       "One year          2102\n",
       "Name: Contract, dtype: int64"
      ]
     },
     "execution_count": 46,
     "metadata": {},
     "output_type": "execute_result"
    }
   ],
   "source": [
    "# Get the counts for each\n",
    "df1['Contract'].value_counts()"
   ]
  },
  {
   "cell_type": "code",
   "execution_count": 47,
   "id": "0a73cc0e",
   "metadata": {},
   "outputs": [
    {
     "name": "stdout",
     "output_type": "stream",
     "text": [
      "['No' 'Yes']\n"
     ]
    }
   ],
   "source": [
    "# Checking variables unique values for validity\n",
    "print(df1['Port_modem'].sort_values().unique())"
   ]
  },
  {
   "cell_type": "code",
   "execution_count": 48,
   "id": "4d9c49e2",
   "metadata": {},
   "outputs": [
    {
     "data": {
      "text/plain": [
       "count     10000\n",
       "unique        2\n",
       "top          No\n",
       "freq       5166\n",
       "Name: Port_modem, dtype: object"
      ]
     },
     "execution_count": 48,
     "metadata": {},
     "output_type": "execute_result"
    }
   ],
   "source": [
    "# Get statistics of the variable\n",
    "df1['Port_modem'].describe()"
   ]
  },
  {
   "cell_type": "code",
   "execution_count": 49,
   "id": "6d6129e7",
   "metadata": {},
   "outputs": [
    {
     "data": {
      "text/plain": [
       "No     5166\n",
       "Yes    4834\n",
       "Name: Port_modem, dtype: int64"
      ]
     },
     "execution_count": 49,
     "metadata": {},
     "output_type": "execute_result"
    }
   ],
   "source": [
    "# Get the counts for each\n",
    "df1['Port_modem'].value_counts()"
   ]
  },
  {
   "cell_type": "code",
   "execution_count": 50,
   "id": "44aabfb0",
   "metadata": {},
   "outputs": [
    {
     "name": "stdout",
     "output_type": "stream",
     "text": [
      "['No' 'Yes']\n"
     ]
    }
   ],
   "source": [
    "# Checking variables unique values for validity\n",
    "print(df1['Tablet'].sort_values().unique())"
   ]
  },
  {
   "cell_type": "code",
   "execution_count": 51,
   "id": "96620a82",
   "metadata": {},
   "outputs": [
    {
     "data": {
      "text/plain": [
       "count     10000\n",
       "unique        2\n",
       "top          No\n",
       "freq       7009\n",
       "Name: Tablet, dtype: object"
      ]
     },
     "execution_count": 51,
     "metadata": {},
     "output_type": "execute_result"
    }
   ],
   "source": [
    "# Get statistics of the variable\n",
    "df1['Tablet'].describe()"
   ]
  },
  {
   "cell_type": "code",
   "execution_count": 52,
   "id": "0c7a55af",
   "metadata": {},
   "outputs": [
    {
     "data": {
      "text/plain": [
       "No     7009\n",
       "Yes    2991\n",
       "Name: Tablet, dtype: int64"
      ]
     },
     "execution_count": 52,
     "metadata": {},
     "output_type": "execute_result"
    }
   ],
   "source": [
    "# Get the counts for each\n",
    "df1['Tablet'].value_counts()"
   ]
  },
  {
   "cell_type": "code",
   "execution_count": 53,
   "id": "9531a469",
   "metadata": {},
   "outputs": [
    {
     "name": "stdout",
     "output_type": "stream",
     "text": [
      "['DSL' 'Fiber Optic' 'None']\n"
     ]
    }
   ],
   "source": [
    "# Checking variables unique values for validity\n",
    "print(df1['InternetService'].sort_values().unique())"
   ]
  },
  {
   "cell_type": "code",
   "execution_count": 54,
   "id": "e2bb30dd",
   "metadata": {},
   "outputs": [
    {
     "data": {
      "text/plain": [
       "count           10000\n",
       "unique              3\n",
       "top       Fiber Optic\n",
       "freq             4408\n",
       "Name: InternetService, dtype: object"
      ]
     },
     "execution_count": 54,
     "metadata": {},
     "output_type": "execute_result"
    }
   ],
   "source": [
    "# Get statistics of the variable\n",
    "df1['InternetService'].describe()"
   ]
  },
  {
   "cell_type": "code",
   "execution_count": 55,
   "id": "eab36b70",
   "metadata": {},
   "outputs": [
    {
     "data": {
      "text/plain": [
       "Fiber Optic    4408\n",
       "DSL            3463\n",
       "None           2129\n",
       "Name: InternetService, dtype: int64"
      ]
     },
     "execution_count": 55,
     "metadata": {},
     "output_type": "execute_result"
    }
   ],
   "source": [
    "# Get the counts for each\n",
    "df1['InternetService'].value_counts()"
   ]
  },
  {
   "cell_type": "code",
   "execution_count": 56,
   "id": "0043abad",
   "metadata": {},
   "outputs": [
    {
     "name": "stdout",
     "output_type": "stream",
     "text": [
      "['No' 'Yes']\n"
     ]
    }
   ],
   "source": [
    "# Checking variables unique values for validity\n",
    "print(df1['Phone'].sort_values().unique())"
   ]
  },
  {
   "cell_type": "code",
   "execution_count": 57,
   "id": "815491a7",
   "metadata": {},
   "outputs": [
    {
     "data": {
      "text/plain": [
       "count     10000\n",
       "unique        2\n",
       "top         Yes\n",
       "freq       9067\n",
       "Name: Phone, dtype: object"
      ]
     },
     "execution_count": 57,
     "metadata": {},
     "output_type": "execute_result"
    }
   ],
   "source": [
    "# Get statistics of the variable\n",
    "df1['Phone'].describe()"
   ]
  },
  {
   "cell_type": "code",
   "execution_count": 58,
   "id": "07fbedf2",
   "metadata": {},
   "outputs": [
    {
     "data": {
      "text/plain": [
       "Yes    9067\n",
       "No      933\n",
       "Name: Phone, dtype: int64"
      ]
     },
     "execution_count": 58,
     "metadata": {},
     "output_type": "execute_result"
    }
   ],
   "source": [
    "# Get the counts for each\n",
    "df1['Phone'].value_counts()"
   ]
  },
  {
   "cell_type": "code",
   "execution_count": 59,
   "id": "c59e398c",
   "metadata": {},
   "outputs": [
    {
     "name": "stdout",
     "output_type": "stream",
     "text": [
      "['No' 'Yes']\n"
     ]
    }
   ],
   "source": [
    "# Checking variables unique values for validity\n",
    "print(df1['Multiple'].sort_values().unique())"
   ]
  },
  {
   "cell_type": "code",
   "execution_count": 60,
   "id": "0783ca16",
   "metadata": {},
   "outputs": [
    {
     "data": {
      "text/plain": [
       "count     10000\n",
       "unique        2\n",
       "top          No\n",
       "freq       5392\n",
       "Name: Multiple, dtype: object"
      ]
     },
     "execution_count": 60,
     "metadata": {},
     "output_type": "execute_result"
    }
   ],
   "source": [
    "# Get statistics of the variable\n",
    "df1['Multiple'].describe()"
   ]
  },
  {
   "cell_type": "code",
   "execution_count": 61,
   "id": "6a8d541d",
   "metadata": {},
   "outputs": [
    {
     "data": {
      "text/plain": [
       "No     5392\n",
       "Yes    4608\n",
       "Name: Multiple, dtype: int64"
      ]
     },
     "execution_count": 61,
     "metadata": {},
     "output_type": "execute_result"
    }
   ],
   "source": [
    "# Get the counts for each\n",
    "df1['Multiple'].value_counts()"
   ]
  },
  {
   "cell_type": "code",
   "execution_count": 62,
   "id": "7aa39190",
   "metadata": {},
   "outputs": [
    {
     "name": "stdout",
     "output_type": "stream",
     "text": [
      "['No' 'Yes']\n"
     ]
    }
   ],
   "source": [
    "# Checking variables unique values for validity\n",
    "print(df1['OnlineSecurity'].sort_values().unique())"
   ]
  },
  {
   "cell_type": "code",
   "execution_count": 63,
   "id": "1c57e7a6",
   "metadata": {},
   "outputs": [
    {
     "data": {
      "text/plain": [
       "count     10000\n",
       "unique        2\n",
       "top          No\n",
       "freq       6424\n",
       "Name: OnlineSecurity, dtype: object"
      ]
     },
     "execution_count": 63,
     "metadata": {},
     "output_type": "execute_result"
    }
   ],
   "source": [
    "# Get statistics of the variable\n",
    "df1['OnlineSecurity'].describe()"
   ]
  },
  {
   "cell_type": "code",
   "execution_count": 64,
   "id": "124d04df",
   "metadata": {},
   "outputs": [
    {
     "data": {
      "text/plain": [
       "No     6424\n",
       "Yes    3576\n",
       "Name: OnlineSecurity, dtype: int64"
      ]
     },
     "execution_count": 64,
     "metadata": {},
     "output_type": "execute_result"
    }
   ],
   "source": [
    "# Get the counts for each\n",
    "df1['OnlineSecurity'].value_counts()"
   ]
  },
  {
   "cell_type": "code",
   "execution_count": 65,
   "id": "b058f5aa",
   "metadata": {},
   "outputs": [
    {
     "name": "stdout",
     "output_type": "stream",
     "text": [
      "['No' 'Yes']\n"
     ]
    }
   ],
   "source": [
    "# Checking variables unique values for validity\n",
    "print(df1['DeviceProtection'].sort_values().unique())"
   ]
  },
  {
   "cell_type": "code",
   "execution_count": 66,
   "id": "8fe2d31c",
   "metadata": {},
   "outputs": [
    {
     "data": {
      "text/plain": [
       "count     10000\n",
       "unique        2\n",
       "top          No\n",
       "freq       5614\n",
       "Name: DeviceProtection, dtype: object"
      ]
     },
     "execution_count": 66,
     "metadata": {},
     "output_type": "execute_result"
    }
   ],
   "source": [
    "# Get statistics of the variable\n",
    "df1['DeviceProtection'].describe()"
   ]
  },
  {
   "cell_type": "code",
   "execution_count": 67,
   "id": "d75a3f9b",
   "metadata": {},
   "outputs": [
    {
     "data": {
      "text/plain": [
       "No     5614\n",
       "Yes    4386\n",
       "Name: DeviceProtection, dtype: int64"
      ]
     },
     "execution_count": 67,
     "metadata": {},
     "output_type": "execute_result"
    }
   ],
   "source": [
    "# Get the counts for each\n",
    "df1['DeviceProtection'].value_counts()"
   ]
  },
  {
   "cell_type": "code",
   "execution_count": 68,
   "id": "861e820e",
   "metadata": {},
   "outputs": [
    {
     "name": "stdout",
     "output_type": "stream",
     "text": [
      "['No' 'Yes']\n"
     ]
    }
   ],
   "source": [
    "# Checking variables unique values for validity\n",
    "print(df1['TechSupport'].sort_values().unique())"
   ]
  },
  {
   "cell_type": "code",
   "execution_count": 69,
   "id": "65ab6149",
   "metadata": {},
   "outputs": [
    {
     "data": {
      "text/plain": [
       "count     10000\n",
       "unique        2\n",
       "top          No\n",
       "freq       6250\n",
       "Name: TechSupport, dtype: object"
      ]
     },
     "execution_count": 69,
     "metadata": {},
     "output_type": "execute_result"
    }
   ],
   "source": [
    "# Get statistics of the variable\n",
    "df1['TechSupport'].describe()"
   ]
  },
  {
   "cell_type": "code",
   "execution_count": 70,
   "id": "e8f2256d",
   "metadata": {},
   "outputs": [
    {
     "data": {
      "text/plain": [
       "No     6250\n",
       "Yes    3750\n",
       "Name: TechSupport, dtype: int64"
      ]
     },
     "execution_count": 70,
     "metadata": {},
     "output_type": "execute_result"
    }
   ],
   "source": [
    "# Get the counts for each\n",
    "df1['TechSupport'].value_counts()"
   ]
  },
  {
   "cell_type": "code",
   "execution_count": 71,
   "id": "101cf080",
   "metadata": {},
   "outputs": [
    {
     "name": "stdout",
     "output_type": "stream",
     "text": [
      "['No' 'Yes']\n"
     ]
    }
   ],
   "source": [
    "# Checking variables unique values for validity\n",
    "print(df1['StreamingTV'].sort_values().unique())"
   ]
  },
  {
   "cell_type": "code",
   "execution_count": 72,
   "id": "5ac6919d",
   "metadata": {},
   "outputs": [
    {
     "data": {
      "text/plain": [
       "count     10000\n",
       "unique        2\n",
       "top          No\n",
       "freq       5071\n",
       "Name: StreamingTV, dtype: object"
      ]
     },
     "execution_count": 72,
     "metadata": {},
     "output_type": "execute_result"
    }
   ],
   "source": [
    "# Get statistics of the variable\n",
    "df1['StreamingTV'].describe()"
   ]
  },
  {
   "cell_type": "code",
   "execution_count": 73,
   "id": "c85aacda",
   "metadata": {},
   "outputs": [
    {
     "data": {
      "text/plain": [
       "No     5071\n",
       "Yes    4929\n",
       "Name: StreamingTV, dtype: int64"
      ]
     },
     "execution_count": 73,
     "metadata": {},
     "output_type": "execute_result"
    }
   ],
   "source": [
    "# Get the counts for each\n",
    "df1['StreamingTV'].value_counts()"
   ]
  },
  {
   "cell_type": "code",
   "execution_count": 74,
   "id": "afc84e28",
   "metadata": {},
   "outputs": [
    {
     "name": "stdout",
     "output_type": "stream",
     "text": [
      "['No' 'Yes']\n"
     ]
    }
   ],
   "source": [
    "# Checking variables unique values for validity\n",
    "print(df1['StreamingMovies'].sort_values().unique())"
   ]
  },
  {
   "cell_type": "code",
   "execution_count": 75,
   "id": "fbf06d01",
   "metadata": {},
   "outputs": [
    {
     "data": {
      "text/plain": [
       "count     10000\n",
       "unique        2\n",
       "top          No\n",
       "freq       5110\n",
       "Name: StreamingMovies, dtype: object"
      ]
     },
     "execution_count": 75,
     "metadata": {},
     "output_type": "execute_result"
    }
   ],
   "source": [
    "# Get statistics of the variable\n",
    "df1['StreamingMovies'].describe()"
   ]
  },
  {
   "cell_type": "code",
   "execution_count": 76,
   "id": "01751e71",
   "metadata": {},
   "outputs": [
    {
     "data": {
      "text/plain": [
       "No     5110\n",
       "Yes    4890\n",
       "Name: StreamingMovies, dtype: int64"
      ]
     },
     "execution_count": 76,
     "metadata": {},
     "output_type": "execute_result"
    }
   ],
   "source": [
    "# Get the counts for each\n",
    "df1['StreamingMovies'].value_counts()"
   ]
  },
  {
   "cell_type": "code",
   "execution_count": 77,
   "id": "72f5ba72",
   "metadata": {},
   "outputs": [
    {
     "name": "stdout",
     "output_type": "stream",
     "text": [
      "['No' 'Yes']\n"
     ]
    }
   ],
   "source": [
    "# Checking variables unique values for validity\n",
    "print(df1['PaperlessBilling'].sort_values().unique())"
   ]
  },
  {
   "cell_type": "code",
   "execution_count": 78,
   "id": "5dca65af",
   "metadata": {},
   "outputs": [
    {
     "data": {
      "text/plain": [
       "count     10000\n",
       "unique        2\n",
       "top         Yes\n",
       "freq       5882\n",
       "Name: PaperlessBilling, dtype: object"
      ]
     },
     "execution_count": 78,
     "metadata": {},
     "output_type": "execute_result"
    }
   ],
   "source": [
    "# Get statistics of the variable\n",
    "df1['PaperlessBilling'].describe()"
   ]
  },
  {
   "cell_type": "code",
   "execution_count": 79,
   "id": "95ba9176",
   "metadata": {},
   "outputs": [
    {
     "data": {
      "text/plain": [
       "Yes    5882\n",
       "No     4118\n",
       "Name: PaperlessBilling, dtype: int64"
      ]
     },
     "execution_count": 79,
     "metadata": {},
     "output_type": "execute_result"
    }
   ],
   "source": [
    "# Get the counts for each\n",
    "df1['PaperlessBilling'].value_counts()"
   ]
  },
  {
   "cell_type": "code",
   "execution_count": 80,
   "id": "27247552",
   "metadata": {},
   "outputs": [
    {
     "name": "stdout",
     "output_type": "stream",
     "text": [
      "['Bank Transfer(automatic)' 'Credit Card (automatic)' 'Electronic Check'\n",
      " 'Mailed Check']\n"
     ]
    }
   ],
   "source": [
    "# Checking variables unique values for validity\n",
    "print(df1['PaymentMethod'].sort_values().unique())"
   ]
  },
  {
   "cell_type": "code",
   "execution_count": 81,
   "id": "0f54500d",
   "metadata": {},
   "outputs": [
    {
     "data": {
      "text/plain": [
       "count                10000\n",
       "unique                   4\n",
       "top       Electronic Check\n",
       "freq                  3398\n",
       "Name: PaymentMethod, dtype: object"
      ]
     },
     "execution_count": 81,
     "metadata": {},
     "output_type": "execute_result"
    }
   ],
   "source": [
    "# Get statistics of the variable\n",
    "df1['PaymentMethod'].describe()"
   ]
  },
  {
   "cell_type": "code",
   "execution_count": 82,
   "id": "04571ea7",
   "metadata": {},
   "outputs": [
    {
     "data": {
      "text/plain": [
       "Electronic Check            3398\n",
       "Mailed Check                2290\n",
       "Bank Transfer(automatic)    2229\n",
       "Credit Card (automatic)     2083\n",
       "Name: PaymentMethod, dtype: int64"
      ]
     },
     "execution_count": 82,
     "metadata": {},
     "output_type": "execute_result"
    }
   ],
   "source": [
    "# Get the counts for each\n",
    "df1['PaymentMethod'].value_counts()"
   ]
  },
  {
   "cell_type": "code",
   "execution_count": 83,
   "id": "5d5ea3fc",
   "metadata": {},
   "outputs": [
    {
     "name": "stdout",
     "output_type": "stream",
     "text": [
      "[ 1.00025934  1.005104    1.0185196  ... 71.99373    71.99418\n",
      " 71.99928   ]\n"
     ]
    }
   ],
   "source": [
    "# Checking variables unique values for validity\n",
    "print(df1['Tenure'].sort_values().unique())"
   ]
  },
  {
   "cell_type": "code",
   "execution_count": 84,
   "id": "0f41dfff",
   "metadata": {},
   "outputs": [
    {
     "data": {
      "text/plain": [
       "count    10000.000000\n",
       "mean        34.526188\n",
       "std         26.443063\n",
       "min          1.000259\n",
       "25%          7.917694\n",
       "50%         35.430507\n",
       "75%         61.479795\n",
       "max         71.999280\n",
       "Name: Tenure, dtype: float64"
      ]
     },
     "execution_count": 84,
     "metadata": {},
     "output_type": "execute_result"
    }
   ],
   "source": [
    "# Get statistics of the variable\n",
    "df1['Tenure'].describe()"
   ]
  },
  {
   "cell_type": "code",
   "execution_count": 85,
   "id": "65566699",
   "metadata": {},
   "outputs": [
    {
     "name": "stdout",
     "output_type": "stream",
     "text": [
      "[ 79.97886   79.978861  82.496547  82.49655   92.45514   92.455141\n",
      "  92.48802   92.488023  92.5018    94.972827  94.97283   95.005709\n",
      "  95.00571   95.019486  95.01949  102.4746   102.474625 104.962874\n",
      " 104.9629   104.9643   104.964303 104.97808  104.9781   104.9923\n",
      " 104.992311 105.010962 105.011    107.48056  107.4806   107.481989\n",
      " 107.482    107.495766 107.4958   107.5286   107.528648 112.4551\n",
      " 112.455141 112.484375 112.4844   114.9509   114.950905 114.965789\n",
      " 114.9658   114.9728   114.972827 114.983787 114.9838   114.997564\n",
      " 114.9976   115.002061 115.0021   117.439154 117.4392   117.468591\n",
      " 117.4686   117.472    117.472036 117.483475 117.4835   117.4858\n",
      " 117.485813 117.4872   117.487242 117.5015   117.5152   117.51525\n",
      " 119.9568   119.95684  119.9897   119.989722 120.003499 120.0035\n",
      " 120.0049   120.004928 124.960655 124.9607   124.9643   124.964303\n",
      " 124.97808  124.9781   124.9935   124.993537 125.0073   125.007314\n",
      " 127.442069 127.4421   127.4586   127.458638 127.460067 127.4601\n",
      " 127.4738   127.473844 127.474951 127.475    127.4783   127.478341\n",
      " 127.481989 127.482    127.4887   127.488728 127.495766 127.4958\n",
      " 127.5067   127.506726 127.5112   127.511223 127.525    129.9483\n",
      " 129.948316 129.959755 129.9598   129.962093 129.9621   129.9763\n",
      " 129.976324 129.977753 129.9778   129.9915   129.99153  129.9926\n",
      " 129.994975 129.995    130.0064   130.006414 130.0244   130.024412\n",
      " 132.466    132.466002 132.479779 132.4798   132.5127   134.9509\n",
      " 134.950905 134.9801   134.980139 137.439154 137.4392   137.461553\n",
      " 137.4616   137.468388 137.4684   137.468591 137.4686   137.4698\n",
      " 137.469817 137.483594 137.4836   137.4872   137.487242 137.4978\n",
      " 137.497825 137.516476 137.5165   139.9349   139.934918 139.9512\n",
      " 139.951231 139.9568   139.95684  139.965    139.965008 139.9678\n",
      " 139.9792   139.979239 139.981577 139.9816   139.983    139.983006\n",
      " 139.986074 139.9861   139.9875   139.987503 139.99789  139.9979\n",
      " 140.00128  140.0013   140.0049   140.004928 140.0342   142.4526\n",
      " 142.452604 142.4689   142.468917 142.471255 142.4713   142.482694\n",
      " 142.4827   142.485486 142.4855   142.499263 142.4993   142.500692\n",
      " 142.5007   142.515576 142.5156   144.960655 144.9607   144.9889\n",
      " 144.988941 147.442069 147.4421   147.4564   147.456419 147.460067\n",
      " 147.4601   147.4713   147.471303 147.4738   147.473844 147.4783\n",
      " 147.478341 147.4893   147.489301 147.503078 147.5031   149.9378\n",
      " 149.937833 149.944668 149.9447   149.9483   149.948316 149.959755\n",
      " 149.9598   149.962093 149.9621   149.9707   149.970715 149.9741\n",
      " 149.974105 149.97755  149.9776   149.977753 149.9778   149.984492\n",
      " 149.9845   149.988989 149.989    149.9913   149.991327 149.9915\n",
      " 149.99153  149.992756 149.9928   150.006987 150.007    150.020764\n",
      " 150.0208   152.44408  152.4441   152.4555   152.455519 152.457857\n",
      " 152.4579   152.462354 152.4624   152.466    152.466002 152.47417\n",
      " 152.4742   152.479779 152.4798   152.4884   152.488401 152.4907\n",
      " 152.490739 152.4952   152.495236 152.502178 152.5022   152.509\n",
      " 152.509013 152.5104   152.510442 154.961766 154.9618   154.9755\n",
      " 154.975543 154.991856 154.9919   155.0084   157.4698   157.469817\n",
      " 157.483594 157.4836   159.9349   159.934918 159.947583 159.9476\n",
      " 159.9512   159.951231 159.964152 159.9642   159.965    159.965008\n",
      " 159.965581 159.9656   159.979358 159.9794   159.980465 159.9805\n",
      " 159.983    159.983006 159.9875   159.987503 159.9942   159.994242\n",
      " 160.00128  160.0013   160.0122   160.01224  162.446995 162.447\n",
      " 162.4526   162.452604 162.4538   162.45383  162.460772 162.4608\n",
      " 162.465269 162.4653   162.4676   162.467607 162.4689   162.468917\n",
      " 162.471255 162.4713   162.4818   162.482694 162.4827   162.483267\n",
      " 162.4833   162.493654 162.4937   162.497    162.497044 162.498151\n",
      " 162.4982   162.500489 162.5005   162.500692 162.5007   162.5119\n",
      " 162.511928 162.5299   162.529926 164.964681 164.9647   164.967\n",
      " 164.967019 164.9715   164.971516 164.978458 164.9785   164.985293\n",
      " 164.9853   164.9889   164.988941 165.0113   165.01134  165.018175\n",
      " 165.0182   167.4564   167.456419 167.4847   167.484705 169.9378\n",
      " 169.937833 169.944668 169.9447   169.967067 169.9671   169.9741\n",
      " 169.974105 169.992756 169.9928   172.4404   172.440432 172.44408\n",
      " 172.4441   172.4555   172.455519 172.4567   172.456745 172.457857\n",
      " 172.4579   172.462354 172.4624   172.4705   172.470522 172.4733\n",
      " 172.473314 172.47417  172.4742   172.484753 172.4848   172.487091\n",
      " 172.4871   172.4885   172.48852  172.5034   172.503404 172.5104\n",
      " 172.510442 174.9581   174.958118 174.961766 174.9618   174.9699\n",
      " 174.969934 174.9744   174.974431 174.9755   174.975543 174.976769\n",
      " 174.9768   174.9882   174.988208 174.991    174.991856 174.9919\n",
      " 175.004777 175.0048   175.0062   175.006206 175.02109  175.0211\n",
      " 175.133074 175.1331   177.4876   177.48762  177.4945   177.65076\n",
      " 177.6508   179.947583 179.9476   179.965581 179.9656   179.979358\n",
      " 179.9794   182.4433   182.443347 182.446995 182.447    182.4538\n",
      " 182.45383  182.460772 182.4608   182.465269 182.4653   182.4676\n",
      " 182.467607 182.4762   182.476229 182.483267 182.4833   182.49\n",
      " 182.490006 182.497    182.497044 184.949594 184.9496   184.961\n",
      " 184.961033 184.963371 184.9634   184.964681 184.9647   184.967\n",
      " 184.967019 184.9715   184.971516 184.978458 184.9785   184.979684\n",
      " 184.9797   184.985293 184.9853   184.9939   184.993915 184.9963\n",
      " 185.007692 185.0077   187.46728  187.4673   187.481057 187.4811\n",
      " 187.4847   187.484705 187.49737  187.4974   187.5139   187.513939\n",
      " 187.609354 187.6094   187.6422   187.642236 187.656    187.656013\n",
      " 190.127    190.12704  190.1599   190.159922 190.173699 190.1737\n",
      " 192.4404   192.440432 192.4567   192.456745 192.4705   192.470522\n",
      " 192.4885   192.48852  194.9525   194.952509 194.9581   194.958118\n",
      " 194.966286 194.9663   194.9699   194.969934 194.9744   194.974431\n",
      " 194.976769 194.9768   194.9882   194.988208 194.999168 194.9992\n",
      " 195.0062   195.006206 197.470195 197.4702   197.4725   197.472533\n",
      " 197.483972 197.484    197.4876   197.48762  197.494455 197.4945\n",
      " 197.516854 197.5169   197.6288   197.628838 199.9902   199.990219\n",
      " 200.1185   200.118516 200.132293 200.1323   200.1465   200.146524\n",
      " 200.165175 200.1652   202.4433   202.443347 202.6362   202.636202\n",
      " 202.649979 202.65     202.682861 202.6829   204.949594 204.9496\n",
      " 204.961    204.961033 204.963371 204.9634   204.979684 204.9797\n",
      " 207.46728  207.4673   207.4754   207.475448 207.481057 207.4811\n",
      " 207.49737  207.4974   207.609354 207.6094   207.638588 207.6386\n",
      " 209.9931   209.993134 210.1051   210.105118 210.127    210.12704\n",
      " 210.138    210.151777 210.1518   210.156274 210.1563   212.6228\n",
      " 212.622804 212.641455 212.6415   212.655686 212.6557   212.669463\n",
      " 212.6695   214.9525   214.952509 214.966286 214.9663   215.1591\n",
      " 215.159141 217.470195 217.4702   217.4725   217.472533 217.483972\n",
      " 217.484    219.9902   220.114868 220.1149   220.1185   220.118516\n",
      " 220.132293 220.1323   220.14775  220.1478   220.1615   220.161527\n",
      " 222.61428  222.6143   222.628057 222.6281   222.632554 222.6326\n",
      " 222.6362   222.636202 222.649979 222.65     222.6609   222.660939\n",
      " 222.6654   222.665436 222.6792   222.679213 225.131966 225.132\n",
      " 225.1457   225.145743 225.1786   225.178625 227.4754   227.475448\n",
      " 229.9931   229.993134 230.1051   230.105118 230.134352 230.1344\n",
      " 232.6228   232.622804 232.624    232.62403  232.6378   232.637807\n",
      " 232.641455 232.6415   232.652    232.652038 232.670689 232.6707\n",
      " 235.1372   235.137219 235.1417   235.141716 235.1555   235.1591\n",
      " 235.159141 235.188375 235.1884   237.6549   240.114868 240.1149\n",
      " 242.6106   242.610632 242.61428  242.6143   242.628057 242.6281\n",
      " 242.632554 242.6326   242.6435   242.643514 242.657291 242.6573\n",
      " 245.1283   245.128318 245.131966 245.132    245.1457   245.145743\n",
      " 245.146969 245.147    245.1612   245.174977 245.175    247.664655\n",
      " 247.6647   252.624    252.62403  252.6378   252.637807 255.119794\n",
      " 255.1198   255.133571 255.1336   255.1372   255.137219 255.1417\n",
      " 255.141716 255.155493 255.1555   255.166453 255.1665   257.63748\n",
      " 257.6375   257.651257 257.6513   257.6549   257.6841   257.684139\n",
      " 262.6106   262.610632 265.1283   265.128318 265.146969 265.147\n",
      " 267.6427   267.642733 267.664655 267.6647   270.1604   270.160419\n",
      " 275.119794 275.1198   275.133571 275.1336   277.63748  277.6375\n",
      " 277.651257 277.6513   287.6427   287.642733 290.1604   290.160419]\n"
     ]
    }
   ],
   "source": [
    "# Checking variables unique values for validity\n",
    "print(df1['MonthlyCharge'].sort_values().unique())"
   ]
  },
  {
   "cell_type": "code",
   "execution_count": 86,
   "id": "8dcd9da2",
   "metadata": {},
   "outputs": [
    {
     "data": {
      "text/plain": [
       "count    10000.000000\n",
       "mean       172.624816\n",
       "std         42.943094\n",
       "min         79.978860\n",
       "25%        139.979239\n",
       "50%        167.484700\n",
       "75%        200.734725\n",
       "max        290.160419\n",
       "Name: MonthlyCharge, dtype: float64"
      ]
     },
     "execution_count": 86,
     "metadata": {},
     "output_type": "execute_result"
    }
   ],
   "source": [
    "# Get statistics of the variable\n",
    "df1['MonthlyCharge'].describe()"
   ]
  },
  {
   "cell_type": "code",
   "execution_count": 87,
   "id": "3cc8f529",
   "metadata": {},
   "outputs": [
    {
     "name": "stdout",
     "output_type": "stream",
     "text": [
      "[ 155.5067148  169.3992798  223.4765826 ... 7096.494932  7138.308718\n",
      " 7158.98153  ]\n"
     ]
    }
   ],
   "source": [
    "# Checking variables unique values for validity\n",
    "print(df1['Bandwidth_GB_Year'].sort_values().unique())"
   ]
  },
  {
   "cell_type": "code",
   "execution_count": 88,
   "id": "fd675ba8",
   "metadata": {},
   "outputs": [
    {
     "data": {
      "text/plain": [
       "count    10000.000000\n",
       "mean      3392.341550\n",
       "std       2185.294852\n",
       "min        155.506715\n",
       "25%       1236.470827\n",
       "50%       3279.536903\n",
       "75%       5586.141370\n",
       "max       7158.981530\n",
       "Name: Bandwidth_GB_Year, dtype: float64"
      ]
     },
     "execution_count": 88,
     "metadata": {},
     "output_type": "execute_result"
    }
   ],
   "source": [
    "# Get statistics of the variable\n",
    "df1['Bandwidth_GB_Year'].describe()"
   ]
  },
  {
   "cell_type": "code",
   "execution_count": 89,
   "id": "e90f46e1",
   "metadata": {},
   "outputs": [
    {
     "data": {
      "text/html": [
       "<div>\n",
       "<style scoped>\n",
       "    .dataframe tbody tr th:only-of-type {\n",
       "        vertical-align: middle;\n",
       "    }\n",
       "\n",
       "    .dataframe tbody tr th {\n",
       "        vertical-align: top;\n",
       "    }\n",
       "\n",
       "    .dataframe thead th {\n",
       "        text-align: right;\n",
       "    }\n",
       "</style>\n",
       "<table border=\"1\" class=\"dataframe\">\n",
       "  <thead>\n",
       "    <tr style=\"text-align: right;\">\n",
       "      <th></th>\n",
       "      <th>Population</th>\n",
       "      <th>Z_population</th>\n",
       "    </tr>\n",
       "  </thead>\n",
       "  <tbody>\n",
       "    <tr>\n",
       "      <th>0</th>\n",
       "      <td>38</td>\n",
       "      <td>-0.673405</td>\n",
       "    </tr>\n",
       "    <tr>\n",
       "      <th>1</th>\n",
       "      <td>10446</td>\n",
       "      <td>0.047772</td>\n",
       "    </tr>\n",
       "    <tr>\n",
       "      <th>2</th>\n",
       "      <td>3735</td>\n",
       "      <td>-0.417238</td>\n",
       "    </tr>\n",
       "    <tr>\n",
       "      <th>3</th>\n",
       "      <td>13863</td>\n",
       "      <td>0.284537</td>\n",
       "    </tr>\n",
       "    <tr>\n",
       "      <th>4</th>\n",
       "      <td>11352</td>\n",
       "      <td>0.110549</td>\n",
       "    </tr>\n",
       "  </tbody>\n",
       "</table>\n",
       "</div>"
      ],
      "text/plain": [
       "   Population  Z_population\n",
       "0          38     -0.673405\n",
       "1       10446      0.047772\n",
       "2        3735     -0.417238\n",
       "3       13863      0.284537\n",
       "4       11352      0.110549"
      ]
     },
     "execution_count": 89,
     "metadata": {},
     "output_type": "execute_result"
    }
   ],
   "source": [
    "# Checking for ouliers using Z-scores--stats\n",
    "df1['Z_population'] = st.zscore(df1['Population'])\n",
    "df1[['Population', 'Z_population']].head()"
   ]
  },
  {
   "cell_type": "code",
   "execution_count": 90,
   "id": "3814fc1c",
   "metadata": {},
   "outputs": [
    {
     "data": {
      "image/png": "[encoded data removed]",
      "text/plain": [
       "<Figure size 640x480 with 1 Axes>"
      ]
     },
     "metadata": {},
     "output_type": "display_data"
    }
   ],
   "source": [
    "# Check it on the histogram...We can see we have outliers\n",
    "plt.hist(df1['Z_population'])\n",
    "plt.show()"
   ]
  },
  {
   "cell_type": "code",
   "execution_count": 91,
   "id": "9a3f96f9",
   "metadata": {},
   "outputs": [
    {
     "data": {
      "text/plain": [
       "count     10000.000000\n",
       "mean       9756.562400\n",
       "std       14432.698671\n",
       "min           0.000000\n",
       "25%         738.000000\n",
       "50%        2910.500000\n",
       "75%       13168.000000\n",
       "max      111850.000000\n",
       "Name: Population, dtype: float64"
      ]
     },
     "execution_count": 91,
     "metadata": {},
     "output_type": "execute_result"
    }
   ],
   "source": [
    "# Check before replacement\n",
    "df1['Population'].describe()"
   ]
  },
  {
   "cell_type": "code",
   "execution_count": 92,
   "id": "841268a7",
   "metadata": {},
   "outputs": [
    {
     "data": {
      "text/html": [
       "<div>\n",
       "<style scoped>\n",
       "    .dataframe tbody tr th:only-of-type {\n",
       "        vertical-align: middle;\n",
       "    }\n",
       "\n",
       "    .dataframe tbody tr th {\n",
       "        vertical-align: top;\n",
       "    }\n",
       "\n",
       "    .dataframe thead th {\n",
       "        text-align: right;\n",
       "    }\n",
       "</style>\n",
       "<table border=\"1\" class=\"dataframe\">\n",
       "  <thead>\n",
       "    <tr style=\"text-align: right;\">\n",
       "      <th></th>\n",
       "      <th>Population</th>\n",
       "      <th>Area</th>\n",
       "      <th>Children</th>\n",
       "      <th>Age</th>\n",
       "      <th>Income</th>\n",
       "      <th>Marital</th>\n",
       "      <th>Gender</th>\n",
       "      <th>Churn</th>\n",
       "      <th>Outage_sec_perweek</th>\n",
       "      <th>Email</th>\n",
       "      <th>...</th>\n",
       "      <th>DeviceProtection</th>\n",
       "      <th>TechSupport</th>\n",
       "      <th>StreamingTV</th>\n",
       "      <th>StreamingMovies</th>\n",
       "      <th>PaperlessBilling</th>\n",
       "      <th>PaymentMethod</th>\n",
       "      <th>Tenure</th>\n",
       "      <th>MonthlyCharge</th>\n",
       "      <th>Bandwidth_GB_Year</th>\n",
       "      <th>Z_population</th>\n",
       "    </tr>\n",
       "  </thead>\n",
       "  <tbody>\n",
       "    <tr>\n",
       "      <th>57</th>\n",
       "      <td>58431</td>\n",
       "      <td>Rural</td>\n",
       "      <td>1</td>\n",
       "      <td>33</td>\n",
       "      <td>15690.25</td>\n",
       "      <td>Widowed</td>\n",
       "      <td>Female</td>\n",
       "      <td>No</td>\n",
       "      <td>11.448751</td>\n",
       "      <td>11</td>\n",
       "      <td>...</td>\n",
       "      <td>Yes</td>\n",
       "      <td>Yes</td>\n",
       "      <td>No</td>\n",
       "      <td>Yes</td>\n",
       "      <td>Yes</td>\n",
       "      <td>Mailed Check</td>\n",
       "      <td>6.732949</td>\n",
       "      <td>142.515576</td>\n",
       "      <td>958.139706</td>\n",
       "      <td>3.372680</td>\n",
       "    </tr>\n",
       "    <tr>\n",
       "      <th>90</th>\n",
       "      <td>55519</td>\n",
       "      <td>Rural</td>\n",
       "      <td>0</td>\n",
       "      <td>75</td>\n",
       "      <td>58482.90</td>\n",
       "      <td>Separated</td>\n",
       "      <td>Female</td>\n",
       "      <td>Yes</td>\n",
       "      <td>8.294186</td>\n",
       "      <td>13</td>\n",
       "      <td>...</td>\n",
       "      <td>Yes</td>\n",
       "      <td>No</td>\n",
       "      <td>No</td>\n",
       "      <td>Yes</td>\n",
       "      <td>Yes</td>\n",
       "      <td>Mailed Check</td>\n",
       "      <td>2.188919</td>\n",
       "      <td>192.470522</td>\n",
       "      <td>409.748666</td>\n",
       "      <td>3.170906</td>\n",
       "    </tr>\n",
       "    <tr>\n",
       "      <th>100</th>\n",
       "      <td>55122</td>\n",
       "      <td>Urban</td>\n",
       "      <td>0</td>\n",
       "      <td>69</td>\n",
       "      <td>58077.38</td>\n",
       "      <td>Separated</td>\n",
       "      <td>Male</td>\n",
       "      <td>Yes</td>\n",
       "      <td>10.683118</td>\n",
       "      <td>12</td>\n",
       "      <td>...</td>\n",
       "      <td>Yes</td>\n",
       "      <td>Yes</td>\n",
       "      <td>Yes</td>\n",
       "      <td>Yes</td>\n",
       "      <td>Yes</td>\n",
       "      <td>Credit Card (automatic)</td>\n",
       "      <td>14.462882</td>\n",
       "      <td>222.660939</td>\n",
       "      <td>1806.135733</td>\n",
       "      <td>3.143397</td>\n",
       "    </tr>\n",
       "    <tr>\n",
       "      <th>157</th>\n",
       "      <td>86926</td>\n",
       "      <td>Rural</td>\n",
       "      <td>1</td>\n",
       "      <td>39</td>\n",
       "      <td>20624.31</td>\n",
       "      <td>Divorced</td>\n",
       "      <td>Male</td>\n",
       "      <td>No</td>\n",
       "      <td>6.985590</td>\n",
       "      <td>9</td>\n",
       "      <td>...</td>\n",
       "      <td>No</td>\n",
       "      <td>Yes</td>\n",
       "      <td>Yes</td>\n",
       "      <td>No</td>\n",
       "      <td>Yes</td>\n",
       "      <td>Electronic Check</td>\n",
       "      <td>5.969967</td>\n",
       "      <td>174.961766</td>\n",
       "      <td>967.981914</td>\n",
       "      <td>5.347115</td>\n",
       "    </tr>\n",
       "    <tr>\n",
       "      <th>203</th>\n",
       "      <td>90517</td>\n",
       "      <td>Suburban</td>\n",
       "      <td>3</td>\n",
       "      <td>83</td>\n",
       "      <td>44223.58</td>\n",
       "      <td>Widowed</td>\n",
       "      <td>Female</td>\n",
       "      <td>No</td>\n",
       "      <td>7.352534</td>\n",
       "      <td>15</td>\n",
       "      <td>...</td>\n",
       "      <td>No</td>\n",
       "      <td>No</td>\n",
       "      <td>Yes</td>\n",
       "      <td>No</td>\n",
       "      <td>No</td>\n",
       "      <td>Electronic Check</td>\n",
       "      <td>14.171923</td>\n",
       "      <td>127.458638</td>\n",
       "      <td>1430.761492</td>\n",
       "      <td>5.595937</td>\n",
       "    </tr>\n",
       "    <tr>\n",
       "      <th>...</th>\n",
       "      <td>...</td>\n",
       "      <td>...</td>\n",
       "      <td>...</td>\n",
       "      <td>...</td>\n",
       "      <td>...</td>\n",
       "      <td>...</td>\n",
       "      <td>...</td>\n",
       "      <td>...</td>\n",
       "      <td>...</td>\n",
       "      <td>...</td>\n",
       "      <td>...</td>\n",
       "      <td>...</td>\n",
       "      <td>...</td>\n",
       "      <td>...</td>\n",
       "      <td>...</td>\n",
       "      <td>...</td>\n",
       "      <td>...</td>\n",
       "      <td>...</td>\n",
       "      <td>...</td>\n",
       "      <td>...</td>\n",
       "      <td>...</td>\n",
       "    </tr>\n",
       "    <tr>\n",
       "      <th>9647</th>\n",
       "      <td>54540</td>\n",
       "      <td>Urban</td>\n",
       "      <td>0</td>\n",
       "      <td>39</td>\n",
       "      <td>29732.28</td>\n",
       "      <td>Separated</td>\n",
       "      <td>Female</td>\n",
       "      <td>Yes</td>\n",
       "      <td>5.790541</td>\n",
       "      <td>11</td>\n",
       "      <td>...</td>\n",
       "      <td>Yes</td>\n",
       "      <td>No</td>\n",
       "      <td>Yes</td>\n",
       "      <td>Yes</td>\n",
       "      <td>No</td>\n",
       "      <td>Credit Card (automatic)</td>\n",
       "      <td>66.508790</td>\n",
       "      <td>187.656000</td>\n",
       "      <td>6023.656633</td>\n",
       "      <td>3.103070</td>\n",
       "    </tr>\n",
       "    <tr>\n",
       "      <th>9728</th>\n",
       "      <td>54507</td>\n",
       "      <td>Urban</td>\n",
       "      <td>1</td>\n",
       "      <td>61</td>\n",
       "      <td>24614.25</td>\n",
       "      <td>Divorced</td>\n",
       "      <td>Female</td>\n",
       "      <td>No</td>\n",
       "      <td>5.982889</td>\n",
       "      <td>17</td>\n",
       "      <td>...</td>\n",
       "      <td>No</td>\n",
       "      <td>No</td>\n",
       "      <td>Yes</td>\n",
       "      <td>No</td>\n",
       "      <td>Yes</td>\n",
       "      <td>Bank Transfer(automatic)</td>\n",
       "      <td>71.154680</td>\n",
       "      <td>137.439200</td>\n",
       "      <td>6016.376448</td>\n",
       "      <td>3.100784</td>\n",
       "    </tr>\n",
       "    <tr>\n",
       "      <th>9905</th>\n",
       "      <td>54413</td>\n",
       "      <td>Suburban</td>\n",
       "      <td>1</td>\n",
       "      <td>30</td>\n",
       "      <td>21246.03</td>\n",
       "      <td>Divorced</td>\n",
       "      <td>Male</td>\n",
       "      <td>No</td>\n",
       "      <td>4.759083</td>\n",
       "      <td>15</td>\n",
       "      <td>...</td>\n",
       "      <td>Yes</td>\n",
       "      <td>No</td>\n",
       "      <td>No</td>\n",
       "      <td>No</td>\n",
       "      <td>Yes</td>\n",
       "      <td>Credit Card (automatic)</td>\n",
       "      <td>70.531170</td>\n",
       "      <td>140.001300</td>\n",
       "      <td>6599.191565</td>\n",
       "      <td>3.094270</td>\n",
       "    </tr>\n",
       "    <tr>\n",
       "      <th>9987</th>\n",
       "      <td>87509</td>\n",
       "      <td>Urban</td>\n",
       "      <td>3</td>\n",
       "      <td>61</td>\n",
       "      <td>102629.60</td>\n",
       "      <td>Married</td>\n",
       "      <td>Female</td>\n",
       "      <td>No</td>\n",
       "      <td>8.373844</td>\n",
       "      <td>8</td>\n",
       "      <td>...</td>\n",
       "      <td>Yes</td>\n",
       "      <td>No</td>\n",
       "      <td>Yes</td>\n",
       "      <td>Yes</td>\n",
       "      <td>No</td>\n",
       "      <td>Electronic Check</td>\n",
       "      <td>54.545380</td>\n",
       "      <td>220.161500</td>\n",
       "      <td>5135.575997</td>\n",
       "      <td>5.387511</td>\n",
       "    </tr>\n",
       "    <tr>\n",
       "      <th>9996</th>\n",
       "      <td>77168</td>\n",
       "      <td>Rural</td>\n",
       "      <td>4</td>\n",
       "      <td>48</td>\n",
       "      <td>34129.34</td>\n",
       "      <td>Divorced</td>\n",
       "      <td>Male</td>\n",
       "      <td>No</td>\n",
       "      <td>6.740547</td>\n",
       "      <td>15</td>\n",
       "      <td>...</td>\n",
       "      <td>Yes</td>\n",
       "      <td>No</td>\n",
       "      <td>Yes</td>\n",
       "      <td>No</td>\n",
       "      <td>No</td>\n",
       "      <td>Electronic Check</td>\n",
       "      <td>61.040370</td>\n",
       "      <td>207.481100</td>\n",
       "      <td>5695.951810</td>\n",
       "      <td>4.670977</td>\n",
       "    </tr>\n",
       "  </tbody>\n",
       "</table>\n",
       "<p>219 rows × 31 columns</p>\n",
       "</div>"
      ],
      "text/plain": [
       "      Population      Area  Children  Age     Income    Marital  Gender Churn  \\\n",
       "57         58431     Rural         1   33   15690.25    Widowed  Female    No   \n",
       "90         55519     Rural         0   75   58482.90  Separated  Female   Yes   \n",
       "100        55122     Urban         0   69   58077.38  Separated    Male   Yes   \n",
       "157        86926     Rural         1   39   20624.31   Divorced    Male    No   \n",
       "203        90517  Suburban         3   83   44223.58    Widowed  Female    No   \n",
       "...          ...       ...       ...  ...        ...        ...     ...   ...   \n",
       "9647       54540     Urban         0   39   29732.28  Separated  Female   Yes   \n",
       "9728       54507     Urban         1   61   24614.25   Divorced  Female    No   \n",
       "9905       54413  Suburban         1   30   21246.03   Divorced    Male    No   \n",
       "9987       87509     Urban         3   61  102629.60    Married  Female    No   \n",
       "9996       77168     Rural         4   48   34129.34   Divorced    Male    No   \n",
       "\n",
       "      Outage_sec_perweek  Email  ...  DeviceProtection  TechSupport  \\\n",
       "57             11.448751     11  ...               Yes          Yes   \n",
       "90              8.294186     13  ...               Yes           No   \n",
       "100            10.683118     12  ...               Yes          Yes   \n",
       "157             6.985590      9  ...                No          Yes   \n",
       "203             7.352534     15  ...                No           No   \n",
       "...                  ...    ...  ...               ...          ...   \n",
       "9647            5.790541     11  ...               Yes           No   \n",
       "9728            5.982889     17  ...                No           No   \n",
       "9905            4.759083     15  ...               Yes           No   \n",
       "9987            8.373844      8  ...               Yes           No   \n",
       "9996            6.740547     15  ...               Yes           No   \n",
       "\n",
       "     StreamingTV StreamingMovies PaperlessBilling             PaymentMethod  \\\n",
       "57            No             Yes              Yes              Mailed Check   \n",
       "90            No             Yes              Yes              Mailed Check   \n",
       "100          Yes             Yes              Yes   Credit Card (automatic)   \n",
       "157          Yes              No              Yes          Electronic Check   \n",
       "203          Yes              No               No          Electronic Check   \n",
       "...          ...             ...              ...                       ...   \n",
       "9647         Yes             Yes               No   Credit Card (automatic)   \n",
       "9728         Yes              No              Yes  Bank Transfer(automatic)   \n",
       "9905          No              No              Yes   Credit Card (automatic)   \n",
       "9987         Yes             Yes               No          Electronic Check   \n",
       "9996         Yes              No               No          Electronic Check   \n",
       "\n",
       "         Tenure MonthlyCharge Bandwidth_GB_Year Z_population  \n",
       "57     6.732949    142.515576        958.139706     3.372680  \n",
       "90     2.188919    192.470522        409.748666     3.170906  \n",
       "100   14.462882    222.660939       1806.135733     3.143397  \n",
       "157    5.969967    174.961766        967.981914     5.347115  \n",
       "203   14.171923    127.458638       1430.761492     5.595937  \n",
       "...         ...           ...               ...          ...  \n",
       "9647  66.508790    187.656000       6023.656633     3.103070  \n",
       "9728  71.154680    137.439200       6016.376448     3.100784  \n",
       "9905  70.531170    140.001300       6599.191565     3.094270  \n",
       "9987  54.545380    220.161500       5135.575997     5.387511  \n",
       "9996  61.040370    207.481100       5695.951810     4.670977  \n",
       "\n",
       "[219 rows x 31 columns]"
      ]
     },
     "execution_count": 92,
     "metadata": {},
     "output_type": "execute_result"
    }
   ],
   "source": [
    "# Check how many instances are greater than 3 == 219 instances\n",
    "df1[df1['Z_population']>3]"
   ]
  },
  {
   "cell_type": "code",
   "execution_count": 93,
   "id": "d24178b4",
   "metadata": {},
   "outputs": [],
   "source": [
    "#Make a new df for median imputation\n",
    "df_pop = df1[['Population', 'Z_population']]"
   ]
  },
  {
   "cell_type": "code",
   "execution_count": 94,
   "id": "c7d6636c",
   "metadata": {},
   "outputs": [],
   "source": [
    "# Make the outliers equal to Nan\n",
    "df_pop[(df_pop.Z_population > 3)] = np.nan"
   ]
  },
  {
   "cell_type": "code",
   "execution_count": 95,
   "id": "5c698313",
   "metadata": {},
   "outputs": [
    {
     "data": {
      "text/plain": [
       "count     9781.000000\n",
       "mean      8504.807791\n",
       "std      11755.975009\n",
       "min          0.000000\n",
       "25%        718.000000\n",
       "50%       2737.000000\n",
       "75%      11850.000000\n",
       "max      52967.000000\n",
       "Name: Population, dtype: float64"
      ]
     },
     "execution_count": 95,
     "metadata": {},
     "output_type": "execute_result"
    }
   ],
   "source": [
    "# Check before replacement\n",
    "df_pop['Population'].describe()"
   ]
  },
  {
   "cell_type": "code",
   "execution_count": 96,
   "id": "5c886d00",
   "metadata": {},
   "outputs": [],
   "source": [
    "# Replace with median values--219\n",
    "df_pop['Population'].fillna(df_pop['Population'].median(), inplace=True)"
   ]
  },
  {
   "cell_type": "code",
   "execution_count": 97,
   "id": "527b1d5b",
   "metadata": {},
   "outputs": [],
   "source": [
    "# Replace with no outliers\n",
    "df1['Population'] = df_pop['Population']"
   ]
  },
  {
   "cell_type": "code",
   "execution_count": 98,
   "id": "302aa26d",
   "metadata": {},
   "outputs": [
    {
     "data": {
      "text/plain": [
       "count    10000.000000\n",
       "mean      8378.492800\n",
       "std      11657.129901\n",
       "min          0.000000\n",
       "25%        738.000000\n",
       "50%       2737.000000\n",
       "75%      11365.750000\n",
       "max      52967.000000\n",
       "Name: Population, dtype: float64"
      ]
     },
     "execution_count": 98,
     "metadata": {},
     "output_type": "execute_result"
    }
   ],
   "source": [
    "# Check stats after median imputation\n",
    "df1['Population'].describe()"
   ]
  },
  {
   "cell_type": "code",
   "execution_count": 99,
   "id": "c32a42c5",
   "metadata": {},
   "outputs": [
    {
     "data": {
      "text/html": [
       "<div>\n",
       "<style scoped>\n",
       "    .dataframe tbody tr th:only-of-type {\n",
       "        vertical-align: middle;\n",
       "    }\n",
       "\n",
       "    .dataframe tbody tr th {\n",
       "        vertical-align: top;\n",
       "    }\n",
       "\n",
       "    .dataframe thead th {\n",
       "        text-align: right;\n",
       "    }\n",
       "</style>\n",
       "<table border=\"1\" class=\"dataframe\">\n",
       "  <thead>\n",
       "    <tr style=\"text-align: right;\">\n",
       "      <th></th>\n",
       "      <th>Children</th>\n",
       "      <th>Z_children</th>\n",
       "    </tr>\n",
       "  </thead>\n",
       "  <tbody>\n",
       "    <tr>\n",
       "      <th>0</th>\n",
       "      <td>0</td>\n",
       "      <td>-0.972338</td>\n",
       "    </tr>\n",
       "    <tr>\n",
       "      <th>1</th>\n",
       "      <td>1</td>\n",
       "      <td>-0.506592</td>\n",
       "    </tr>\n",
       "    <tr>\n",
       "      <th>2</th>\n",
       "      <td>4</td>\n",
       "      <td>0.890646</td>\n",
       "    </tr>\n",
       "    <tr>\n",
       "      <th>3</th>\n",
       "      <td>1</td>\n",
       "      <td>-0.506592</td>\n",
       "    </tr>\n",
       "    <tr>\n",
       "      <th>4</th>\n",
       "      <td>0</td>\n",
       "      <td>-0.972338</td>\n",
       "    </tr>\n",
       "  </tbody>\n",
       "</table>\n",
       "</div>"
      ],
      "text/plain": [
       "   Children  Z_children\n",
       "0         0   -0.972338\n",
       "1         1   -0.506592\n",
       "2         4    0.890646\n",
       "3         1   -0.506592\n",
       "4         0   -0.972338"
      ]
     },
     "execution_count": 99,
     "metadata": {},
     "output_type": "execute_result"
    }
   ],
   "source": [
    "# Checking for ouliers using Z-scores--stats\n",
    "df1['Z_children'] = st.zscore(df1['Children'])\n",
    "df1[['Children', 'Z_children']].head()"
   ]
  },
  {
   "cell_type": "code",
   "execution_count": 100,
   "id": "1b8179cc",
   "metadata": {},
   "outputs": [
    {
     "data": {
      "image/png": "[encoded data removed]",
      "text/plain": [
       "<Figure size 640x480 with 1 Axes>"
      ]
     },
     "metadata": {},
     "output_type": "display_data"
    }
   ],
   "source": [
    "# Check it on the histogram...We can see we have outliers\n",
    "plt.hist(df1['Z_children'])\n",
    "plt.show()"
   ]
  },
  {
   "cell_type": "code",
   "execution_count": 101,
   "id": "3495ce59",
   "metadata": {},
   "outputs": [
    {
     "data": {
      "text/html": [
       "<div>\n",
       "<style scoped>\n",
       "    .dataframe tbody tr th:only-of-type {\n",
       "        vertical-align: middle;\n",
       "    }\n",
       "\n",
       "    .dataframe tbody tr th {\n",
       "        vertical-align: top;\n",
       "    }\n",
       "\n",
       "    .dataframe thead th {\n",
       "        text-align: right;\n",
       "    }\n",
       "</style>\n",
       "<table border=\"1\" class=\"dataframe\">\n",
       "  <thead>\n",
       "    <tr style=\"text-align: right;\">\n",
       "      <th></th>\n",
       "      <th>Population</th>\n",
       "      <th>Area</th>\n",
       "      <th>Children</th>\n",
       "      <th>Age</th>\n",
       "      <th>Income</th>\n",
       "      <th>Marital</th>\n",
       "      <th>Gender</th>\n",
       "      <th>Churn</th>\n",
       "      <th>Outage_sec_perweek</th>\n",
       "      <th>Email</th>\n",
       "      <th>...</th>\n",
       "      <th>TechSupport</th>\n",
       "      <th>StreamingTV</th>\n",
       "      <th>StreamingMovies</th>\n",
       "      <th>PaperlessBilling</th>\n",
       "      <th>PaymentMethod</th>\n",
       "      <th>Tenure</th>\n",
       "      <th>MonthlyCharge</th>\n",
       "      <th>Bandwidth_GB_Year</th>\n",
       "      <th>Z_population</th>\n",
       "      <th>Z_children</th>\n",
       "    </tr>\n",
       "  </thead>\n",
       "  <tbody>\n",
       "    <tr>\n",
       "      <th>30</th>\n",
       "      <td>11268.0</td>\n",
       "      <td>Urban</td>\n",
       "      <td>9</td>\n",
       "      <td>45</td>\n",
       "      <td>43383.54</td>\n",
       "      <td>Married</td>\n",
       "      <td>Male</td>\n",
       "      <td>No</td>\n",
       "      <td>6.613071</td>\n",
       "      <td>14</td>\n",
       "      <td>...</td>\n",
       "      <td>No</td>\n",
       "      <td>Yes</td>\n",
       "      <td>Yes</td>\n",
       "      <td>Yes</td>\n",
       "      <td>Credit Card (automatic)</td>\n",
       "      <td>11.082878</td>\n",
       "      <td>230.105118</td>\n",
       "      <td>1795.465729</td>\n",
       "      <td>0.104728</td>\n",
       "      <td>3.219376</td>\n",
       "    </tr>\n",
       "    <tr>\n",
       "      <th>97</th>\n",
       "      <td>521.0</td>\n",
       "      <td>Suburban</td>\n",
       "      <td>10</td>\n",
       "      <td>23</td>\n",
       "      <td>64816.84</td>\n",
       "      <td>Divorced</td>\n",
       "      <td>Male</td>\n",
       "      <td>Yes</td>\n",
       "      <td>5.271229</td>\n",
       "      <td>14</td>\n",
       "      <td>...</td>\n",
       "      <td>Yes</td>\n",
       "      <td>Yes</td>\n",
       "      <td>No</td>\n",
       "      <td>No</td>\n",
       "      <td>Mailed Check</td>\n",
       "      <td>12.976322</td>\n",
       "      <td>187.484705</td>\n",
       "      <td>1956.733700</td>\n",
       "      <td>-0.639937</td>\n",
       "      <td>3.685122</td>\n",
       "    </tr>\n",
       "    <tr>\n",
       "      <th>144</th>\n",
       "      <td>15171.0</td>\n",
       "      <td>Suburban</td>\n",
       "      <td>10</td>\n",
       "      <td>76</td>\n",
       "      <td>35954.77</td>\n",
       "      <td>Married</td>\n",
       "      <td>Male</td>\n",
       "      <td>Yes</td>\n",
       "      <td>13.715554</td>\n",
       "      <td>14</td>\n",
       "      <td>...</td>\n",
       "      <td>No</td>\n",
       "      <td>No</td>\n",
       "      <td>Yes</td>\n",
       "      <td>Yes</td>\n",
       "      <td>Electronic Check</td>\n",
       "      <td>3.237560</td>\n",
       "      <td>137.461553</td>\n",
       "      <td>819.419527</td>\n",
       "      <td>0.375169</td>\n",
       "      <td>3.685122</td>\n",
       "    </tr>\n",
       "    <tr>\n",
       "      <th>329</th>\n",
       "      <td>26381.0</td>\n",
       "      <td>Urban</td>\n",
       "      <td>9</td>\n",
       "      <td>19</td>\n",
       "      <td>40902.49</td>\n",
       "      <td>Married</td>\n",
       "      <td>Female</td>\n",
       "      <td>Yes</td>\n",
       "      <td>8.816498</td>\n",
       "      <td>8</td>\n",
       "      <td>...</td>\n",
       "      <td>No</td>\n",
       "      <td>Yes</td>\n",
       "      <td>Yes</td>\n",
       "      <td>Yes</td>\n",
       "      <td>Mailed Check</td>\n",
       "      <td>11.103564</td>\n",
       "      <td>222.679213</td>\n",
       "      <td>1973.661316</td>\n",
       "      <td>1.151917</td>\n",
       "      <td>3.219376</td>\n",
       "    </tr>\n",
       "    <tr>\n",
       "      <th>334</th>\n",
       "      <td>5978.0</td>\n",
       "      <td>Suburban</td>\n",
       "      <td>9</td>\n",
       "      <td>79</td>\n",
       "      <td>11179.42</td>\n",
       "      <td>Never Married</td>\n",
       "      <td>Female</td>\n",
       "      <td>No</td>\n",
       "      <td>10.494952</td>\n",
       "      <td>11</td>\n",
       "      <td>...</td>\n",
       "      <td>No</td>\n",
       "      <td>No</td>\n",
       "      <td>No</td>\n",
       "      <td>Yes</td>\n",
       "      <td>Electronic Check</td>\n",
       "      <td>8.701581</td>\n",
       "      <td>127.478341</td>\n",
       "      <td>1451.201108</td>\n",
       "      <td>-0.261819</td>\n",
       "      <td>3.219376</td>\n",
       "    </tr>\n",
       "    <tr>\n",
       "      <th>...</th>\n",
       "      <td>...</td>\n",
       "      <td>...</td>\n",
       "      <td>...</td>\n",
       "      <td>...</td>\n",
       "      <td>...</td>\n",
       "      <td>...</td>\n",
       "      <td>...</td>\n",
       "      <td>...</td>\n",
       "      <td>...</td>\n",
       "      <td>...</td>\n",
       "      <td>...</td>\n",
       "      <td>...</td>\n",
       "      <td>...</td>\n",
       "      <td>...</td>\n",
       "      <td>...</td>\n",
       "      <td>...</td>\n",
       "      <td>...</td>\n",
       "      <td>...</td>\n",
       "      <td>...</td>\n",
       "      <td>...</td>\n",
       "      <td>...</td>\n",
       "    </tr>\n",
       "    <tr>\n",
       "      <th>9623</th>\n",
       "      <td>2737.0</td>\n",
       "      <td>Urban</td>\n",
       "      <td>10</td>\n",
       "      <td>79</td>\n",
       "      <td>42222.25</td>\n",
       "      <td>Married</td>\n",
       "      <td>Female</td>\n",
       "      <td>No</td>\n",
       "      <td>9.315470</td>\n",
       "      <td>14</td>\n",
       "      <td>...</td>\n",
       "      <td>Yes</td>\n",
       "      <td>No</td>\n",
       "      <td>Yes</td>\n",
       "      <td>No</td>\n",
       "      <td>Mailed Check</td>\n",
       "      <td>68.033240</td>\n",
       "      <td>172.456700</td>\n",
       "      <td>6432.294015</td>\n",
       "      <td>3.014794</td>\n",
       "      <td>3.685122</td>\n",
       "    </tr>\n",
       "    <tr>\n",
       "      <th>9676</th>\n",
       "      <td>3738.0</td>\n",
       "      <td>Rural</td>\n",
       "      <td>9</td>\n",
       "      <td>30</td>\n",
       "      <td>29388.05</td>\n",
       "      <td>Married</td>\n",
       "      <td>Male</td>\n",
       "      <td>No</td>\n",
       "      <td>9.784614</td>\n",
       "      <td>8</td>\n",
       "      <td>...</td>\n",
       "      <td>Yes</td>\n",
       "      <td>No</td>\n",
       "      <td>Yes</td>\n",
       "      <td>No</td>\n",
       "      <td>Mailed Check</td>\n",
       "      <td>64.280750</td>\n",
       "      <td>127.475000</td>\n",
       "      <td>5851.532323</td>\n",
       "      <td>-0.417030</td>\n",
       "      <td>3.219376</td>\n",
       "    </tr>\n",
       "    <tr>\n",
       "      <th>9790</th>\n",
       "      <td>1995.0</td>\n",
       "      <td>Rural</td>\n",
       "      <td>10</td>\n",
       "      <td>31</td>\n",
       "      <td>23693.22</td>\n",
       "      <td>Married</td>\n",
       "      <td>Male</td>\n",
       "      <td>No</td>\n",
       "      <td>12.947090</td>\n",
       "      <td>13</td>\n",
       "      <td>...</td>\n",
       "      <td>No</td>\n",
       "      <td>Yes</td>\n",
       "      <td>Yes</td>\n",
       "      <td>Yes</td>\n",
       "      <td>Electronic Check</td>\n",
       "      <td>71.406390</td>\n",
       "      <td>242.628100</td>\n",
       "      <td>6900.075325</td>\n",
       "      <td>-0.537803</td>\n",
       "      <td>3.685122</td>\n",
       "    </tr>\n",
       "    <tr>\n",
       "      <th>9871</th>\n",
       "      <td>1691.0</td>\n",
       "      <td>Urban</td>\n",
       "      <td>10</td>\n",
       "      <td>18</td>\n",
       "      <td>19351.19</td>\n",
       "      <td>Widowed</td>\n",
       "      <td>Female</td>\n",
       "      <td>No</td>\n",
       "      <td>7.845888</td>\n",
       "      <td>13</td>\n",
       "      <td>...</td>\n",
       "      <td>No</td>\n",
       "      <td>No</td>\n",
       "      <td>Yes</td>\n",
       "      <td>Yes</td>\n",
       "      <td>Electronic Check</td>\n",
       "      <td>64.027710</td>\n",
       "      <td>142.482700</td>\n",
       "      <td>6388.161243</td>\n",
       "      <td>-0.558867</td>\n",
       "      <td>3.685122</td>\n",
       "    </tr>\n",
       "    <tr>\n",
       "      <th>9901</th>\n",
       "      <td>1359.0</td>\n",
       "      <td>Suburban</td>\n",
       "      <td>9</td>\n",
       "      <td>72</td>\n",
       "      <td>77625.49</td>\n",
       "      <td>Married</td>\n",
       "      <td>Female</td>\n",
       "      <td>Yes</td>\n",
       "      <td>6.826295</td>\n",
       "      <td>10</td>\n",
       "      <td>...</td>\n",
       "      <td>Yes</td>\n",
       "      <td>Yes</td>\n",
       "      <td>Yes</td>\n",
       "      <td>No</td>\n",
       "      <td>Electronic Check</td>\n",
       "      <td>67.254340</td>\n",
       "      <td>222.614300</td>\n",
       "      <td>6680.274618</td>\n",
       "      <td>-0.581872</td>\n",
       "      <td>3.219376</td>\n",
       "    </tr>\n",
       "  </tbody>\n",
       "</table>\n",
       "<p>191 rows × 32 columns</p>\n",
       "</div>"
      ],
      "text/plain": [
       "      Population      Area  Children  Age    Income        Marital  Gender  \\\n",
       "30       11268.0     Urban         9   45  43383.54        Married    Male   \n",
       "97         521.0  Suburban        10   23  64816.84       Divorced    Male   \n",
       "144      15171.0  Suburban        10   76  35954.77        Married    Male   \n",
       "329      26381.0     Urban         9   19  40902.49        Married  Female   \n",
       "334       5978.0  Suburban         9   79  11179.42  Never Married  Female   \n",
       "...          ...       ...       ...  ...       ...            ...     ...   \n",
       "9623      2737.0     Urban        10   79  42222.25        Married  Female   \n",
       "9676      3738.0     Rural         9   30  29388.05        Married    Male   \n",
       "9790      1995.0     Rural        10   31  23693.22        Married    Male   \n",
       "9871      1691.0     Urban        10   18  19351.19        Widowed  Female   \n",
       "9901      1359.0  Suburban         9   72  77625.49        Married  Female   \n",
       "\n",
       "     Churn  Outage_sec_perweek  Email  ...  TechSupport  StreamingTV  \\\n",
       "30      No            6.613071     14  ...           No          Yes   \n",
       "97     Yes            5.271229     14  ...          Yes          Yes   \n",
       "144    Yes           13.715554     14  ...           No           No   \n",
       "329    Yes            8.816498      8  ...           No          Yes   \n",
       "334     No           10.494952     11  ...           No           No   \n",
       "...    ...                 ...    ...  ...          ...          ...   \n",
       "9623    No            9.315470     14  ...          Yes           No   \n",
       "9676    No            9.784614      8  ...          Yes           No   \n",
       "9790    No           12.947090     13  ...           No          Yes   \n",
       "9871    No            7.845888     13  ...           No           No   \n",
       "9901   Yes            6.826295     10  ...          Yes          Yes   \n",
       "\n",
       "     StreamingMovies PaperlessBilling            PaymentMethod     Tenure  \\\n",
       "30               Yes              Yes  Credit Card (automatic)  11.082878   \n",
       "97                No               No             Mailed Check  12.976322   \n",
       "144              Yes              Yes         Electronic Check   3.237560   \n",
       "329              Yes              Yes             Mailed Check  11.103564   \n",
       "334               No              Yes         Electronic Check   8.701581   \n",
       "...              ...              ...                      ...        ...   \n",
       "9623             Yes               No             Mailed Check  68.033240   \n",
       "9676             Yes               No             Mailed Check  64.280750   \n",
       "9790             Yes              Yes         Electronic Check  71.406390   \n",
       "9871             Yes              Yes         Electronic Check  64.027710   \n",
       "9901             Yes               No         Electronic Check  67.254340   \n",
       "\n",
       "     MonthlyCharge Bandwidth_GB_Year Z_population Z_children  \n",
       "30      230.105118       1795.465729     0.104728   3.219376  \n",
       "97      187.484705       1956.733700    -0.639937   3.685122  \n",
       "144     137.461553        819.419527     0.375169   3.685122  \n",
       "329     222.679213       1973.661316     1.151917   3.219376  \n",
       "334     127.478341       1451.201108    -0.261819   3.219376  \n",
       "...            ...               ...          ...        ...  \n",
       "9623    172.456700       6432.294015     3.014794   3.685122  \n",
       "9676    127.475000       5851.532323    -0.417030   3.219376  \n",
       "9790    242.628100       6900.075325    -0.537803   3.685122  \n",
       "9871    142.482700       6388.161243    -0.558867   3.685122  \n",
       "9901    222.614300       6680.274618    -0.581872   3.219376  \n",
       "\n",
       "[191 rows x 32 columns]"
      ]
     },
     "execution_count": 101,
     "metadata": {},
     "output_type": "execute_result"
    }
   ],
   "source": [
    "# Check how many instances are greater than 3\n",
    "df1[df1['Z_children']>3]"
   ]
  },
  {
   "cell_type": "code",
   "execution_count": 102,
   "id": "6b90c252",
   "metadata": {},
   "outputs": [],
   "source": [
    "#Make a new df for median imputation\n",
    "df_child = df1[['Children', 'Z_children']]"
   ]
  },
  {
   "cell_type": "code",
   "execution_count": 103,
   "id": "4a3cef09",
   "metadata": {},
   "outputs": [],
   "source": [
    "# Make the outliers equal to Nan\n",
    "df_child[(df_child.Z_children > 3)] = np.nan"
   ]
  },
  {
   "cell_type": "code",
   "execution_count": 104,
   "id": "975f035b",
   "metadata": {},
   "outputs": [
    {
     "data": {
      "text/plain": [
       "count    9809.000000\n",
       "mean        1.943012\n",
       "std         1.897161\n",
       "min         0.000000\n",
       "25%         0.000000\n",
       "50%         1.000000\n",
       "75%         3.000000\n",
       "max         8.000000\n",
       "Name: Children, dtype: float64"
      ]
     },
     "execution_count": 104,
     "metadata": {},
     "output_type": "execute_result"
    }
   ],
   "source": [
    "# Check before replacement\n",
    "df_child['Children'].describe()"
   ]
  },
  {
   "cell_type": "code",
   "execution_count": 105,
   "id": "d19f4bae",
   "metadata": {},
   "outputs": [],
   "source": [
    "# Replace with median values--219\n",
    "df_child['Children'].fillna(df_child['Children'].median(), inplace=True)"
   ]
  },
  {
   "cell_type": "code",
   "execution_count": 106,
   "id": "fddb9259",
   "metadata": {},
   "outputs": [],
   "source": [
    "# Replace with no outliers\n",
    "df1['Children'] = df_child['Children']"
   ]
  },
  {
   "cell_type": "code",
   "execution_count": 107,
   "id": "3cb37806",
   "metadata": {},
   "outputs": [
    {
     "data": {
      "text/plain": [
       "count    10000.000000\n",
       "mean         1.925000\n",
       "std          1.883383\n",
       "min          0.000000\n",
       "25%          0.000000\n",
       "50%          1.000000\n",
       "75%          3.000000\n",
       "max          8.000000\n",
       "Name: Children, dtype: float64"
      ]
     },
     "execution_count": 107,
     "metadata": {},
     "output_type": "execute_result"
    }
   ],
   "source": [
    "# Check stats after median imputation\n",
    "df1['Children'].describe()"
   ]
  },
  {
   "cell_type": "code",
   "execution_count": 108,
   "id": "0d29e589",
   "metadata": {},
   "outputs": [
    {
     "data": {
      "text/html": [
       "<div>\n",
       "<style scoped>\n",
       "    .dataframe tbody tr th:only-of-type {\n",
       "        vertical-align: middle;\n",
       "    }\n",
       "\n",
       "    .dataframe tbody tr th {\n",
       "        vertical-align: top;\n",
       "    }\n",
       "\n",
       "    .dataframe thead th {\n",
       "        text-align: right;\n",
       "    }\n",
       "</style>\n",
       "<table border=\"1\" class=\"dataframe\">\n",
       "  <thead>\n",
       "    <tr style=\"text-align: right;\">\n",
       "      <th></th>\n",
       "      <th>Age</th>\n",
       "      <th>Z_age</th>\n",
       "    </tr>\n",
       "  </thead>\n",
       "  <tbody>\n",
       "    <tr>\n",
       "      <th>0</th>\n",
       "      <td>68</td>\n",
       "      <td>0.720925</td>\n",
       "    </tr>\n",
       "    <tr>\n",
       "      <th>1</th>\n",
       "      <td>27</td>\n",
       "      <td>-1.259957</td>\n",
       "    </tr>\n",
       "    <tr>\n",
       "      <th>2</th>\n",
       "      <td>50</td>\n",
       "      <td>-0.148730</td>\n",
       "    </tr>\n",
       "    <tr>\n",
       "      <th>3</th>\n",
       "      <td>48</td>\n",
       "      <td>-0.245359</td>\n",
       "    </tr>\n",
       "    <tr>\n",
       "      <th>4</th>\n",
       "      <td>83</td>\n",
       "      <td>1.445638</td>\n",
       "    </tr>\n",
       "  </tbody>\n",
       "</table>\n",
       "</div>"
      ],
      "text/plain": [
       "   Age     Z_age\n",
       "0   68  0.720925\n",
       "1   27 -1.259957\n",
       "2   50 -0.148730\n",
       "3   48 -0.245359\n",
       "4   83  1.445638"
      ]
     },
     "execution_count": 108,
     "metadata": {},
     "output_type": "execute_result"
    }
   ],
   "source": [
    "# Checking for ouliers using Z-scores--stats\n",
    "df1['Z_age'] = st.zscore(df1['Age'])\n",
    "df1[['Age', 'Z_age']].head()"
   ]
  },
  {
   "cell_type": "code",
   "execution_count": 109,
   "id": "4c38a260",
   "metadata": {},
   "outputs": [
    {
     "data": {
      "image/png": "[encoded data removed]",
      "text/plain": [
       "<Figure size 640x480 with 1 Axes>"
      ]
     },
     "metadata": {},
     "output_type": "display_data"
    }
   ],
   "source": [
    "# Check it on the histogram--no outliers\n",
    "plt.hist(df1['Z_age'])\n",
    "plt.show()"
   ]
  },
  {
   "cell_type": "code",
   "execution_count": 110,
   "id": "b6e2ca73",
   "metadata": {},
   "outputs": [
    {
     "data": {
      "text/html": [
       "<div>\n",
       "<style scoped>\n",
       "    .dataframe tbody tr th:only-of-type {\n",
       "        vertical-align: middle;\n",
       "    }\n",
       "\n",
       "    .dataframe tbody tr th {\n",
       "        vertical-align: top;\n",
       "    }\n",
       "\n",
       "    .dataframe thead th {\n",
       "        text-align: right;\n",
       "    }\n",
       "</style>\n",
       "<table border=\"1\" class=\"dataframe\">\n",
       "  <thead>\n",
       "    <tr style=\"text-align: right;\">\n",
       "      <th></th>\n",
       "      <th>Income</th>\n",
       "      <th>Z_income</th>\n",
       "    </tr>\n",
       "  </thead>\n",
       "  <tbody>\n",
       "    <tr>\n",
       "      <th>0</th>\n",
       "      <td>28561.99</td>\n",
       "      <td>-0.398778</td>\n",
       "    </tr>\n",
       "    <tr>\n",
       "      <th>1</th>\n",
       "      <td>21704.77</td>\n",
       "      <td>-0.641954</td>\n",
       "    </tr>\n",
       "    <tr>\n",
       "      <th>2</th>\n",
       "      <td>9609.57</td>\n",
       "      <td>-1.070885</td>\n",
       "    </tr>\n",
       "    <tr>\n",
       "      <th>3</th>\n",
       "      <td>18925.23</td>\n",
       "      <td>-0.740525</td>\n",
       "    </tr>\n",
       "    <tr>\n",
       "      <th>4</th>\n",
       "      <td>40074.19</td>\n",
       "      <td>0.009478</td>\n",
       "    </tr>\n",
       "  </tbody>\n",
       "</table>\n",
       "</div>"
      ],
      "text/plain": [
       "     Income  Z_income\n",
       "0  28561.99 -0.398778\n",
       "1  21704.77 -0.641954\n",
       "2   9609.57 -1.070885\n",
       "3  18925.23 -0.740525\n",
       "4  40074.19  0.009478"
      ]
     },
     "execution_count": 110,
     "metadata": {},
     "output_type": "execute_result"
    }
   ],
   "source": [
    "# Checking for ouliers using Z-scores--stats\n",
    "df1['Z_income'] = st.zscore(df1['Income'])\n",
    "df1[['Income', 'Z_income']].head()"
   ]
  },
  {
   "cell_type": "code",
   "execution_count": 111,
   "id": "e8f7517d",
   "metadata": {},
   "outputs": [
    {
     "data": {
      "image/png": "[encoded data removed]",
      "text/plain": [
       "<Figure size 640x480 with 1 Axes>"
      ]
     },
     "metadata": {},
     "output_type": "display_data"
    }
   ],
   "source": [
    "# Check it on the histogram\n",
    "plt.hist(df1['Z_income'])\n",
    "plt.show()"
   ]
  },
  {
   "cell_type": "code",
   "execution_count": 112,
   "id": "262c9563",
   "metadata": {},
   "outputs": [],
   "source": [
    "# Make a new df for median imputation\n",
    "df_income = df1[['Income', 'Z_income']]"
   ]
  },
  {
   "cell_type": "code",
   "execution_count": 113,
   "id": "79567afa",
   "metadata": {},
   "outputs": [],
   "source": [
    "# Make the outliers equal to Nan\n",
    "df_income[(df_income.Z_income > 3)] = np.nan"
   ]
  },
  {
   "cell_type": "code",
   "execution_count": 114,
   "id": "f1948a7d",
   "metadata": {},
   "outputs": [
    {
     "data": {
      "text/plain": [
       "count     10000.000000\n",
       "mean      39806.926771\n",
       "std       28199.916702\n",
       "min         348.670000\n",
       "25%       19224.717500\n",
       "50%       33170.605000\n",
       "75%       53246.170000\n",
       "max      258900.700000\n",
       "Name: Income, dtype: float64"
      ]
     },
     "execution_count": 114,
     "metadata": {},
     "output_type": "execute_result"
    }
   ],
   "source": [
    "# Check stats before replacement\n",
    "df['Income'].describe()"
   ]
  },
  {
   "cell_type": "code",
   "execution_count": 115,
   "id": "c7138688",
   "metadata": {},
   "outputs": [],
   "source": [
    "# Replace with mean values\n",
    "df_income['Income'].fillna(df_income['Income'].mean(), inplace=True)"
   ]
  },
  {
   "cell_type": "code",
   "execution_count": 116,
   "id": "5d244362",
   "metadata": {},
   "outputs": [],
   "source": [
    "# Replace with no outliers\n",
    "df1['Income'] = df_income['Income']"
   ]
  },
  {
   "cell_type": "code",
   "execution_count": 117,
   "id": "f36d66d6",
   "metadata": {},
   "outputs": [
    {
     "data": {
      "text/plain": [
       "count     10000.000000\n",
       "mean      38224.438163\n",
       "std       24843.456231\n",
       "min         348.670000\n",
       "25%       19224.717500\n",
       "50%       33170.605000\n",
       "75%       51669.637500\n",
       "max      124025.100000\n",
       "Name: Income, dtype: float64"
      ]
     },
     "execution_count": 117,
     "metadata": {},
     "output_type": "execute_result"
    }
   ],
   "source": [
    "# Check after replacement\n",
    "df1['Income'].describe()"
   ]
  },
  {
   "cell_type": "code",
   "execution_count": 118,
   "id": "2c1c3435",
   "metadata": {},
   "outputs": [
    {
     "data": {
      "text/html": [
       "<div>\n",
       "<style scoped>\n",
       "    .dataframe tbody tr th:only-of-type {\n",
       "        vertical-align: middle;\n",
       "    }\n",
       "\n",
       "    .dataframe tbody tr th {\n",
       "        vertical-align: top;\n",
       "    }\n",
       "\n",
       "    .dataframe thead th {\n",
       "        text-align: right;\n",
       "    }\n",
       "</style>\n",
       "<table border=\"1\" class=\"dataframe\">\n",
       "  <thead>\n",
       "    <tr style=\"text-align: right;\">\n",
       "      <th></th>\n",
       "      <th>Outage_sec_perweek</th>\n",
       "      <th>Z_outage_sec_perweek</th>\n",
       "    </tr>\n",
       "  </thead>\n",
       "  <tbody>\n",
       "    <tr>\n",
       "      <th>0</th>\n",
       "      <td>7.978323</td>\n",
       "      <td>-0.679978</td>\n",
       "    </tr>\n",
       "    <tr>\n",
       "      <th>1</th>\n",
       "      <td>11.699080</td>\n",
       "      <td>0.570331</td>\n",
       "    </tr>\n",
       "    <tr>\n",
       "      <th>2</th>\n",
       "      <td>10.752800</td>\n",
       "      <td>0.252347</td>\n",
       "    </tr>\n",
       "    <tr>\n",
       "      <th>3</th>\n",
       "      <td>14.913540</td>\n",
       "      <td>1.650506</td>\n",
       "    </tr>\n",
       "    <tr>\n",
       "      <th>4</th>\n",
       "      <td>8.147417</td>\n",
       "      <td>-0.623156</td>\n",
       "    </tr>\n",
       "  </tbody>\n",
       "</table>\n",
       "</div>"
      ],
      "text/plain": [
       "   Outage_sec_perweek  Z_outage_sec_perweek\n",
       "0            7.978323             -0.679978\n",
       "1           11.699080              0.570331\n",
       "2           10.752800              0.252347\n",
       "3           14.913540              1.650506\n",
       "4            8.147417             -0.623156"
      ]
     },
     "execution_count": 118,
     "metadata": {},
     "output_type": "execute_result"
    }
   ],
   "source": [
    "# Checking for ouliers using Z-scores--stats\n",
    "df1['Z_outage_sec_perweek'] = st.zscore(df1['Outage_sec_perweek'])\n",
    "df1[['Outage_sec_perweek', 'Z_outage_sec_perweek']].head()"
   ]
  },
  {
   "cell_type": "code",
   "execution_count": 119,
   "id": "e1e645ac",
   "metadata": {},
   "outputs": [
    {
     "data": {
      "image/png": "[encoded data removed]",
      "text/plain": [
       "<Figure size 640x480 with 1 Axes>"
      ]
     },
     "metadata": {},
     "output_type": "display_data"
    }
   ],
   "source": [
    "# Check it on the histogram\n",
    "plt.hist(df1['Z_outage_sec_perweek'])\n",
    "plt.show()"
   ]
  },
  {
   "cell_type": "code",
   "execution_count": 120,
   "id": "0d2d5070",
   "metadata": {},
   "outputs": [],
   "source": [
    "# Make a new df for median imputation\n",
    "df_outage = df1[['Outage_sec_perweek', 'Z_outage_sec_perweek']]"
   ]
  },
  {
   "cell_type": "code",
   "execution_count": 121,
   "id": "7f4e7cd3",
   "metadata": {},
   "outputs": [],
   "source": [
    "# Make the outliers equal to Nan\n",
    "df_outage[(df_outage.Z_outage_sec_perweek > 3)] = np.nan"
   ]
  },
  {
   "cell_type": "code",
   "execution_count": 122,
   "id": "94dfd5f4",
   "metadata": {},
   "outputs": [],
   "source": [
    "# Make the outliers equal to Nan\n",
    "df_outage[(df_outage.Z_outage_sec_perweek <- 3)] = np.nan"
   ]
  },
  {
   "cell_type": "code",
   "execution_count": 123,
   "id": "85af8a06",
   "metadata": {},
   "outputs": [
    {
     "data": {
      "text/plain": [
       "count    10000.000000\n",
       "mean        10.001848\n",
       "std          2.976019\n",
       "min          0.099747\n",
       "25%          8.018214\n",
       "50%         10.018560\n",
       "75%         11.969485\n",
       "max         21.207230\n",
       "Name: Outage_sec_perweek, dtype: float64"
      ]
     },
     "execution_count": 123,
     "metadata": {},
     "output_type": "execute_result"
    }
   ],
   "source": [
    "# Check original stats before replacement\n",
    "df['Outage_sec_perweek'].describe()"
   ]
  },
  {
   "cell_type": "code",
   "execution_count": 124,
   "id": "84e610fa",
   "metadata": {},
   "outputs": [],
   "source": [
    "# Replace with mean values\n",
    "df_outage['Outage_sec_perweek'].fillna(df_outage['Outage_sec_perweek'].mean(), inplace=True)"
   ]
  },
  {
   "cell_type": "code",
   "execution_count": 125,
   "id": "ce857dea",
   "metadata": {},
   "outputs": [],
   "source": [
    "# Replace with no outliers\n",
    "df1['Outage_sec_perweek'] = df_outage['Outage_sec_perweek']"
   ]
  },
  {
   "cell_type": "code",
   "execution_count": 126,
   "id": "615e04b4",
   "metadata": {},
   "outputs": [
    {
     "data": {
      "text/plain": [
       "count    10000.000000\n",
       "mean         9.999789\n",
       "std          2.933316\n",
       "min          1.144796\n",
       "25%          8.033911\n",
       "50%         10.002880\n",
       "75%         11.955480\n",
       "max         18.851730\n",
       "Name: Outage_sec_perweek, dtype: float64"
      ]
     },
     "execution_count": 126,
     "metadata": {},
     "output_type": "execute_result"
    }
   ],
   "source": [
    "# Check after replacement\n",
    "df1['Outage_sec_perweek'].describe()"
   ]
  },
  {
   "cell_type": "code",
   "execution_count": 127,
   "id": "796366dc",
   "metadata": {},
   "outputs": [
    {
     "data": {
      "text/html": [
       "<div>\n",
       "<style scoped>\n",
       "    .dataframe tbody tr th:only-of-type {\n",
       "        vertical-align: middle;\n",
       "    }\n",
       "\n",
       "    .dataframe tbody tr th {\n",
       "        vertical-align: top;\n",
       "    }\n",
       "\n",
       "    .dataframe thead th {\n",
       "        text-align: right;\n",
       "    }\n",
       "</style>\n",
       "<table border=\"1\" class=\"dataframe\">\n",
       "  <thead>\n",
       "    <tr style=\"text-align: right;\">\n",
       "      <th></th>\n",
       "      <th>Email</th>\n",
       "      <th>Z_email</th>\n",
       "    </tr>\n",
       "  </thead>\n",
       "  <tbody>\n",
       "    <tr>\n",
       "      <th>0</th>\n",
       "      <td>10</td>\n",
       "      <td>-0.666282</td>\n",
       "    </tr>\n",
       "    <tr>\n",
       "      <th>1</th>\n",
       "      <td>12</td>\n",
       "      <td>-0.005288</td>\n",
       "    </tr>\n",
       "    <tr>\n",
       "      <th>2</th>\n",
       "      <td>9</td>\n",
       "      <td>-0.996779</td>\n",
       "    </tr>\n",
       "    <tr>\n",
       "      <th>3</th>\n",
       "      <td>15</td>\n",
       "      <td>0.986203</td>\n",
       "    </tr>\n",
       "    <tr>\n",
       "      <th>4</th>\n",
       "      <td>16</td>\n",
       "      <td>1.316700</td>\n",
       "    </tr>\n",
       "  </tbody>\n",
       "</table>\n",
       "</div>"
      ],
      "text/plain": [
       "   Email   Z_email\n",
       "0     10 -0.666282\n",
       "1     12 -0.005288\n",
       "2      9 -0.996779\n",
       "3     15  0.986203\n",
       "4     16  1.316700"
      ]
     },
     "execution_count": 127,
     "metadata": {},
     "output_type": "execute_result"
    }
   ],
   "source": [
    "# Checking for ouliers using Z-scores--stats\n",
    "df1['Z_email'] = st.zscore(df1['Email'])\n",
    "df1[['Email', 'Z_email']].head()"
   ]
  },
  {
   "cell_type": "code",
   "execution_count": 128,
   "id": "525c7540",
   "metadata": {},
   "outputs": [
    {
     "data": {
      "image/png": "[encoded data removed]",
      "text/plain": [
       "<Figure size 640x480 with 1 Axes>"
      ]
     },
     "metadata": {},
     "output_type": "display_data"
    }
   ],
   "source": [
    "# Check it on the histogram\n",
    "plt.hist(df1['Z_email'])\n",
    "plt.show()"
   ]
  },
  {
   "cell_type": "code",
   "execution_count": 129,
   "id": "b79b4a3e",
   "metadata": {},
   "outputs": [],
   "source": [
    "#Make a new df for median imputation\n",
    "df_email = df1[['Email', 'Z_email']]"
   ]
  },
  {
   "cell_type": "code",
   "execution_count": 130,
   "id": "9b670096",
   "metadata": {},
   "outputs": [],
   "source": [
    "# Make the outliers equal to Nan\n",
    "df_email[(df_email.Z_email > 3)] = np.nan"
   ]
  },
  {
   "cell_type": "code",
   "execution_count": 131,
   "id": "41be19ac",
   "metadata": {},
   "outputs": [],
   "source": [
    "# Make the outliers equal to Nan\n",
    "df_email[(df_email.Z_email <- 3)] = np.nan"
   ]
  },
  {
   "cell_type": "code",
   "execution_count": 132,
   "id": "005c92d8",
   "metadata": {},
   "outputs": [],
   "source": [
    "# Replace with median values\n",
    "df_email['Email'].fillna(df_email['Email'].median(), inplace=True)"
   ]
  },
  {
   "cell_type": "code",
   "execution_count": 133,
   "id": "c9a49a5e",
   "metadata": {},
   "outputs": [],
   "source": [
    "# Replace with no outliers\n",
    "df1['Email'] = df_email['Email']"
   ]
  },
  {
   "cell_type": "code",
   "execution_count": 134,
   "id": "3bf33321",
   "metadata": {},
   "outputs": [
    {
     "data": {
      "text/plain": [
       "count    10000.000000\n",
       "mean        12.016000\n",
       "std          3.025898\n",
       "min          1.000000\n",
       "25%         10.000000\n",
       "50%         12.000000\n",
       "75%         14.000000\n",
       "max         23.000000\n",
       "Name: Email, dtype: float64"
      ]
     },
     "execution_count": 134,
     "metadata": {},
     "output_type": "execute_result"
    }
   ],
   "source": [
    "# Check original stats\n",
    "df['Email'].describe()"
   ]
  },
  {
   "cell_type": "code",
   "execution_count": 135,
   "id": "533170a3",
   "metadata": {},
   "outputs": [
    {
     "data": {
      "text/plain": [
       "count    10000.000000\n",
       "mean        12.022200\n",
       "std          3.004565\n",
       "min          3.000000\n",
       "25%         10.000000\n",
       "50%         12.000000\n",
       "75%         14.000000\n",
       "max         21.000000\n",
       "Name: Email, dtype: float64"
      ]
     },
     "execution_count": 135,
     "metadata": {},
     "output_type": "execute_result"
    }
   ],
   "source": [
    "# Check stats after mean imputation\n",
    "df1['Email'].describe()"
   ]
  },
  {
   "cell_type": "code",
   "execution_count": 136,
   "id": "01021747",
   "metadata": {},
   "outputs": [
    {
     "data": {
      "text/html": [
       "<div>\n",
       "<style scoped>\n",
       "    .dataframe tbody tr th:only-of-type {\n",
       "        vertical-align: middle;\n",
       "    }\n",
       "\n",
       "    .dataframe tbody tr th {\n",
       "        vertical-align: top;\n",
       "    }\n",
       "\n",
       "    .dataframe thead th {\n",
       "        text-align: right;\n",
       "    }\n",
       "</style>\n",
       "<table border=\"1\" class=\"dataframe\">\n",
       "  <thead>\n",
       "    <tr style=\"text-align: right;\">\n",
       "      <th></th>\n",
       "      <th>Contacts</th>\n",
       "      <th>Z_contacts</th>\n",
       "    </tr>\n",
       "  </thead>\n",
       "  <tbody>\n",
       "    <tr>\n",
       "      <th>0</th>\n",
       "      <td>0</td>\n",
       "      <td>-1.005852</td>\n",
       "    </tr>\n",
       "    <tr>\n",
       "      <th>1</th>\n",
       "      <td>0</td>\n",
       "      <td>-1.005852</td>\n",
       "    </tr>\n",
       "    <tr>\n",
       "      <th>2</th>\n",
       "      <td>0</td>\n",
       "      <td>-1.005852</td>\n",
       "    </tr>\n",
       "    <tr>\n",
       "      <th>3</th>\n",
       "      <td>2</td>\n",
       "      <td>1.017588</td>\n",
       "    </tr>\n",
       "    <tr>\n",
       "      <th>4</th>\n",
       "      <td>2</td>\n",
       "      <td>1.017588</td>\n",
       "    </tr>\n",
       "  </tbody>\n",
       "</table>\n",
       "</div>"
      ],
      "text/plain": [
       "   Contacts  Z_contacts\n",
       "0         0   -1.005852\n",
       "1         0   -1.005852\n",
       "2         0   -1.005852\n",
       "3         2    1.017588\n",
       "4         2    1.017588"
      ]
     },
     "execution_count": 136,
     "metadata": {},
     "output_type": "execute_result"
    }
   ],
   "source": [
    "# Checking for ouliers using Z-scores--stats\n",
    "df1['Z_contacts'] = st.zscore(df1['Contacts'])\n",
    "df1[['Contacts', 'Z_contacts']].head()"
   ]
  },
  {
   "cell_type": "code",
   "execution_count": 137,
   "id": "5a126754",
   "metadata": {},
   "outputs": [
    {
     "data": {
      "image/png": "[encoded data removed]",
      "text/plain": [
       "<Figure size 640x480 with 1 Axes>"
      ]
     },
     "metadata": {},
     "output_type": "display_data"
    }
   ],
   "source": [
    "# Check it on the histogram\n",
    "plt.hist(df1['Z_contacts'])\n",
    "plt.show()"
   ]
  },
  {
   "cell_type": "code",
   "execution_count": 138,
   "id": "12dafd79",
   "metadata": {},
   "outputs": [],
   "source": [
    "# Make a new df for median imputation\n",
    "df_contacts = df1[['Contacts', 'Z_contacts']]"
   ]
  },
  {
   "cell_type": "code",
   "execution_count": 139,
   "id": "bf9262a4",
   "metadata": {},
   "outputs": [],
   "source": [
    "# Make the outliers equal to Nan\n",
    "df_contacts[(df_contacts.Z_contacts > 3)] = np.nan"
   ]
  },
  {
   "cell_type": "code",
   "execution_count": 140,
   "id": "43f064c3",
   "metadata": {},
   "outputs": [
    {
     "data": {
      "text/plain": [
       "count    10000.000000\n",
       "mean         0.994200\n",
       "std          0.988466\n",
       "min          0.000000\n",
       "25%          0.000000\n",
       "50%          1.000000\n",
       "75%          2.000000\n",
       "max          7.000000\n",
       "Name: Contacts, dtype: float64"
      ]
     },
     "execution_count": 140,
     "metadata": {},
     "output_type": "execute_result"
    }
   ],
   "source": [
    "# Check original stats before replacement\n",
    "df['Contacts'].describe()"
   ]
  },
  {
   "cell_type": "code",
   "execution_count": 141,
   "id": "e162bf5c",
   "metadata": {},
   "outputs": [],
   "source": [
    "# Replace with median values--165\n",
    "df_contacts['Contacts'].fillna(df_contacts['Contacts'].median(), inplace=True)"
   ]
  },
  {
   "cell_type": "code",
   "execution_count": 142,
   "id": "e8823788",
   "metadata": {},
   "outputs": [],
   "source": [
    "# Replace with no outliers\n",
    "df1['Contacts'] = df_contacts['Contacts']"
   ]
  },
  {
   "cell_type": "code",
   "execution_count": 143,
   "id": "16930a34",
   "metadata": {},
   "outputs": [
    {
     "data": {
      "text/plain": [
       "count    10000.000000\n",
       "mean         0.940800\n",
       "std          0.891614\n",
       "min          0.000000\n",
       "25%          0.000000\n",
       "50%          1.000000\n",
       "75%          1.000000\n",
       "max          3.000000\n",
       "Name: Contacts, dtype: float64"
      ]
     },
     "execution_count": 143,
     "metadata": {},
     "output_type": "execute_result"
    }
   ],
   "source": [
    "# Check after replacement\n",
    "df1['Contacts'].describe()"
   ]
  },
  {
   "cell_type": "code",
   "execution_count": 144,
   "id": "d0179fff",
   "metadata": {},
   "outputs": [
    {
     "data": {
      "text/html": [
       "<div>\n",
       "<style scoped>\n",
       "    .dataframe tbody tr th:only-of-type {\n",
       "        vertical-align: middle;\n",
       "    }\n",
       "\n",
       "    .dataframe tbody tr th {\n",
       "        vertical-align: top;\n",
       "    }\n",
       "\n",
       "    .dataframe thead th {\n",
       "        text-align: right;\n",
       "    }\n",
       "</style>\n",
       "<table border=\"1\" class=\"dataframe\">\n",
       "  <thead>\n",
       "    <tr style=\"text-align: right;\">\n",
       "      <th></th>\n",
       "      <th>Yearly_equip_failure</th>\n",
       "      <th>Z_yearly_equip_fail</th>\n",
       "    </tr>\n",
       "  </thead>\n",
       "  <tbody>\n",
       "    <tr>\n",
       "      <th>0</th>\n",
       "      <td>1</td>\n",
       "      <td>0.946658</td>\n",
       "    </tr>\n",
       "    <tr>\n",
       "      <th>1</th>\n",
       "      <td>1</td>\n",
       "      <td>0.946658</td>\n",
       "    </tr>\n",
       "    <tr>\n",
       "      <th>2</th>\n",
       "      <td>1</td>\n",
       "      <td>0.946658</td>\n",
       "    </tr>\n",
       "    <tr>\n",
       "      <th>3</th>\n",
       "      <td>0</td>\n",
       "      <td>-0.625864</td>\n",
       "    </tr>\n",
       "    <tr>\n",
       "      <th>4</th>\n",
       "      <td>1</td>\n",
       "      <td>0.946658</td>\n",
       "    </tr>\n",
       "  </tbody>\n",
       "</table>\n",
       "</div>"
      ],
      "text/plain": [
       "   Yearly_equip_failure  Z_yearly_equip_fail\n",
       "0                     1             0.946658\n",
       "1                     1             0.946658\n",
       "2                     1             0.946658\n",
       "3                     0            -0.625864\n",
       "4                     1             0.946658"
      ]
     },
     "execution_count": 144,
     "metadata": {},
     "output_type": "execute_result"
    }
   ],
   "source": [
    "# Checking for ouliers using Z-scores--stats\n",
    "df1['Z_yearly_equip_fail'] = st.zscore(df1['Yearly_equip_failure'])\n",
    "df1[['Yearly_equip_failure', 'Z_yearly_equip_fail']].head()"
   ]
  },
  {
   "cell_type": "code",
   "execution_count": 145,
   "id": "17f65674",
   "metadata": {},
   "outputs": [
    {
     "data": {
      "image/png": "[encoded data removed]",
      "text/plain": [
       "<Figure size 640x480 with 1 Axes>"
      ]
     },
     "metadata": {},
     "output_type": "display_data"
    }
   ],
   "source": [
    "# Check it on the histogram\n",
    "plt.hist(df1['Z_yearly_equip_fail'])\n",
    "plt.show()"
   ]
  },
  {
   "cell_type": "code",
   "execution_count": 146,
   "id": "79e1d75a",
   "metadata": {},
   "outputs": [],
   "source": [
    "# Make a new df for median imputation\n",
    "df_yearly = df1[['Yearly_equip_failure', 'Z_yearly_equip_fail']]"
   ]
  },
  {
   "cell_type": "code",
   "execution_count": 147,
   "id": "ee345257",
   "metadata": {},
   "outputs": [],
   "source": [
    "# Make the outliers equal to Nan\n",
    "df_yearly[(df_yearly.Z_yearly_equip_fail > 3)] = np.nan"
   ]
  },
  {
   "cell_type": "code",
   "execution_count": 148,
   "id": "6efac076",
   "metadata": {},
   "outputs": [
    {
     "data": {
      "text/plain": [
       "count    10000.000000\n",
       "mean         0.398000\n",
       "std          0.635953\n",
       "min          0.000000\n",
       "25%          0.000000\n",
       "50%          0.000000\n",
       "75%          1.000000\n",
       "max          6.000000\n",
       "Name: Yearly_equip_failure, dtype: float64"
      ]
     },
     "execution_count": 148,
     "metadata": {},
     "output_type": "execute_result"
    }
   ],
   "source": [
    "# Check original stats before replacement\n",
    "df['Yearly_equip_failure'].describe()"
   ]
  },
  {
   "cell_type": "code",
   "execution_count": 149,
   "id": "d9163ea6",
   "metadata": {},
   "outputs": [],
   "source": [
    "# Replace with median values\n",
    "df_yearly['Yearly_equip_failure'].fillna(df_yearly['Yearly_equip_failure'].median(), inplace=True)"
   ]
  },
  {
   "cell_type": "code",
   "execution_count": 150,
   "id": "bea89d82",
   "metadata": {},
   "outputs": [],
   "source": [
    "# Replace with no outliers\n",
    "df1['Yearly_equip_failure'] = df_yearly['Yearly_equip_failure']"
   ]
  },
  {
   "cell_type": "code",
   "execution_count": 151,
   "id": "0c76e7df",
   "metadata": {},
   "outputs": [
    {
     "data": {
      "text/plain": [
       "count    10000.000000\n",
       "mean         0.368800\n",
       "std          0.578464\n",
       "min          0.000000\n",
       "25%          0.000000\n",
       "50%          0.000000\n",
       "75%          1.000000\n",
       "max          2.000000\n",
       "Name: Yearly_equip_failure, dtype: float64"
      ]
     },
     "execution_count": 151,
     "metadata": {},
     "output_type": "execute_result"
    }
   ],
   "source": [
    "# Check after replacement\n",
    "df1['Yearly_equip_failure'].describe()"
   ]
  },
  {
   "cell_type": "code",
   "execution_count": 152,
   "id": "6be66083",
   "metadata": {},
   "outputs": [
    {
     "data": {
      "text/html": [
       "<div>\n",
       "<style scoped>\n",
       "    .dataframe tbody tr th:only-of-type {\n",
       "        vertical-align: middle;\n",
       "    }\n",
       "\n",
       "    .dataframe tbody tr th {\n",
       "        vertical-align: top;\n",
       "    }\n",
       "\n",
       "    .dataframe thead th {\n",
       "        text-align: right;\n",
       "    }\n",
       "</style>\n",
       "<table border=\"1\" class=\"dataframe\">\n",
       "  <thead>\n",
       "    <tr style=\"text-align: right;\">\n",
       "      <th></th>\n",
       "      <th>Tenure</th>\n",
       "      <th>Z_tenure</th>\n",
       "    </tr>\n",
       "  </thead>\n",
       "  <tbody>\n",
       "    <tr>\n",
       "      <th>0</th>\n",
       "      <td>6.795513</td>\n",
       "      <td>-1.048746</td>\n",
       "    </tr>\n",
       "    <tr>\n",
       "      <th>1</th>\n",
       "      <td>1.156681</td>\n",
       "      <td>-1.262001</td>\n",
       "    </tr>\n",
       "    <tr>\n",
       "      <th>2</th>\n",
       "      <td>15.754144</td>\n",
       "      <td>-0.709940</td>\n",
       "    </tr>\n",
       "    <tr>\n",
       "      <th>3</th>\n",
       "      <td>17.087227</td>\n",
       "      <td>-0.659524</td>\n",
       "    </tr>\n",
       "    <tr>\n",
       "      <th>4</th>\n",
       "      <td>1.670972</td>\n",
       "      <td>-1.242551</td>\n",
       "    </tr>\n",
       "  </tbody>\n",
       "</table>\n",
       "</div>"
      ],
      "text/plain": [
       "      Tenure  Z_tenure\n",
       "0   6.795513 -1.048746\n",
       "1   1.156681 -1.262001\n",
       "2  15.754144 -0.709940\n",
       "3  17.087227 -0.659524\n",
       "4   1.670972 -1.242551"
      ]
     },
     "execution_count": 152,
     "metadata": {},
     "output_type": "execute_result"
    }
   ],
   "source": [
    "# Checking for ouliers using Z-scores--stats\n",
    "df1['Z_tenure'] = st.zscore(df1['Tenure'])\n",
    "df1[['Tenure', 'Z_tenure']].head()"
   ]
  },
  {
   "cell_type": "code",
   "execution_count": 153,
   "id": "7a5bcf66",
   "metadata": {},
   "outputs": [
    {
     "data": {
      "image/png": "[encoded data removed]",
      "text/plain": [
       "<Figure size 640x480 with 1 Axes>"
      ]
     },
     "metadata": {},
     "output_type": "display_data"
    }
   ],
   "source": [
    "# Check it on the histogram\n",
    "plt.hist(df1['Z_tenure'])\n",
    "plt.show()"
   ]
  },
  {
   "cell_type": "code",
   "execution_count": 154,
   "id": "e73a92de",
   "metadata": {},
   "outputs": [
    {
     "data": {
      "text/html": [
       "<div>\n",
       "<style scoped>\n",
       "    .dataframe tbody tr th:only-of-type {\n",
       "        vertical-align: middle;\n",
       "    }\n",
       "\n",
       "    .dataframe tbody tr th {\n",
       "        vertical-align: top;\n",
       "    }\n",
       "\n",
       "    .dataframe thead th {\n",
       "        text-align: right;\n",
       "    }\n",
       "</style>\n",
       "<table border=\"1\" class=\"dataframe\">\n",
       "  <thead>\n",
       "    <tr style=\"text-align: right;\">\n",
       "      <th></th>\n",
       "      <th>MonthlyCharge</th>\n",
       "      <th>Z_monthly_charge</th>\n",
       "    </tr>\n",
       "  </thead>\n",
       "  <tbody>\n",
       "    <tr>\n",
       "      <th>0</th>\n",
       "      <td>172.455519</td>\n",
       "      <td>-0.003943</td>\n",
       "    </tr>\n",
       "    <tr>\n",
       "      <th>1</th>\n",
       "      <td>242.632554</td>\n",
       "      <td>1.630326</td>\n",
       "    </tr>\n",
       "    <tr>\n",
       "      <th>2</th>\n",
       "      <td>159.947583</td>\n",
       "      <td>-0.295225</td>\n",
       "    </tr>\n",
       "    <tr>\n",
       "      <th>3</th>\n",
       "      <td>119.956840</td>\n",
       "      <td>-1.226521</td>\n",
       "    </tr>\n",
       "    <tr>\n",
       "      <th>4</th>\n",
       "      <td>149.948316</td>\n",
       "      <td>-0.528086</td>\n",
       "    </tr>\n",
       "  </tbody>\n",
       "</table>\n",
       "</div>"
      ],
      "text/plain": [
       "   MonthlyCharge  Z_monthly_charge\n",
       "0     172.455519         -0.003943\n",
       "1     242.632554          1.630326\n",
       "2     159.947583         -0.295225\n",
       "3     119.956840         -1.226521\n",
       "4     149.948316         -0.528086"
      ]
     },
     "execution_count": 154,
     "metadata": {},
     "output_type": "execute_result"
    }
   ],
   "source": [
    "# Checking for ouliers using Z-scores--stats\n",
    "df1['Z_monthly_charge'] = st.zscore(df1['MonthlyCharge'])\n",
    "df1[['MonthlyCharge', 'Z_monthly_charge']].head()"
   ]
  },
  {
   "cell_type": "code",
   "execution_count": 155,
   "id": "162dd369",
   "metadata": {},
   "outputs": [
    {
     "data": {
      "image/png": "[encoded data removed]",
      "text/plain": [
       "<Figure size 640x480 with 1 Axes>"
      ]
     },
     "metadata": {},
     "output_type": "display_data"
    }
   ],
   "source": [
    "# Check it on the histogram\n",
    "plt.hist(df1['Z_monthly_charge'])\n",
    "plt.show()"
   ]
  },
  {
   "cell_type": "code",
   "execution_count": 156,
   "id": "f34a5362",
   "metadata": {},
   "outputs": [
    {
     "data": {
      "text/html": [
       "<div>\n",
       "<style scoped>\n",
       "    .dataframe tbody tr th:only-of-type {\n",
       "        vertical-align: middle;\n",
       "    }\n",
       "\n",
       "    .dataframe tbody tr th {\n",
       "        vertical-align: top;\n",
       "    }\n",
       "\n",
       "    .dataframe thead th {\n",
       "        text-align: right;\n",
       "    }\n",
       "</style>\n",
       "<table border=\"1\" class=\"dataframe\">\n",
       "  <thead>\n",
       "    <tr style=\"text-align: right;\">\n",
       "      <th></th>\n",
       "      <th>Bandwidth_GB_Year</th>\n",
       "      <th>Z_bandwidth_gb_year</th>\n",
       "    </tr>\n",
       "  </thead>\n",
       "  <tbody>\n",
       "    <tr>\n",
       "      <th>0</th>\n",
       "      <td>904.536110</td>\n",
       "      <td>-1.138487</td>\n",
       "    </tr>\n",
       "    <tr>\n",
       "      <th>1</th>\n",
       "      <td>800.982766</td>\n",
       "      <td>-1.185876</td>\n",
       "    </tr>\n",
       "    <tr>\n",
       "      <th>2</th>\n",
       "      <td>2054.706961</td>\n",
       "      <td>-0.612138</td>\n",
       "    </tr>\n",
       "    <tr>\n",
       "      <th>3</th>\n",
       "      <td>2164.579412</td>\n",
       "      <td>-0.561857</td>\n",
       "    </tr>\n",
       "    <tr>\n",
       "      <th>4</th>\n",
       "      <td>271.493436</td>\n",
       "      <td>-1.428184</td>\n",
       "    </tr>\n",
       "  </tbody>\n",
       "</table>\n",
       "</div>"
      ],
      "text/plain": [
       "   Bandwidth_GB_Year  Z_bandwidth_gb_year\n",
       "0         904.536110            -1.138487\n",
       "1         800.982766            -1.185876\n",
       "2        2054.706961            -0.612138\n",
       "3        2164.579412            -0.561857\n",
       "4         271.493436            -1.428184"
      ]
     },
     "execution_count": 156,
     "metadata": {},
     "output_type": "execute_result"
    }
   ],
   "source": [
    "# Checking for ouliers using Z-scores--stats\n",
    "df1['Z_bandwidth_gb_year'] = st.zscore(df1['Bandwidth_GB_Year'])\n",
    "df1[['Bandwidth_GB_Year', 'Z_bandwidth_gb_year']].head()"
   ]
  },
  {
   "cell_type": "code",
   "execution_count": 157,
   "id": "ec440472",
   "metadata": {},
   "outputs": [
    {
     "data": {
      "image/png": "[encoded data removed]",
      "text/plain": [
       "<Figure size 640x480 with 1 Axes>"
      ]
     },
     "metadata": {},
     "output_type": "display_data"
    }
   ],
   "source": [
    "# Check it on the histogram\n",
    "plt.hist(df1['Z_bandwidth_gb_year'])\n",
    "plt.show()"
   ]
  },
  {
   "cell_type": "code",
   "execution_count": 158,
   "id": "4509d143",
   "metadata": {},
   "outputs": [
    {
     "name": "stdout",
     "output_type": "stream",
     "text": [
      "<class 'pandas.core.frame.DataFrame'>\n",
      "RangeIndex: 10000 entries, 0 to 9999\n",
      "Data columns (total 41 columns):\n",
      " #   Column                Non-Null Count  Dtype  \n",
      "---  ------                --------------  -----  \n",
      " 0   Population            10000 non-null  float64\n",
      " 1   Area                  10000 non-null  object \n",
      " 2   Children              10000 non-null  float64\n",
      " 3   Age                   10000 non-null  int64  \n",
      " 4   Income                10000 non-null  float64\n",
      " 5   Marital               10000 non-null  object \n",
      " 6   Gender                10000 non-null  object \n",
      " 7   Churn                 10000 non-null  object \n",
      " 8   Outage_sec_perweek    10000 non-null  float64\n",
      " 9   Email                 10000 non-null  float64\n",
      " 10  Contacts              10000 non-null  float64\n",
      " 11  Yearly_equip_failure  10000 non-null  float64\n",
      " 12  Techie                10000 non-null  object \n",
      " 13  Contract              10000 non-null  object \n",
      " 14  Port_modem            10000 non-null  object \n",
      " 15  Tablet                10000 non-null  object \n",
      " 16  InternetService       10000 non-null  object \n",
      " 17  Phone                 10000 non-null  object \n",
      " 18  Multiple              10000 non-null  object \n",
      " 19  OnlineSecurity        10000 non-null  object \n",
      " 20  OnlineBackup          10000 non-null  object \n",
      " 21  DeviceProtection      10000 non-null  object \n",
      " 22  TechSupport           10000 non-null  object \n",
      " 23  StreamingTV           10000 non-null  object \n",
      " 24  StreamingMovies       10000 non-null  object \n",
      " 25  PaperlessBilling      10000 non-null  object \n",
      " 26  PaymentMethod         10000 non-null  object \n",
      " 27  Tenure                10000 non-null  float64\n",
      " 28  MonthlyCharge         10000 non-null  float64\n",
      " 29  Bandwidth_GB_Year     10000 non-null  float64\n",
      " 30  Z_population          10000 non-null  float64\n",
      " 31  Z_children            10000 non-null  float64\n",
      " 32  Z_age                 10000 non-null  float64\n",
      " 33  Z_income              10000 non-null  float64\n",
      " 34  Z_outage_sec_perweek  10000 non-null  float64\n",
      " 35  Z_email               10000 non-null  float64\n",
      " 36  Z_contacts            10000 non-null  float64\n",
      " 37  Z_yearly_equip_fail   10000 non-null  float64\n",
      " 38  Z_tenure              10000 non-null  float64\n",
      " 39  Z_monthly_charge      10000 non-null  float64\n",
      " 40  Z_bandwidth_gb_year   10000 non-null  float64\n",
      "dtypes: float64(21), int64(1), object(19)\n",
      "memory usage: 3.1+ MB\n",
      "None\n"
     ]
    }
   ],
   "source": [
    "# Check df info\n",
    "print(df1.info())"
   ]
  },
  {
   "cell_type": "code",
   "execution_count": 159,
   "id": "0d458712",
   "metadata": {},
   "outputs": [
    {
     "data": {
      "text/plain": [
       "(10000, 41)"
      ]
     },
     "execution_count": 159,
     "metadata": {},
     "output_type": "execute_result"
    }
   ],
   "source": [
    "# Check shape\n",
    "df1.shape"
   ]
  },
  {
   "cell_type": "code",
   "execution_count": 160,
   "id": "75b01411",
   "metadata": {},
   "outputs": [],
   "source": [
    "# Make new df without Z-score columns\n",
    "df2 = df1[['Population', 'Area', 'Children', 'Age', 'Income', 'Marital', \n",
    "           'Gender', 'Churn', 'Outage_sec_perweek', 'Email', 'Contacts', \n",
    "           'Yearly_equip_failure', 'Techie', 'Contract', 'Port_modem',\n",
    "           'Tablet', 'InternetService', 'Phone', 'Multiple', \n",
    "           'OnlineSecurity', 'OnlineBackup', 'DeviceProtection', \n",
    "           'TechSupport', 'StreamingTV', 'StreamingMovies', \n",
    "           'PaperlessBilling', 'PaymentMethod', 'Tenure', \n",
    "           'MonthlyCharge', 'Bandwidth_GB_Year']]"
   ]
  },
  {
   "cell_type": "code",
   "execution_count": 161,
   "id": "bd246f9e",
   "metadata": {},
   "outputs": [
    {
     "data": {
      "text/plain": [
       "(10000, 30)"
      ]
     },
     "execution_count": 161,
     "metadata": {},
     "output_type": "execute_result"
    }
   ],
   "source": [
    "# Check shape\n",
    "df2.shape"
   ]
  },
  {
   "cell_type": "code",
   "execution_count": 162,
   "id": "6c99ad0a",
   "metadata": {},
   "outputs": [],
   "source": [
    "# Ordinal encoding all variables with Yes,No\n",
    "df2['Churn'].replace(['No', 'Yes'], [0,1], inplace=True)\n",
    "df2['Techie'].replace(['No', 'Yes'], [0,1], inplace=True)\n",
    "df2['Port_modem'].replace(['No', 'Yes'], [0,1], inplace=True)\n",
    "df2['Tablet'].replace(['No', 'Yes'], [0,1], inplace=True)\n",
    "df2['Phone'].replace(['No', 'Yes'], [0,1], inplace=True)\n",
    "df2['Multiple'].replace(['No', 'Yes'], [0,1], inplace=True)\n",
    "df2['OnlineSecurity'].replace(['No', 'Yes'], [0,1], inplace=True)\n",
    "df2['OnlineBackup'].replace(['No', 'Yes'], [0,1], inplace=True)\n",
    "df2['DeviceProtection'].replace(['No', 'Yes'], [0,1], inplace=True)\n",
    "df2['TechSupport'].replace(['No', 'Yes'], [0,1], inplace=True)\n",
    "df2['StreamingTV'].replace(['No', 'Yes'], [0,1], inplace=True)\n",
    "df2['StreamingMovies'].replace(['No', 'Yes'], [0,1], inplace=True)\n",
    "df2['PaperlessBilling'].replace(['No', 'Yes'], [0,1], inplace=True)"
   ]
  },
  {
   "cell_type": "code",
   "execution_count": 163,
   "id": "87a3e5c8",
   "metadata": {},
   "outputs": [],
   "source": [
    "# get_dummies encoding with K-1\n",
    "x1 = ['Area', 'Marital', 'Gender', \n",
    "      'InternetService', 'PaymentMethod']\n",
    "df2 = pd.get_dummies(df2, prefix=x1, prefix_sep='_', dummy_na=False,\n",
    "                    columns=x1, drop_first=True)"
   ]
  },
  {
   "cell_type": "code",
   "execution_count": 164,
   "id": "2f927a6a",
   "metadata": {},
   "outputs": [
    {
     "data": {
      "text/plain": [
       "Month-to-month    5456\n",
       "Two Year          2442\n",
       "One year          2102\n",
       "Name: Contract, dtype: int64"
      ]
     },
     "execution_count": 164,
     "metadata": {},
     "output_type": "execute_result"
    }
   ],
   "source": [
    "df2['Contract'].value_counts()"
   ]
  },
  {
   "cell_type": "code",
   "execution_count": 165,
   "id": "0cbf5ac0",
   "metadata": {},
   "outputs": [],
   "source": [
    "c1 = ['Contract']\n",
    "df2 = pd.get_dummies(df2, prefix=c1, prefix_sep='_', dummy_na=False,\n",
    "                    columns=c1)"
   ]
  },
  {
   "cell_type": "code",
   "execution_count": 166,
   "id": "587dc0a5",
   "metadata": {},
   "outputs": [
    {
     "name": "stdout",
     "output_type": "stream",
     "text": [
      "<class 'pandas.core.frame.DataFrame'>\n",
      "RangeIndex: 10000 entries, 0 to 9999\n",
      "Data columns (total 40 columns):\n",
      " #   Column                                 Non-Null Count  Dtype  \n",
      "---  ------                                 --------------  -----  \n",
      " 0   Population                             10000 non-null  float64\n",
      " 1   Children                               10000 non-null  float64\n",
      " 2   Age                                    10000 non-null  int64  \n",
      " 3   Income                                 10000 non-null  float64\n",
      " 4   Churn                                  10000 non-null  int64  \n",
      " 5   Outage_sec_perweek                     10000 non-null  float64\n",
      " 6   Email                                  10000 non-null  float64\n",
      " 7   Contacts                               10000 non-null  float64\n",
      " 8   Yearly_equip_failure                   10000 non-null  float64\n",
      " 9   Techie                                 10000 non-null  int64  \n",
      " 10  Port_modem                             10000 non-null  int64  \n",
      " 11  Tablet                                 10000 non-null  int64  \n",
      " 12  Phone                                  10000 non-null  int64  \n",
      " 13  Multiple                               10000 non-null  int64  \n",
      " 14  OnlineSecurity                         10000 non-null  int64  \n",
      " 15  OnlineBackup                           10000 non-null  int64  \n",
      " 16  DeviceProtection                       10000 non-null  int64  \n",
      " 17  TechSupport                            10000 non-null  int64  \n",
      " 18  StreamingTV                            10000 non-null  int64  \n",
      " 19  StreamingMovies                        10000 non-null  int64  \n",
      " 20  PaperlessBilling                       10000 non-null  int64  \n",
      " 21  Tenure                                 10000 non-null  float64\n",
      " 22  MonthlyCharge                          10000 non-null  float64\n",
      " 23  Bandwidth_GB_Year                      10000 non-null  float64\n",
      " 24  Area_Suburban                          10000 non-null  uint8  \n",
      " 25  Area_Urban                             10000 non-null  uint8  \n",
      " 26  Marital_Married                        10000 non-null  uint8  \n",
      " 27  Marital_Never Married                  10000 non-null  uint8  \n",
      " 28  Marital_Separated                      10000 non-null  uint8  \n",
      " 29  Marital_Widowed                        10000 non-null  uint8  \n",
      " 30  Gender_Male                            10000 non-null  uint8  \n",
      " 31  Gender_Nonbinary                       10000 non-null  uint8  \n",
      " 32  InternetService_Fiber Optic            10000 non-null  uint8  \n",
      " 33  InternetService_None                   10000 non-null  uint8  \n",
      " 34  PaymentMethod_Credit Card (automatic)  10000 non-null  uint8  \n",
      " 35  PaymentMethod_Electronic Check         10000 non-null  uint8  \n",
      " 36  PaymentMethod_Mailed Check             10000 non-null  uint8  \n",
      " 37  Contract_Month-to-month                10000 non-null  uint8  \n",
      " 38  Contract_One year                      10000 non-null  uint8  \n",
      " 39  Contract_Two Year                      10000 non-null  uint8  \n",
      "dtypes: float64(10), int64(14), uint8(16)\n",
      "memory usage: 2.0 MB\n"
     ]
    }
   ],
   "source": [
    "df2.info()"
   ]
  },
  {
   "cell_type": "code",
   "execution_count": 167,
   "id": "101ca906",
   "metadata": {},
   "outputs": [
    {
     "name": "stdout",
     "output_type": "stream",
     "text": [
      "(10000, 40)\n"
     ]
    }
   ],
   "source": [
    "# Check shape of df2\n",
    "print(df2.shape)"
   ]
  },
  {
   "cell_type": "code",
   "execution_count": 168,
   "id": "f5c29c6d",
   "metadata": {},
   "outputs": [],
   "source": [
    "complete_df = df2"
   ]
  },
  {
   "cell_type": "code",
   "execution_count": 169,
   "id": "fcf07842",
   "metadata": {},
   "outputs": [],
   "source": [
    "# Extracting csv file of clean dataset\n",
    "complete_df.to_csv(r'C:\\Users\\eric7\\OneDrive\\Desktop\\WGU\\D209_Data_Mining_1\\\\Eric_Colwell_clean_dataset.csv')"
   ]
  },
  {
   "cell_type": "code",
   "execution_count": 170,
   "id": "eacf51b1",
   "metadata": {},
   "outputs": [],
   "source": [
    "X=df2.drop(['Churn'], axis=1)\n",
    "y=df2['Churn']"
   ]
  },
  {
   "cell_type": "code",
   "execution_count": 171,
   "id": "59701887",
   "metadata": {},
   "outputs": [
    {
     "name": "stdout",
     "output_type": "stream",
     "text": [
      "(10000, 39)\n",
      "(10000,)\n"
     ]
    }
   ],
   "source": [
    "print(X.shape)\n",
    "print(y.shape)"
   ]
  },
  {
   "cell_type": "code",
   "execution_count": 172,
   "id": "f2a58d3b",
   "metadata": {},
   "outputs": [],
   "source": [
    "feature_names=X.columns\n",
    "skbest=SelectKBest(k='all')\n",
    "X_new = skbest.fit_transform(X, y)"
   ]
  },
  {
   "cell_type": "code",
   "execution_count": 173,
   "id": "9b946115",
   "metadata": {},
   "outputs": [
    {
     "data": {
      "text/plain": [
       "(10000, 39)"
      ]
     },
     "execution_count": 173,
     "metadata": {},
     "output_type": "execute_result"
    }
   ],
   "source": [
    "X_new.shape"
   ]
  },
  {
   "cell_type": "code",
   "execution_count": 174,
   "id": "07d4dde0",
   "metadata": {},
   "outputs": [],
   "source": [
    "p_values=pd.DataFrame({'Feature': X.columns,\n",
    "                      'p_value':skbest.pvalues_}).sort_values('p_value')"
   ]
  },
  {
   "cell_type": "code",
   "execution_count": 175,
   "id": "a7f000ca",
   "metadata": {},
   "outputs": [
    {
     "data": {
      "text/html": [
       "<div>\n",
       "<style scoped>\n",
       "    .dataframe tbody tr th:only-of-type {\n",
       "        vertical-align: middle;\n",
       "    }\n",
       "\n",
       "    .dataframe tbody tr th {\n",
       "        vertical-align: top;\n",
       "    }\n",
       "\n",
       "    .dataframe thead th {\n",
       "        text-align: right;\n",
       "    }\n",
       "</style>\n",
       "<table border=\"1\" class=\"dataframe\">\n",
       "  <thead>\n",
       "    <tr style=\"text-align: right;\">\n",
       "      <th></th>\n",
       "      <th>Feature</th>\n",
       "      <th>p_value</th>\n",
       "    </tr>\n",
       "  </thead>\n",
       "  <tbody>\n",
       "    <tr>\n",
       "      <th>22</th>\n",
       "      <td>Bandwidth_GB_Year</td>\n",
       "      <td>0.000000e+00</td>\n",
       "    </tr>\n",
       "    <tr>\n",
       "      <th>21</th>\n",
       "      <td>MonthlyCharge</td>\n",
       "      <td>0.000000e+00</td>\n",
       "    </tr>\n",
       "    <tr>\n",
       "      <th>20</th>\n",
       "      <td>Tenure</td>\n",
       "      <td>0.000000e+00</td>\n",
       "    </tr>\n",
       "    <tr>\n",
       "      <th>18</th>\n",
       "      <td>StreamingMovies</td>\n",
       "      <td>5.393071e-192</td>\n",
       "    </tr>\n",
       "    <tr>\n",
       "      <th>36</th>\n",
       "      <td>Contract_Month-to-month</td>\n",
       "      <td>1.236727e-163</td>\n",
       "    </tr>\n",
       "    <tr>\n",
       "      <th>17</th>\n",
       "      <td>StreamingTV</td>\n",
       "      <td>2.414257e-120</td>\n",
       "    </tr>\n",
       "    <tr>\n",
       "      <th>38</th>\n",
       "      <td>Contract_Two Year</td>\n",
       "      <td>3.019204e-72</td>\n",
       "    </tr>\n",
       "    <tr>\n",
       "      <th>37</th>\n",
       "      <td>Contract_One year</td>\n",
       "      <td>2.359068e-44</td>\n",
       "    </tr>\n",
       "    <tr>\n",
       "      <th>12</th>\n",
       "      <td>Multiple</td>\n",
       "      <td>5.642495e-40</td>\n",
       "    </tr>\n",
       "    <tr>\n",
       "      <th>8</th>\n",
       "      <td>Techie</td>\n",
       "      <td>2.408802e-11</td>\n",
       "    </tr>\n",
       "    <tr>\n",
       "      <th>31</th>\n",
       "      <td>InternetService_Fiber Optic</td>\n",
       "      <td>4.873098e-09</td>\n",
       "    </tr>\n",
       "    <tr>\n",
       "      <th>15</th>\n",
       "      <td>DeviceProtection</td>\n",
       "      <td>1.578944e-08</td>\n",
       "    </tr>\n",
       "    <tr>\n",
       "      <th>14</th>\n",
       "      <td>OnlineBackup</td>\n",
       "      <td>4.339213e-07</td>\n",
       "    </tr>\n",
       "    <tr>\n",
       "      <th>32</th>\n",
       "      <td>InternetService_None</td>\n",
       "      <td>1.599912e-04</td>\n",
       "    </tr>\n",
       "    <tr>\n",
       "      <th>34</th>\n",
       "      <td>PaymentMethod_Electronic Check</td>\n",
       "      <td>2.774461e-03</td>\n",
       "    </tr>\n",
       "    <tr>\n",
       "      <th>29</th>\n",
       "      <td>Gender_Male</td>\n",
       "      <td>5.011402e-03</td>\n",
       "    </tr>\n",
       "    <tr>\n",
       "      <th>11</th>\n",
       "      <td>Phone</td>\n",
       "      <td>8.543973e-03</td>\n",
       "    </tr>\n",
       "  </tbody>\n",
       "</table>\n",
       "</div>"
      ],
      "text/plain": [
       "                           Feature        p_value\n",
       "22               Bandwidth_GB_Year   0.000000e+00\n",
       "21                   MonthlyCharge   0.000000e+00\n",
       "20                          Tenure   0.000000e+00\n",
       "18                 StreamingMovies  5.393071e-192\n",
       "36         Contract_Month-to-month  1.236727e-163\n",
       "17                     StreamingTV  2.414257e-120\n",
       "38               Contract_Two Year   3.019204e-72\n",
       "37               Contract_One year   2.359068e-44\n",
       "12                        Multiple   5.642495e-40\n",
       "8                           Techie   2.408802e-11\n",
       "31     InternetService_Fiber Optic   4.873098e-09\n",
       "15                DeviceProtection   1.578944e-08\n",
       "14                    OnlineBackup   4.339213e-07\n",
       "32            InternetService_None   1.599912e-04\n",
       "34  PaymentMethod_Electronic Check   2.774461e-03\n",
       "29                     Gender_Male   5.011402e-03\n",
       "11                           Phone   8.543973e-03"
      ]
     },
     "execution_count": 175,
     "metadata": {},
     "output_type": "execute_result"
    }
   ],
   "source": [
    "p_values[p_values['p_value'] < 0.05]"
   ]
  },
  {
   "cell_type": "code",
   "execution_count": 176,
   "id": "a79baba3",
   "metadata": {},
   "outputs": [
    {
     "data": {
      "text/plain": [
       "22                 Bandwidth_GB_Year\n",
       "21                     MonthlyCharge\n",
       "20                            Tenure\n",
       "18                   StreamingMovies\n",
       "36           Contract_Month-to-month\n",
       "17                       StreamingTV\n",
       "38                 Contract_Two Year\n",
       "37                 Contract_One year\n",
       "12                          Multiple\n",
       "8                             Techie\n",
       "31       InternetService_Fiber Optic\n",
       "15                  DeviceProtection\n",
       "14                      OnlineBackup\n",
       "32              InternetService_None\n",
       "34    PaymentMethod_Electronic Check\n",
       "29                       Gender_Male\n",
       "11                             Phone\n",
       "Name: Feature, dtype: object"
      ]
     },
     "execution_count": 176,
     "metadata": {},
     "output_type": "execute_result"
    }
   ],
   "source": [
    "features_to_keep=p_values['Feature'][p_values['p_value'] <.05]\n",
    "features_to_keep"
   ]
  },
  {
   "cell_type": "code",
   "execution_count": 177,
   "id": "1427e0c8",
   "metadata": {},
   "outputs": [],
   "source": [
    "# Make new df with p_values less than 0.05\n",
    "df3 = df2[['Churn', 'Bandwidth_GB_Year', 'MonthlyCharge', 'Tenure',\n",
    "          'StreamingMovies', 'Contract_Month-to-month',\n",
    "          'StreamingTV', 'Contract_Two Year', 'Contract_One year',\n",
    "          'Multiple', 'Techie', 'InternetService_Fiber Optic',\n",
    "          'DeviceProtection', 'OnlineBackup', 'InternetService_None',\n",
    "          'PaymentMethod_Electronic Check', 'Gender_Male',\n",
    "          'Phone']]"
   ]
  },
  {
   "cell_type": "code",
   "execution_count": 178,
   "id": "b609faa9",
   "metadata": {},
   "outputs": [
    {
     "data": {
      "text/plain": [
       "(10000, 18)"
      ]
     },
     "execution_count": 178,
     "metadata": {},
     "output_type": "execute_result"
    }
   ],
   "source": [
    "df3.shape"
   ]
  },
  {
   "cell_type": "code",
   "execution_count": 179,
   "id": "1a6e1486",
   "metadata": {},
   "outputs": [
    {
     "name": "stdout",
     "output_type": "stream",
     "text": [
      "                                   Churn  Bandwidth_GB_Year  MonthlyCharge  \\\n",
      "Churn                           1.000000          -0.441669       0.372938   \n",
      "Bandwidth_GB_Year              -0.441669           1.000000       0.060406   \n",
      "MonthlyCharge                   0.372938           0.060406       1.000000   \n",
      "Tenure                         -0.485475           0.991495      -0.003337   \n",
      "StreamingMovies                 0.289262           0.045600       0.608115   \n",
      "Contract_Month-to-month         0.267653          -0.014497      -0.012261   \n",
      "StreamingTV                     0.230151           0.054314       0.482312   \n",
      "Contract_Two Year              -0.178337           0.020566       0.002262   \n",
      "Contract_One year              -0.139043          -0.003969       0.012599   \n",
      "Multiple                        0.131771           0.006823       0.385979   \n",
      "Techie                          0.066722          -0.009455       0.007185   \n",
      "InternetService_Fiber Optic    -0.058472          -0.061956       0.286602   \n",
      "DeviceProtection                0.056489          -0.007856       0.162735   \n",
      "OnlineBackup                    0.050508           0.041740       0.259440   \n",
      "InternetService_None           -0.037742          -0.044727      -0.237883   \n",
      "PaymentMethod_Electronic Check  0.029914          -0.002818      -0.010610   \n",
      "Gender_Male                     0.028061           0.006724       0.008869   \n",
      "Phone                          -0.026297           0.001332      -0.018977   \n",
      "\n",
      "                                  Tenure  StreamingMovies  \\\n",
      "Churn                          -0.485475         0.289262   \n",
      "Bandwidth_GB_Year               0.991495         0.045600   \n",
      "MonthlyCharge                  -0.003337         0.608115   \n",
      "Tenure                          1.000000        -0.002574   \n",
      "StreamingMovies                -0.002574         1.000000   \n",
      "Contract_Month-to-month        -0.011806         0.007640   \n",
      "StreamingTV                     0.002440        -0.010516   \n",
      "Contract_Two Year               0.019495        -0.007049   \n",
      "Contract_One year              -0.006127        -0.001904   \n",
      "Multiple                       -0.010422         0.004691   \n",
      "Techie                         -0.010041        -0.004298   \n",
      "InternetService_Fiber Optic    -0.003820         0.002211   \n",
      "DeviceProtection               -0.028114         0.019450   \n",
      "OnlineBackup                    0.020802         0.001434   \n",
      "InternetService_None           -0.010098        -0.002972   \n",
      "PaymentMethod_Electronic Check -0.002885         0.001004   \n",
      "Gender_Male                    -0.010922         0.011291   \n",
      "Phone                           0.003256        -0.002588   \n",
      "\n",
      "                                Contract_Month-to-month  StreamingTV  \\\n",
      "Churn                                          0.267653     0.230151   \n",
      "Bandwidth_GB_Year                             -0.014497     0.054314   \n",
      "MonthlyCharge                                 -0.012261     0.482312   \n",
      "Tenure                                        -0.011806     0.002440   \n",
      "StreamingMovies                                0.007640    -0.010516   \n",
      "Contract_Month-to-month                        1.000000    -0.019789   \n",
      "StreamingTV                                   -0.019789     1.000000   \n",
      "Contract_Two Year                             -0.622856     0.002020   \n",
      "Contract_One year                             -0.565296     0.022054   \n",
      "Multiple                                      -0.020599     0.003097   \n",
      "Techie                                         0.001041     0.003436   \n",
      "InternetService_Fiber Optic                    0.005661    -0.005118   \n",
      "DeviceProtection                              -0.001215     0.002878   \n",
      "OnlineBackup                                   0.005056    -0.008043   \n",
      "InternetService_None                          -0.001267     0.002744   \n",
      "PaymentMethod_Electronic Check                 0.008502    -0.007548   \n",
      "Gender_Male                                   -0.002544     0.015094   \n",
      "Phone                                         -0.011708    -0.012464   \n",
      "\n",
      "                                Contract_Two Year  Contract_One year  \\\n",
      "Churn                                   -0.178337          -0.139043   \n",
      "Bandwidth_GB_Year                        0.020566          -0.003969   \n",
      "MonthlyCharge                            0.002262           0.012599   \n",
      "Tenure                                   0.019495          -0.006127   \n",
      "StreamingMovies                         -0.007049          -0.001904   \n",
      "Contract_Month-to-month                 -0.622856          -0.565296   \n",
      "StreamingTV                              0.002020           0.022054   \n",
      "Contract_Two Year                        1.000000          -0.293243   \n",
      "Contract_One year                       -0.293243           1.000000   \n",
      "Multiple                                 0.009212           0.015460   \n",
      "Techie                                  -0.006235           0.005302   \n",
      "InternetService_Fiber Optic              0.007298          -0.014613   \n",
      "DeviceProtection                        -0.005658           0.007450   \n",
      "OnlineBackup                            -0.004381          -0.001559   \n",
      "InternetService_None                    -0.011885           0.014080   \n",
      "PaymentMethod_Electronic Check           0.005017          -0.015680   \n",
      "Gender_Male                              0.014225          -0.011889   \n",
      "Phone                                    0.001471           0.012756   \n",
      "\n",
      "                                Multiple    Techie  \\\n",
      "Churn                           0.131771  0.066722   \n",
      "Bandwidth_GB_Year               0.006823 -0.009455   \n",
      "MonthlyCharge                   0.385979  0.007185   \n",
      "Tenure                         -0.010422 -0.010041   \n",
      "StreamingMovies                 0.004691 -0.004298   \n",
      "Contract_Month-to-month        -0.020599  0.001041   \n",
      "StreamingTV                     0.003097  0.003436   \n",
      "Contract_Two Year               0.009212 -0.006235   \n",
      "Contract_One year               0.015460  0.005302   \n",
      "Multiple                        1.000000 -0.004661   \n",
      "Techie                         -0.004661  1.000000   \n",
      "InternetService_Fiber Optic     0.009210  0.002100   \n",
      "DeviceProtection                0.003207  0.021346   \n",
      "OnlineBackup                   -0.002566  0.004540   \n",
      "InternetService_None           -0.023055 -0.005529   \n",
      "PaymentMethod_Electronic Check -0.010080  0.000834   \n",
      "Gender_Male                    -0.001219 -0.009921   \n",
      "Phone                           0.003398 -0.003081   \n",
      "\n",
      "                                InternetService_Fiber Optic  DeviceProtection  \\\n",
      "Churn                                             -0.058472          0.056489   \n",
      "Bandwidth_GB_Year                                 -0.061956         -0.007856   \n",
      "MonthlyCharge                                      0.286602          0.162735   \n",
      "Tenure                                            -0.003820         -0.028114   \n",
      "StreamingMovies                                    0.002211          0.019450   \n",
      "Contract_Month-to-month                            0.005661         -0.001215   \n",
      "StreamingTV                                       -0.005118          0.002878   \n",
      "Contract_Two Year                                  0.007298         -0.005658   \n",
      "Contract_One year                                 -0.014613          0.007450   \n",
      "Multiple                                           0.009210          0.003207   \n",
      "Techie                                             0.002100          0.021346   \n",
      "InternetService_Fiber Optic                        1.000000          0.006759   \n",
      "DeviceProtection                                   0.006759          1.000000   \n",
      "OnlineBackup                                       0.001925          0.009991   \n",
      "InternetService_None                              -0.461753          0.003062   \n",
      "PaymentMethod_Electronic Check                    -0.013539         -0.007813   \n",
      "Gender_Male                                       -0.008130          0.018678   \n",
      "Phone                                             -0.008126         -0.030339   \n",
      "\n",
      "                                OnlineBackup  InternetService_None  \\\n",
      "Churn                               0.050508             -0.037742   \n",
      "Bandwidth_GB_Year                   0.041740             -0.044727   \n",
      "MonthlyCharge                       0.259440             -0.237883   \n",
      "Tenure                              0.020802             -0.010098   \n",
      "StreamingMovies                     0.001434             -0.002972   \n",
      "Contract_Month-to-month             0.005056             -0.001267   \n",
      "StreamingTV                        -0.008043              0.002744   \n",
      "Contract_Two Year                  -0.004381             -0.011885   \n",
      "Contract_One year                  -0.001559              0.014080   \n",
      "Multiple                           -0.002566             -0.023055   \n",
      "Techie                              0.004540             -0.005529   \n",
      "InternetService_Fiber Optic         0.001925             -0.461753   \n",
      "DeviceProtection                    0.009991              0.003062   \n",
      "OnlineBackup                        1.000000             -0.002125   \n",
      "InternetService_None               -0.002125              1.000000   \n",
      "PaymentMethod_Electronic Check      0.004184              0.014217   \n",
      "Gender_Male                        -0.008713             -0.001956   \n",
      "Phone                              -0.003172              0.009773   \n",
      "\n",
      "                                PaymentMethod_Electronic Check  Gender_Male  \\\n",
      "Churn                                                 0.029914     0.028061   \n",
      "Bandwidth_GB_Year                                    -0.002818     0.006724   \n",
      "MonthlyCharge                                        -0.010610     0.008869   \n",
      "Tenure                                               -0.002885    -0.010922   \n",
      "StreamingMovies                                       0.001004     0.011291   \n",
      "Contract_Month-to-month                               0.008502    -0.002544   \n",
      "StreamingTV                                          -0.007548     0.015094   \n",
      "Contract_Two Year                                     0.005017     0.014225   \n",
      "Contract_One year                                    -0.015680    -0.011889   \n",
      "Multiple                                             -0.010080    -0.001219   \n",
      "Techie                                                0.000834    -0.009921   \n",
      "InternetService_Fiber Optic                          -0.013539    -0.008130   \n",
      "DeviceProtection                                     -0.007813     0.018678   \n",
      "OnlineBackup                                          0.004184    -0.008713   \n",
      "InternetService_None                                  0.014217    -0.001956   \n",
      "PaymentMethod_Electronic Check                        1.000000     0.012257   \n",
      "Gender_Male                                           0.012257     1.000000   \n",
      "Phone                                                 0.011639     0.001801   \n",
      "\n",
      "                                   Phone  \n",
      "Churn                          -0.026297  \n",
      "Bandwidth_GB_Year               0.001332  \n",
      "MonthlyCharge                  -0.018977  \n",
      "Tenure                          0.003256  \n",
      "StreamingMovies                -0.002588  \n",
      "Contract_Month-to-month        -0.011708  \n",
      "StreamingTV                    -0.012464  \n",
      "Contract_Two Year               0.001471  \n",
      "Contract_One year               0.012756  \n",
      "Multiple                        0.003398  \n",
      "Techie                         -0.003081  \n",
      "InternetService_Fiber Optic    -0.008126  \n",
      "DeviceProtection               -0.030339  \n",
      "OnlineBackup                   -0.003172  \n",
      "InternetService_None            0.009773  \n",
      "PaymentMethod_Electronic Check  0.011639  \n",
      "Gender_Male                     0.001801  \n",
      "Phone                           1.000000  \n"
     ]
    }
   ],
   "source": [
    "# Looking for high correlation between variables\n",
    "matrix = df3.corr()\n",
    "print(matrix)"
   ]
  },
  {
   "cell_type": "code",
   "execution_count": 180,
   "id": "157459db",
   "metadata": {},
   "outputs": [],
   "source": [
    "# Dropping Tenure due to high correlation with Bandwidth_GB_Year\n",
    "df3 = df3.drop(['Tenure'], axis=1)"
   ]
  },
  {
   "cell_type": "code",
   "execution_count": 181,
   "id": "7defb3dc",
   "metadata": {},
   "outputs": [
    {
     "data": {
      "text/plain": [
       "(10000, 17)"
      ]
     },
     "execution_count": 181,
     "metadata": {},
     "output_type": "execute_result"
    }
   ],
   "source": [
    "df3.shape"
   ]
  },
  {
   "cell_type": "code",
   "execution_count": 182,
   "id": "6ca762e1",
   "metadata": {},
   "outputs": [],
   "source": [
    "X=df3.drop(['Churn'], axis=1)\n",
    "y=df3['Churn']"
   ]
  },
  {
   "cell_type": "code",
   "execution_count": 183,
   "id": "983f0053",
   "metadata": {},
   "outputs": [
    {
     "name": "stdout",
     "output_type": "stream",
     "text": [
      "                           Feature        VIF\n",
      "0                Bandwidth_GB_Year   1.018552\n",
      "1                    MonthlyCharge  15.907459\n",
      "2                  StreamingMovies   6.872077\n",
      "3          Contract_Month-to-month  50.349703\n",
      "4                      StreamingTV   4.832178\n",
      "5                Contract_Two Year  23.216576\n",
      "6                Contract_One year  20.149911\n",
      "7                         Multiple   3.260394\n",
      "8                           Techie   1.001127\n",
      "9      InternetService_Fiber Optic   2.091425\n",
      "10                DeviceProtection   1.334272\n",
      "11                    OnlineBackup   2.087345\n",
      "12            InternetService_None   1.526877\n",
      "13  PaymentMethod_Electronic Check   1.001055\n",
      "14                     Gender_Male   1.001674\n",
      "15                           Phone   1.001860\n"
     ]
    }
   ],
   "source": [
    "vif_data = pd.DataFrame()\n",
    "vif_data['Feature'] = X.columns\n",
    "vif_data['VIF'] = [variance_inflation_factor(X.values, i)\n",
    "                  for i in range(len(X.columns))]\n",
    "print(vif_data)"
   ]
  },
  {
   "cell_type": "code",
   "execution_count": 184,
   "id": "12cd1017",
   "metadata": {},
   "outputs": [],
   "source": [
    "# Removing MonthlyCharge and Contract_Two Year due to high VIF\n",
    "X=df3.drop(['Churn', 'MonthlyCharge', 'Contract_Two Year'], axis=1)"
   ]
  },
  {
   "cell_type": "code",
   "execution_count": 185,
   "id": "4ae775ff",
   "metadata": {},
   "outputs": [
    {
     "name": "stdout",
     "output_type": "stream",
     "text": [
      "                           Feature       VIF\n",
      "0                Bandwidth_GB_Year  3.107640\n",
      "1                  StreamingMovies  1.901154\n",
      "2          Contract_Month-to-month  2.836364\n",
      "3                      StreamingTV  1.908183\n",
      "4                Contract_One year  1.720435\n",
      "5                         Multiple  1.790102\n",
      "6                           Techie  1.192495\n",
      "7      InternetService_Fiber Optic  2.098678\n",
      "8                 DeviceProtection  1.724905\n",
      "9                     OnlineBackup  1.771328\n",
      "10            InternetService_None  1.538107\n",
      "11  PaymentMethod_Electronic Check  1.485550\n",
      "12                     Gender_Male  1.837018\n",
      "13                           Phone  6.384130\n"
     ]
    }
   ],
   "source": [
    "vif_data = pd.DataFrame()\n",
    "vif_data['Feature'] = X.columns\n",
    "vif_data['VIF'] = [variance_inflation_factor(X.values, i)\n",
    "                  for i in range(len(X.columns))]\n",
    "print(vif_data)"
   ]
  },
  {
   "cell_type": "code",
   "execution_count": 186,
   "id": "9466e8f7",
   "metadata": {},
   "outputs": [
    {
     "data": {
      "text/plain": [
       "(10000, 14)"
      ]
     },
     "execution_count": 186,
     "metadata": {},
     "output_type": "execute_result"
    }
   ],
   "source": [
    "X.shape"
   ]
  },
  {
   "cell_type": "code",
   "execution_count": 187,
   "id": "2c8bdbd5",
   "metadata": {},
   "outputs": [],
   "source": [
    "df3 = df3.drop(['MonthlyCharge', 'Contract_Two Year'], axis = 1)"
   ]
  },
  {
   "cell_type": "code",
   "execution_count": 188,
   "id": "def06c57",
   "metadata": {},
   "outputs": [
    {
     "data": {
      "text/plain": [
       "(10000, 15)"
      ]
     },
     "execution_count": 188,
     "metadata": {},
     "output_type": "execute_result"
    }
   ],
   "source": [
    "df3.shape"
   ]
  },
  {
   "cell_type": "code",
   "execution_count": 189,
   "id": "fb7ef172",
   "metadata": {},
   "outputs": [
    {
     "name": "stdout",
     "output_type": "stream",
     "text": [
      "<class 'pandas.core.frame.DataFrame'>\n",
      "RangeIndex: 10000 entries, 0 to 9999\n",
      "Data columns (total 14 columns):\n",
      " #   Column                          Non-Null Count  Dtype  \n",
      "---  ------                          --------------  -----  \n",
      " 0   Bandwidth_GB_Year               10000 non-null  float64\n",
      " 1   StreamingMovies                 10000 non-null  int64  \n",
      " 2   Contract_Month-to-month         10000 non-null  uint8  \n",
      " 3   StreamingTV                     10000 non-null  int64  \n",
      " 4   Contract_One year               10000 non-null  uint8  \n",
      " 5   Multiple                        10000 non-null  int64  \n",
      " 6   Techie                          10000 non-null  int64  \n",
      " 7   InternetService_Fiber Optic     10000 non-null  uint8  \n",
      " 8   DeviceProtection                10000 non-null  int64  \n",
      " 9   OnlineBackup                    10000 non-null  int64  \n",
      " 10  InternetService_None            10000 non-null  uint8  \n",
      " 11  PaymentMethod_Electronic Check  10000 non-null  uint8  \n",
      " 12  Gender_Male                     10000 non-null  uint8  \n",
      " 13  Phone                           10000 non-null  int64  \n",
      "dtypes: float64(1), int64(7), uint8(6)\n",
      "memory usage: 683.7 KB\n"
     ]
    }
   ],
   "source": [
    "X.info()"
   ]
  },
  {
   "cell_type": "code",
   "execution_count": 190,
   "id": "605af758",
   "metadata": {},
   "outputs": [],
   "source": [
    "scaler = StandardScaler()"
   ]
  },
  {
   "cell_type": "code",
   "execution_count": 191,
   "id": "0d7efd53",
   "metadata": {},
   "outputs": [
    {
     "name": "stdout",
     "output_type": "stream",
     "text": [
      "   Churn  Bandwidth_GB_Year  StreamingMovies  Contract_Month-to-month  \\\n",
      "0      0          -1.138487         1.022247                -1.095767   \n",
      "1      1          -1.185876         1.022247                 0.912603   \n",
      "2      0          -0.612138         1.022247                -1.095767   \n",
      "3      0          -0.561857        -0.978237                -1.095767   \n",
      "4      1          -1.428184        -0.978237                 0.912603   \n",
      "\n",
      "   StreamingTV  Contract_One year  Multiple    Techie  \\\n",
      "0    -0.985899           1.938395 -0.924445 -0.449198   \n",
      "1     1.014302          -0.515891  1.081730  2.226191   \n",
      "2    -0.985899          -0.515891  1.081730  2.226191   \n",
      "3     1.014302          -0.515891 -0.924445  2.226191   \n",
      "4     1.014302          -0.515891 -0.924445 -0.449198   \n",
      "\n",
      "   InternetService_Fiber Optic  DeviceProtection  OnlineBackup  \\\n",
      "0                     1.126323          -0.88389      1.104203   \n",
      "1                     1.126323          -0.88389     -0.905631   \n",
      "2                    -0.887845          -0.88389     -0.905631   \n",
      "3                    -0.887845          -0.88389     -0.905631   \n",
      "4                     1.126323          -0.88389     -0.905631   \n",
      "\n",
      "   InternetService_None  PaymentMethod_Electronic Check  Gender_Male     Phone  \n",
      "0             -0.520083                       -0.717421     1.052581  0.320781  \n",
      "1             -0.520083                       -0.717421    -0.950046  0.320781  \n",
      "2             -0.520083                       -0.717421    -0.950046  0.320781  \n",
      "3             -0.520083                       -0.717421     1.052581  0.320781  \n",
      "4             -0.520083                       -0.717421     1.052581 -3.117389  \n"
     ]
    }
   ],
   "source": [
    "# Scaling helps avoid bias towards variables that are on a larger scale\n",
    "df3_pred = df3.drop(['Churn'], axis=1)\n",
    "df3_pred_std = pd.DataFrame(scaler.fit_transform(df3_pred), columns=df3_pred.columns)\n",
    "df3_resp = df3['Churn']\n",
    "frames = [df3_resp, df3_pred_std]\n",
    "df3_std = pd.concat(frames, axis=1)\n",
    "print(df3_std.head())"
   ]
  },
  {
   "cell_type": "code",
   "execution_count": 192,
   "id": "6185c9f3",
   "metadata": {},
   "outputs": [],
   "source": [
    "# Split the data\n",
    "X = df3_std.drop(['Churn'], axis=1)\n",
    "y = df3_std['Churn']\n",
    "X_train, X_test, y_train, y_test = train_test_split(X, y, test_size=0.3, \n",
    "                                                    random_state=16, stratify=y)"
   ]
  },
  {
   "cell_type": "code",
   "execution_count": 193,
   "id": "2bbc769a",
   "metadata": {},
   "outputs": [],
   "source": [
    "frames_train = [X_train, y_train]\n",
    "df3_train = pd.concat(frames_train, axis=1)\n",
    "\n",
    "frames_test = [X_test, y_test]\n",
    "df3_test = pd.concat(frames_test, axis=1)"
   ]
  },
  {
   "cell_type": "code",
   "execution_count": 194,
   "id": "b27cf6ad",
   "metadata": {},
   "outputs": [],
   "source": [
    "# Extracting csv file of train test data\n",
    "df3_train.to_csv(r'C:\\Users\\eric7\\OneDrive\\Desktop\\WGU\\D209_Data_Mining_1\\\\Eric_Colwell_train_dataset.csv')\n",
    "df3_test.to_csv(r'C:\\Users\\eric7\\OneDrive\\Desktop\\WGU\\D209_Data_Mining_1\\\\Eric_Colwell_test_dataset.csv')"
   ]
  },
  {
   "cell_type": "code",
   "execution_count": 195,
   "id": "7245e84d",
   "metadata": {},
   "outputs": [
    {
     "name": "stdout",
     "output_type": "stream",
     "text": [
      "7000\n",
      "3000\n",
      "0    5145\n",
      "1    1855\n",
      "Name: Churn, dtype: int64\n",
      "0    2205\n",
      "1     795\n",
      "Name: Churn, dtype: int64\n",
      "0.735\n",
      "0.735\n"
     ]
    }
   ],
   "source": [
    "# Confirm split\n",
    "print(len(df3_train))\n",
    "print(len(df3_test))\n",
    "print(df3_train['Churn'].value_counts())\n",
    "print(df3_test['Churn'].value_counts())\n",
    "print(len(df3_train[df3_train['Churn']==0])/len(df3_train))\n",
    "print(len(df3_test[df3_test['Churn']==0])/len(df3_test))"
   ]
  },
  {
   "cell_type": "code",
   "execution_count": 196,
   "id": "0e165bc8",
   "metadata": {},
   "outputs": [],
   "source": [
    "# Testing for over and underfitting\n",
    "# Setting arrays to stroe train and test accuracies\n",
    "neighbors = np.arange(1, 60)\n",
    "train_accuracy = np.empty(len(neighbors))\n",
    "test_accuracy = np.empty(len(neighbors))"
   ]
  },
  {
   "cell_type": "code",
   "execution_count": 197,
   "id": "30b75f4f",
   "metadata": {},
   "outputs": [],
   "source": [
    "# Loop over different values of k\n",
    "for i, k in enumerate(neighbors):\n",
    "    knn = KNeighborsClassifier(n_neighbors=k)\n",
    "    # Fit the classifier to the training data\n",
    "    knn.fit(X_train, y_train)\n",
    "    #Compute accuracy on the training set\n",
    "    train_accuracy[i] = knn.score(X_train, y_train)\n",
    "    #Compute accuracy on the testing set\n",
    "    test_accuracy[i] = knn.score(X_test, y_test)"
   ]
  },
  {
   "cell_type": "code",
   "execution_count": 198,
   "id": "8db07eef",
   "metadata": {},
   "outputs": [
    {
     "data": {
      "image/png": "[encoded data removed]",
      "text/plain": [
       "<Figure size 640x480 with 1 Axes>"
      ]
     },
     "metadata": {},
     "output_type": "display_data"
    }
   ],
   "source": [
    "# Generate plot\n",
    "plt.title('k-NN: Varying Number of Neighbors')\n",
    "plt.plot(neighbors, test_accuracy, label = 'Testing Accuracy')\n",
    "plt.plot(neighbors, train_accuracy, label = 'Training Accuracy')\n",
    "plt.legend()\n",
    "plt.xlabel('Number of Neighbors')\n",
    "plt.ylabel('Accuracy')\n",
    "plt.show()"
   ]
  },
  {
   "cell_type": "code",
   "execution_count": 199,
   "id": "22e2897f",
   "metadata": {},
   "outputs": [
    {
     "name": "stdout",
     "output_type": "stream",
     "text": [
      "0.8513333333333334\n"
     ]
    }
   ],
   "source": [
    "# Print the accuracy\n",
    "print(knn.score(X_test, y_test))"
   ]
  },
  {
   "cell_type": "code",
   "execution_count": 200,
   "id": "4c82d7d5",
   "metadata": {},
   "outputs": [],
   "source": [
    "knn.fit(X_train, y_train)\n",
    "y_pred = knn.predict(X_test)"
   ]
  },
  {
   "cell_type": "code",
   "execution_count": 201,
   "id": "189b166f",
   "metadata": {},
   "outputs": [
    {
     "name": "stdout",
     "output_type": "stream",
     "text": [
      "[[2127   78]\n",
      " [ 368  427]]\n",
      "              precision    recall  f1-score   support\n",
      "\n",
      "           0       0.85      0.96      0.91      2205\n",
      "           1       0.85      0.54      0.66       795\n",
      "\n",
      "    accuracy                           0.85      3000\n",
      "   macro avg       0.85      0.75      0.78      3000\n",
      "weighted avg       0.85      0.85      0.84      3000\n",
      "\n"
     ]
    }
   ],
   "source": [
    "matrix = confusion_matrix(y_test, y_pred)\n",
    "print(matrix)\n",
    "print(classification_report(y_test, y_pred))"
   ]
  },
  {
   "cell_type": "code",
   "execution_count": 202,
   "id": "6d5a0229",
   "metadata": {},
   "outputs": [
    {
     "name": "stdout",
     "output_type": "stream",
     "text": [
      "[[2095  110]\n",
      " [ 370  425]]\n",
      "              precision    recall  f1-score   support\n",
      "\n",
      "           0       0.85      0.95      0.90      2205\n",
      "           1       0.79      0.53      0.64       795\n",
      "\n",
      "    accuracy                           0.84      3000\n",
      "   macro avg       0.82      0.74      0.77      3000\n",
      "weighted avg       0.84      0.84      0.83      3000\n",
      "\n"
     ]
    }
   ],
   "source": [
    "# Instantiate a k-NN classifier: knn with neighbors = 6\n",
    "knn = KNeighborsClassifier(n_neighbors=6)\n",
    "# Fit the classifier to the training data\n",
    "knn.fit(X_train, y_train)\n",
    "# Predict the labels of the test data: y_pred\n",
    "y_pred = knn.predict(X_test)\n",
    "# Generate the confusion matrix and classification report\n",
    "print(confusion_matrix(y_test, y_pred))\n",
    "print(classification_report(y_test, y_pred))"
   ]
  },
  {
   "cell_type": "code",
   "execution_count": 203,
   "id": "357c3e10",
   "metadata": {},
   "outputs": [
    {
     "name": "stdout",
     "output_type": "stream",
     "text": [
      "0.84\n"
     ]
    }
   ],
   "source": [
    "# Print the accuracy\n",
    "print(knn.score(X_test, y_test))"
   ]
  },
  {
   "cell_type": "code",
   "execution_count": 204,
   "id": "e571c4fa",
   "metadata": {},
   "outputs": [
    {
     "name": "stdout",
     "output_type": "stream",
     "text": [
      "[[2095  110]\n",
      " [ 356  439]]\n",
      "              precision    recall  f1-score   support\n",
      "\n",
      "           0       0.85      0.95      0.90      2205\n",
      "           1       0.80      0.55      0.65       795\n",
      "\n",
      "    accuracy                           0.84      3000\n",
      "   macro avg       0.83      0.75      0.78      3000\n",
      "weighted avg       0.84      0.84      0.83      3000\n",
      "\n"
     ]
    }
   ],
   "source": [
    "# Instantiate a k-NN classifier: knn with neighbors = 8\n",
    "knn = KNeighborsClassifier(n_neighbors=8)\n",
    "# Fit the classifier to the training data\n",
    "knn.fit(X_train, y_train)\n",
    "# Predict the labels of the test data: y_pred\n",
    "y_pred = knn.predict(X_test)\n",
    "# Generate the confusion matrix and classification report\n",
    "print(confusion_matrix(y_test, y_pred))\n",
    "print(classification_report(y_test, y_pred))"
   ]
  },
  {
   "cell_type": "code",
   "execution_count": 205,
   "id": "7b8f079d",
   "metadata": {},
   "outputs": [
    {
     "name": "stdout",
     "output_type": "stream",
     "text": [
      "0.8446666666666667\n"
     ]
    }
   ],
   "source": [
    "# Print the accuracy\n",
    "print(knn.score(X_test, y_test))"
   ]
  },
  {
   "cell_type": "code",
   "execution_count": 206,
   "id": "64ca4cc8",
   "metadata": {},
   "outputs": [
    {
     "name": "stdout",
     "output_type": "stream",
     "text": [
      "[[2091  114]\n",
      " [ 335  460]]\n",
      "              precision    recall  f1-score   support\n",
      "\n",
      "           0       0.86      0.95      0.90      2205\n",
      "           1       0.80      0.58      0.67       795\n",
      "\n",
      "    accuracy                           0.85      3000\n",
      "   macro avg       0.83      0.76      0.79      3000\n",
      "weighted avg       0.85      0.85      0.84      3000\n",
      "\n"
     ]
    }
   ],
   "source": [
    "# Instantiate a k-NN classifier: knn with neighbors = 10\n",
    "knn = KNeighborsClassifier(n_neighbors=10)\n",
    "# Fit the classifier to the training data\n",
    "knn.fit(X_train, y_train)\n",
    "# Predict the labels of the test data: y_pred\n",
    "y_pred = knn.predict(X_test)\n",
    "# Generate the confusion matrix and classification report\n",
    "print(confusion_matrix(y_test, y_pred))\n",
    "print(classification_report(y_test, y_pred))"
   ]
  },
  {
   "cell_type": "code",
   "execution_count": 207,
   "id": "ea04f4ce",
   "metadata": {},
   "outputs": [
    {
     "name": "stdout",
     "output_type": "stream",
     "text": [
      "0.8503333333333334\n"
     ]
    }
   ],
   "source": [
    "# Print the accuracy\n",
    "print(knn.score(X_test, y_test))"
   ]
  },
  {
   "cell_type": "code",
   "execution_count": 208,
   "id": "f283fc16",
   "metadata": {},
   "outputs": [],
   "source": [
    "y_pred_prob = knn.predict_proba(X_test)[:,1]"
   ]
  },
  {
   "cell_type": "code",
   "execution_count": 209,
   "id": "86d63b4f",
   "metadata": {},
   "outputs": [],
   "source": [
    "false_positive_rate, true_positive_rate, thresholds = roc_curve(y_test, \n",
    "                                                                y_pred_prob)"
   ]
  },
  {
   "cell_type": "code",
   "execution_count": 210,
   "id": "03eb1423",
   "metadata": {},
   "outputs": [
    {
     "data": {
      "image/png": "[encoded data removed]",
      "text/plain": [
       "<Figure size 640x480 with 1 Axes>"
      ]
     },
     "metadata": {},
     "output_type": "display_data"
    }
   ],
   "source": [
    "plt.plot([0,1], [0,1], 'k--')\n",
    "plt.plot(false_positive_rate, true_positive_rate, label = 'KNN')\n",
    "plt.xlabel('False positive rate')\n",
    "plt.ylabel('True positive rate')\n",
    "plt.title('KNN ROC curve')\n",
    "plt.show()"
   ]
  },
  {
   "cell_type": "code",
   "execution_count": 211,
   "id": "e64d78a2",
   "metadata": {},
   "outputs": [
    {
     "name": "stdout",
     "output_type": "stream",
     "text": [
      "AUC: 0.9143670046635006\n"
     ]
    }
   ],
   "source": [
    "# Print the AUC score\n",
    "auc = roc_auc_score(y_test, y_pred_prob)\n",
    "print('AUC: {}'.format(auc))"
   ]
  },
  {
   "cell_type": "code",
   "execution_count": 212,
   "id": "3a3f7907",
   "metadata": {},
   "outputs": [
    {
     "data": {
      "image/png": "[encoded data removed]",
      "text/plain": [
       "<Figure size 640x480 with 1 Axes>"
      ]
     },
     "metadata": {},
     "output_type": "display_data"
    }
   ],
   "source": [
    "plt.plot([0,1], [0,1], 'k--')\n",
    "plt.plot(false_positive_rate, true_positive_rate, label = 'KNN')\n",
    "plt.fill_between(false_positive_rate, true_positive_rate, \n",
    "                 facecolor='lightgreen', alpha=0.7)\n",
    "plt.text(0.95, 0.05, 'AUC = %0.4f' % auc, ha='right', \n",
    "         fontsize=12, weight='bold', color='blue')\n",
    "plt.xlabel('False positive rate')\n",
    "plt.ylabel('True positive rate')\n",
    "plt.title('AUC & ROC curve')\n",
    "plt.show()"
   ]
  },
  {
   "cell_type": "code",
   "execution_count": null,
   "id": "3dd4336d",
   "metadata": {},
   "outputs": [],
   "source": []
  }
 ],
 "metadata": {
  "kernelspec": {
   "display_name": "Python 3 (ipykernel)",
   "language": "python",
   "name": "python3"
  },
  "language_info": {
   "codemirror_mode": {
    "name": "ipython",
    "version": 3
   },
   "file_extension": ".py",
   "mimetype": "text/x-python",
   "name": "python",
   "nbconvert_exporter": "python",
   "pygments_lexer": "ipython3",
   "version": "3.9.13"
  }
 },
 "nbformat": 4,
 "nbformat_minor": 5
}
